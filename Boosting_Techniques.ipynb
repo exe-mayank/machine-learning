{
  "nbformat": 4,
  "nbformat_minor": 0,
  "metadata": {
    "colab": {
      "provenance": []
    },
    "kernelspec": {
      "name": "python3",
      "display_name": "Python 3"
    },
    "language_info": {
      "name": "python"
    }
  },
  "cells": [
    {
      "cell_type": "markdown",
      "source": [
        "1.  What is Boosting in Machine Learning"
      ],
      "metadata": {
        "id": "ctWjgMWfxS1D"
      }
    },
    {
      "cell_type": "markdown",
      "source": [],
      "metadata": {
        "id": "xT5ZypoxxYyU"
      }
    },
    {
      "cell_type": "markdown",
      "source": [
        "Boosting is a powerful ensemble technique in machine learning that aims to convert a group of weak learners into a strong one. A weak learner is a model that performs slightly better than random guessing. Boosting works by combining multiple weak models, typically decision trees, in a sequential manner where each new model focuses on correcting the errors made by the previous ones.\n",
        "\n",
        "The core idea behind boosting is to assign weights to data points. Initially, all data points have equal weights. After each round of training, the algorithm increases the weights of the misclassified instances so that the next model pays more attention to them. This process continues for a set number of iterations or until a specified accuracy is achieved. In the end, the predictions of all the models are combined, usually through weighted voting or averaging, to produce a final output.\n",
        "\n",
        "One of the most well-known boosting algorithms is AdaBoost (Adaptive Boosting). Others include Gradient Boosting and its optimized versions like XGBoost, LightGBM, and CatBoost. These algorithms are widely used in machine learning competitions and real-world applications due to their high accuracy and robustness.\n",
        "\n",
        "Boosting can significantly improve model performance, especially for complex datasets. However, it can be sensitive to noisy data and overfitting if not properly regularized. Techniques like learning rate adjustment, early stopping, and pruning are often used to mitigate these issues."
      ],
      "metadata": {
        "id": "vbSarhmvxkwJ"
      }
    },
    {
      "cell_type": "markdown",
      "source": [
        "2. How does Boosting differ from Bagging"
      ],
      "metadata": {
        "id": "D9SJhznqxlpN"
      }
    },
    {
      "cell_type": "markdown",
      "source": [
        "Boosting and Bagging are ensemble techniques in machine learning used to improve model performance by combining multiple models, but they differ significantly in approach and purpose.\n",
        "\n",
        "Bagging (Bootstrap Aggregating) aims to reduce variance and avoid overfitting. It trains multiple models in parallel on different random subsets of the training data created using bootstrapping (sampling with replacement). Each model gets a different perspective on the data, and their predictions are aggregated—typically by averaging for regression or majority voting for classification. Since the models are trained independently, bagging is highly effective with unstable algorithms like decision trees. A classic example is the Random Forest, which is a collection of decision trees trained via bagging.\n",
        "\n",
        "Boosting, on the other hand, focuses on reducing bias and improving model accuracy. It trains models sequentially, where each new model is built to correct the errors of the previous ones. Boosting assigns more weight to Boosting assigns more weight to the misclassified instances, making the next model in the sequence focus more on the hard-to-predict examples. This process continues for several iterations, and the final prediction is a weighted combination of all the weak learners. Unlike bagging, where all models contribute equally, in boosting, better-performing models have more influence. Popular boosting algorithms include AdaBoost, Gradient Boosting, XGBoost, LightGBM, and CatBoost.\n",
        "\n",
        "While both methods aim to improve accuracy, bagging is more robust to overfitting because of its randomness and model independence. Boosting, being more focused on reducing bias, can achieve higher accuracy but is also more prone to overfitting if not properly regularized. Boosting is particularly useful when the base model is too simple and underfits the data, whereas bagging is preferred when the model is complex and overfits."
      ],
      "metadata": {
        "id": "_SFmQIR2xoie"
      }
    },
    {
      "cell_type": "markdown",
      "source": [
        "3. What is the key idea behind AdaBoost"
      ],
      "metadata": {
        "id": "VQTMu8t0x8_R"
      }
    },
    {
      "cell_type": "markdown",
      "source": [
        "The key idea behind AdaBoost (Adaptive Boosting) is to improve the performance of weak learners by focusing on the mistakes they make. AdaBoost combines multiple weak classifiers—often simple models like decision stumps—into a single, strong classifier by training them sequentially and adjusting the importance of each data point based on previous errors.\n",
        "\n",
        "At the start, AdaBoost assigns equal weights to all training examples. After the first weak learner is trained, AdaBoost evaluates its performance. The samples that were misclassified are then given higher weights, while correctly classified ones receive lower weights. This means that in the next iteration, the model will focus more on the “hard” examples that were previously misclassified.\n",
        "\n",
        "This process continues for a specified number of iterations. Each new model added is trained on a weighted version of the dataset and contributes to the final prediction based on its accuracy—better models are given more influence (i.e., higher weight) in the final decision.\n",
        "\n",
        "The final prediction is made through a weighted majority vote (for classification) or a weighted average (for regression) of all the weak learners.\n",
        "\n",
        "The strength of AdaBoost lies in its adaptive nature—it continually adjusts its focus to the mistakes made in previous rounds. As a result, it can transform a set of poor individual classifiers into a highly accurate ensemble.\n",
        "\n",
        "However, AdaBoost can be sensitive to outliers and noisy data, as it tends to give them higher weights. Proper tuning and clean data help mitigate this issue."
      ],
      "metadata": {
        "id": "Xv0iqNdKx_q9"
      }
    },
    {
      "cell_type": "markdown",
      "source": [
        "4. Explain the working of AdaBoost with an example"
      ],
      "metadata": {
        "id": "x-4EpBeTyK0J"
      }
    },
    {
      "cell_type": "markdown",
      "source": [
        "AdaBoost (Adaptive Boosting) works by combining multiple weak classifiers in sequence, each one trained to correct the mistakes of the previous ones. Let’s walk through a basic example using binary classification:\n",
        "\n",
        "Example:\n",
        "Suppose we have a small dataset with 5 samples, labeled either +1 or -1.\n",
        "\n",
        "\n",
        "Sample\tTrue Label\n",
        "A\t+1\n",
        "B\t-1\n",
        "C\t+1\n",
        "D\t-1\n",
        "E\t+1\n",
        "Step-by-Step:\n",
        "Initialize weights: Each sample starts with equal weight, so each has a weight of 1/5.\n",
        "\n",
        "Train Weak Learner #1: A simple decision stump (e.g., split on one feature) is trained. Suppose it correctly classifies A, B, and D, but misclassifies C and E.\n",
        "\n",
        "Update Weights:\n",
        "\n",
        "Increase the weights of C and E (misclassified samples).\n",
        "\n",
        "Decrease the weights of A, B, and D (correctly classified).\n",
        "\n",
        "Train Weak Learner #2:\n",
        "\n",
        "This learner now focuses more on C and E due to their higher weights.\n",
        "\n",
        "Suppose it classifies all samples correctly except D.\n",
        "\n",
        "Repeat for several rounds.\n",
        "\n",
        "Final Model:\n",
        "\n",
        "Each weak learner is assigned a weight based on its accuracy.\n",
        "\n",
        "Final prediction is a weighted vote of all learners.\n",
        "\n",
        "Result:\n",
        "The final AdaBoost classifier is a combination of all weak learners, each contributing based on its performance. It performs significantly better than any single weak learner alone.\n",
        "\n",
        "This example shows how AdaBoost adaptively focuses on errors to build a strong model over time."
      ],
      "metadata": {
        "id": "d6j7W0tgyNYV"
      }
    },
    {
      "cell_type": "markdown",
      "source": [
        "5.  What is Gradient Boosting, and how is it different from AdaBoost"
      ],
      "metadata": {
        "id": "nQ__CV3zyX3Q"
      }
    },
    {
      "cell_type": "markdown",
      "source": [
        "Gradient Boosting is an advanced ensemble learning technique that builds a strong model by combining many weak learners, typically decision trees, in a sequential fashion. Unlike AdaBoost, which focuses on reweighting misclassified samples, Gradient Boosting works by minimizing a loss function using gradient descent.\n",
        "\n",
        "The process begins by making an initial prediction, such as the average value for regression. It then computes the residuals—the difference between actual values and the current predictions. A new model is trained to predict these residuals. The predictions from this new model are added to the previous ones, adjusted by a learning rate that controls how much each new model influences the final output. This process is repeated for several iterations, and each new model focuses on correcting the errors (gradients) made by the sum of all previous models.\n",
        "\n",
        "The core idea is to move the model predictions closer to the true values by taking steps in the direction that reduces the loss most effectively.\n",
        "\n",
        "Difference from AdaBoost:\n",
        "While both AdaBoost and Gradient Boosting build models sequentially, AdaBoost adjusts the weights of individual training examples based on whether they were previously misclassified. It emphasizes \"hard\" cases by making them more influential in the next round. In contrast, Gradient Boosting fits models to the residual errors and uses gradient descent to optimize a differentiable loss function.\n",
        "\n",
        "In summary, Gradient Boosting is more general and flexible than AdaBoost. It can handle various loss functions and often performs better, especially when using regularization techniques like shrinkage and tree pruning to avoid overfitting."
      ],
      "metadata": {
        "id": "NOgo62mXyczG"
      }
    },
    {
      "cell_type": "markdown",
      "source": [
        "6. What is the loss function in Gradient Boosting"
      ],
      "metadata": {
        "id": "VlR8lzx6yqj3"
      }
    },
    {
      "cell_type": "markdown",
      "source": [
        "In Gradient Boosting, the loss function is crucial for measuring how well the model's predictions match the actual target values. During each boosting iteration, the model seeks to minimize the loss function by adjusting predictions based on the residual errors (gradients) of the previous model. The loss function guides the algorithm in selecting the direction in which the new model should move to improve accuracy.\n",
        "\n",
        "Common Loss Functions in Gradient Boosting:\n",
        "For Regression:\n",
        "\n",
        "Mean Squared Error (MSE) is commonly used in regression tasks. It calculates the squared difference between the true target values (\n",
        "𝑦\n",
        "𝑖\n",
        "y\n",
        "i\n",
        "​\n",
        " ) and the predicted values (\n",
        "𝑦\n",
        "^\n",
        "𝑖\n",
        "y\n",
        "^\n",
        "​\n",
        "  \n",
        "i\n",
        "​\n",
        " ):\n",
        "\n",
        "MSE\n",
        "=\n",
        "1\n",
        "𝑁\n",
        "∑\n",
        "𝑖\n",
        "=\n",
        "1\n",
        "𝑁\n",
        "(\n",
        "𝑦\n",
        "𝑖\n",
        "−\n",
        "𝑦\n",
        "^\n",
        "𝑖\n",
        ")\n",
        "2\n",
        "MSE=\n",
        "N\n",
        "1\n",
        "​\n",
        "  \n",
        "i=1\n",
        "∑\n",
        "N\n",
        "​\n",
        " (y\n",
        "i\n",
        "​\n",
        " −\n",
        "y\n",
        "^\n",
        "​\n",
        "  \n",
        "i\n",
        "​\n",
        " )\n",
        "2\n",
        "\n",
        "MSE penalizes larger errors more heavily, which makes it sensitive to outliers and widely used in standard regression tasks.\n",
        "\n",
        "For Classification:\n",
        "\n",
        "Logarithmic Loss (Log Loss) is used for binary classification, and categorical cross-entropy is used for multi-class classification. For binary classification, it is defined as:\n",
        "\n",
        "Log Loss\n",
        "=\n",
        "−\n",
        "1\n",
        "𝑁\n",
        "∑\n",
        "𝑖\n",
        "=\n",
        "1\n",
        "𝑁\n",
        "[\n",
        "𝑦\n",
        "𝑖\n",
        "log\n",
        "⁡\n",
        "(\n",
        "𝑦\n",
        "^\n",
        "𝑖\n",
        ")\n",
        "+\n",
        "(\n",
        "1\n",
        "−\n",
        "𝑦\n",
        "𝑖\n",
        ")\n",
        "log\n",
        "⁡\n",
        "(\n",
        "1\n",
        "−\n",
        "𝑦\n",
        "^\n",
        "𝑖\n",
        ")\n",
        "]\n",
        "Log Loss=−\n",
        "N\n",
        "1\n",
        "​\n",
        "  \n",
        "i=1\n",
        "∑\n",
        "N\n",
        "​\n",
        " [y\n",
        "i\n",
        "​\n",
        " log(\n",
        "y\n",
        "^\n",
        "​\n",
        "  \n",
        "i\n",
        "​\n",
        " )+(1−y\n",
        "i\n",
        "​\n",
        " )log(1−\n",
        "y\n",
        "^\n",
        "​\n",
        "  \n",
        "i\n",
        "​\n",
        " )]\n",
        "where\n",
        "𝑦\n",
        "𝑖\n",
        "y\n",
        "i\n",
        "​\n",
        "  is the true label (0 or 1) and\n",
        "𝑦\n",
        "^\n",
        "𝑖\n",
        "y\n",
        "^\n",
        "​\n",
        "  \n",
        "i\n",
        "​\n",
        "  is the predicted probability.\n",
        "\n",
        "Custom Loss Functions:\n",
        "\n",
        "Gradient Boosting is flexible, allowing the use of user-defined loss functions as long as they are differentiable, making it adaptable for specialized tasks."
      ],
      "metadata": {
        "id": "0HQviPeoyvpf"
      }
    },
    {
      "cell_type": "markdown",
      "source": [
        "7. How does XGBoost improve over traditional Gradient Boosting"
      ],
      "metadata": {
        "id": "qEXy8vFKy_Vd"
      }
    },
    {
      "cell_type": "markdown",
      "source": [
        "XGBoost (Extreme Gradient Boosting) improves upon traditional Gradient Boosting in several key areas to enhance both performance and efficiency. Here’s how:\n",
        "\n",
        "1. Regularization:\n",
        "Traditional Gradient Boosting lacks regularization, making it prone to overfitting when the model becomes too complex.\n",
        "\n",
        "XGBoost incorporates L1 (Lasso) and L2 (Ridge) regularization into the loss function, which helps control model complexity and reduces the risk of overfitting by penalizing large coefficients.\n",
        "\n",
        "2. Parallelization:\n",
        "Traditional Gradient Boosting builds trees sequentially, making it slower, especially for large datasets.\n",
        "\n",
        "XGBoost uses parallel processing to train models faster. It can split tree-building tasks across multiple processors or threads, significantly speeding up the training process.\n",
        "\n",
        "3. Handling Missing Data:\n",
        "Traditional Gradient Boosting requires missing values to be imputed before training.\n",
        "\n",
        "XGBoost can automatically handle missing data, finding the optimal way to deal with missing values during training.\n",
        "\n",
        "4. Tree Pruning:\n",
        "Traditional Gradient Boosting uses a greedy, depth-first approach to build trees, which may not always yield the best results.\n",
        "\n",
        "XGBoost uses a post-pruning technique, allowing for more controlled tree growth and better model performance by minimizing unnecessary splits.\n",
        "\n",
        "5. Learning Rate Optimization:\n",
        "XGBoost employs shrinkage, which scales down each new tree’s contribution, leading to more gradual learning and better model generalization.\n",
        "\n",
        "6. Scalability:\n",
        "XGBoost is designed for scalability and can efficiently handle large datasets using distributed computing, making it faster than traditional Gradient Boosting for large-scale problems.\n",
        "\n",
        "These improvements make XGBoost faster, more accurate, and more robust compared to traditional Gradient Boosting, especially on large datasets."
      ],
      "metadata": {
        "id": "v-xkahngzEeG"
      }
    },
    {
      "cell_type": "markdown",
      "source": [
        "8. What is the difference between XGBoost and CatBoost"
      ],
      "metadata": {
        "id": "c3kmAEY6zOeQ"
      }
    },
    {
      "cell_type": "markdown",
      "source": [
        "XGBoost and CatBoost are both popular gradient boosting frameworks, but they have key differences in terms of algorithm design, performance optimization, and specific features. Below is a comparison of XGBoost and CatBoost highlighting their main differences:\n",
        "\n",
        "1. Handling Categorical Features:\n",
        "XGBoost: Requires manual preprocessing of categorical features, such as one-hot encoding or label encoding. This can be time-consuming and sometimes inefficient, especially with high-cardinality categorical variables.\n",
        "\n",
        "CatBoost: Automatically handles categorical features without the need for explicit encoding. CatBoost uses a special algorithm to process categorical data efficiently, which can significantly reduce the time and complexity of preprocessing.\n",
        "\n",
        "2. Model Training Process:\n",
        "XGBoost: The training process follows the traditional gradient boosting method, where each tree is fit to minimize residual errors iteratively.\n",
        "\n",
        "CatBoost: Introduces ordered boosting, a technique that reduces bias caused by the ordering of the data. It also uses a more sophisticated method of gradient computation and has an additional shuffling mechanism to improve model stability and avoid overfitting.\n",
        "\n",
        "3. Handling of Overfitting:\n",
        "XGBoost: Offers regularization techniques, including L1 and L2 regularization, which help control model complexity and prevent overfitting.\n",
        "\n",
        "CatBoost: While XGBoost uses regularization, CatBoost uses additional techniques, such as oblivious trees (symmetric decision trees) that help reduce overfitting by making the model more stable and less prone to noise in the data.\n",
        "\n",
        "4. Performance and Speed:\n",
        "XGBoost: Known for its speed and scalability in handling large datasets, especially with the parallelization features.\n",
        "\n",
        "CatBoost: CatBoost is designed to be efficient with less data preprocessing and better handling of categorical variables. While it may be slightly slower in certain cases, its automatic handling of categorical features and better generalization in some cases can make it competitive in terms of overall performance.\n",
        "\n",
        "5. Interpretability:\n",
        "XGBoost: The model can be interpreted using techniques like SHAP values (Shapley additive explanations), which explain the contribution of each feature to a prediction.\n",
        "\n",
        "CatBoost: CatBoost also supports SHAP and LIME for model interpretation, and it is known for producing more interpretable results due to its handling of categorical variables and its more stable training process.\n",
        "\n",
        "6. Ease of Use:\n",
        "XGBoost: Requires more manual tuning and data preprocessing (especially for categorical data) before training.\n",
        "\n",
        "CatBoost: Offers a more user-friendly interface with less need for data preprocessing. Its automatic handling of categorical variables makes it easier to implement for users working with datasets that have categorical features.\n",
        "\n",
        "7. Use Cases:\n",
        "XGBoost: Often the go-to choice for structured/tabular data, especially when there is a need for high control over the model training process.\n",
        "\n",
        "CatBoost: Works particularly well when there are many categorical features in the dataset. It is widely used in situations where automatic handling of categorical data is crucial."
      ],
      "metadata": {
        "id": "nw6HKdG4zYc2"
      }
    },
    {
      "cell_type": "markdown",
      "source": [
        "9. What are some real-world applications of Boosting techniques"
      ],
      "metadata": {
        "id": "3RRY-WyEzZKn"
      }
    },
    {
      "cell_type": "markdown",
      "source": [
        "Boosting techniques like XGBoost, AdaBoost, and CatBoost are widely used in real-world applications due to their effectiveness in improving predictive accuracy. Here are some notable applications:\n",
        "\n",
        "Finance:\n",
        "\n",
        "Fraud Detection: Boosting models are used to detect fraudulent transactions by identifying patterns in transaction data.\n",
        "\n",
        "Credit Scoring: Financial institutions use boosting to assess the risk of loan defaults by analyzing customer data, credit history, and transaction patterns.\n",
        "\n",
        "Healthcare:\n",
        "\n",
        "Disease Prediction: Boosting is applied to predict diseases like cancer, diabetes, and heart disease by analyzing patient data, medical history, and test results.\n",
        "\n",
        "Medical Imaging: Boosting techniques help in detecting and classifying abnormalities in medical images like X-rays and CT scans.\n",
        "\n",
        "E-commerce:\n",
        "\n",
        "Recommendation Systems: Boosting models help recommend products based on customer behavior, preferences, and purchase history.\n",
        "\n",
        "Customer Segmentation: It is used to group customers based on behavior, enabling personalized marketing and offers.\n",
        "\n",
        "Marketing:\n",
        "\n",
        "Click-Through Rate (CTR) Prediction: Boosting models predict the likelihood of a user clicking an ad, helping optimize ad targeting.\n",
        "\n",
        "Churn Prediction: Used by telecom and subscription-based companies to predict customer churn and take proactive retention measures.\n",
        "\n",
        "Autonomous Vehicles:\n",
        "\n",
        "Boosting is used in self-driving cars to predict road conditions, obstacles, and optimize decision-making for safe navigation.\n",
        "\n",
        "Boosting techniques are crucial in handling complex data, improving accuracy, and providing actionable insights across diverse industries."
      ],
      "metadata": {
        "id": "gRukxlsVzb3r"
      }
    },
    {
      "cell_type": "markdown",
      "source": [
        "9.  How does regularization help in XGBoost"
      ],
      "metadata": {
        "id": "cUNCd45zzqvi"
      }
    },
    {
      "cell_type": "markdown",
      "source": [
        "Regularization in XGBoost helps to prevent overfitting, which can occur when a model becomes too complex and starts to fit noise or random fluctuations in the training data rather than capturing the underlying patterns. XGBoost introduces L1 (Lasso) and L2 (Ridge) regularization directly into the objective function, providing additional control over the model complexity and improving generalization.\n",
        "\n",
        "Key Roles of Regularization in XGBoost:\n",
        "Control Over Model Complexity:\n",
        "\n",
        "L1 Regularization (Lasso): This term penalizes the absolute values of the weights, encouraging sparsity in the model. It can force some weights to become zero, effectively selecting important features and discarding irrelevant ones. This is particularly useful for high-dimensional datasets where feature selection is critical.\n",
        "\n",
        "L2 Regularization (Ridge): This term penalizes the squared values of the weights, shrinking them towards zero. L2 regularization reduces the impact of large weights, leading to a smoother model and helping prevent overfitting by discouraging overly large tree splits.\n",
        "\n",
        "Prevention of Overfitting: Regularization helps ensure that the model does not become too complex by introducing a penalty for large weights or too many splits in the decision trees. By balancing the fit to the training data and model complexity, regularization allows XGBoost to generalize better to unseen data.\n",
        "\n",
        "Improved Model Stability: Regularization improves the stability of the model by reducing variance, making it less sensitive to noise and fluctuations in the training data. This results in better performance on new, unseen data.\n",
        "\n",
        "Conclusion:"
      ],
      "metadata": {
        "id": "ALnJodSlztPR"
      }
    },
    {
      "cell_type": "markdown",
      "source": [
        "11.  What are some hyperparameters to tune in Gradient Boosting models"
      ],
      "metadata": {
        "id": "pExDaC05zzka"
      }
    },
    {
      "cell_type": "markdown",
      "source": [
        "When tuning Gradient Boosting models, several key hyperparameters need to be adjusted for optimal performance:\n",
        "\n",
        "Learning Rate (eta): This controls how much each new tree contributes to the final prediction. A smaller learning rate requires more trees but generally leads to better generalization. Typical values range from 0.01 to 0.1.\n",
        "\n",
        "Number of Estimators (n_estimators): This is the number of trees to build. More estimators generally improve performance but can lead to overfitting if the learning rate is too high. It is often tuned alongside the learning rate.\n",
        "\n",
        "Max Depth (max_depth): This parameter determines the depth of each tree. Deeper trees capture more complex relationships but are more prone to overfitting. A typical range is 3–10.\n",
        "\n",
        "Min Samples Split (min_samples_split): The minimum number of samples required to split a node. Larger values prevent the model from learning overly specific patterns, which can help avoid overfitting.\n",
        "\n",
        "Min Samples Leaf (min_samples_leaf): This defines the minimum number of samples required in a leaf node. Larger values make the model more conservative, helping reduce overfitting by ensuring that each leaf has more data.\n",
        "\n",
        "Subsample: This parameter controls the fraction of samples used to train each tree. Using a value less than 1.0 helps introduce randomness and reduce overfitting.\n",
        "\n",
        "Regularization (L1 and L2): Regularization parameters, such as alpha (L1) and lambda (L2), penalize large coefficients, helping prevent overfitting by controlling model complexity.\n",
        "\n",
        "Tuning these hyperparameters carefully balances the model's ability to fit the data and generalize to new, unseen data."
      ],
      "metadata": {
        "id": "408HaLsdz2Ms"
      }
    },
    {
      "cell_type": "markdown",
      "source": [
        "12.  What is the concept of Feature Importance in Boosting"
      ],
      "metadata": {
        "id": "BnzXqriy0BWx"
      }
    },
    {
      "cell_type": "markdown",
      "source": [
        "Feature Importance in boosting refers to the technique used to identify and rank the contribution of each feature (or variable) in making predictions in a boosting model. It helps in understanding which features are most influential in the model’s decision-making process. In boosting techniques like XGBoost, AdaBoost, and LightGBM, feature importance provides insights into the relationship between input variables and the predicted output.\n",
        "\n",
        "Types of Feature Importance:\n",
        "Weight-based Importance:\n",
        "\n",
        "Definition: In this method, feature importance is determined by counting how many times a feature is used to split the data across all the trees in the model.\n",
        "\n",
        "Explanation: If a feature is used more frequently for splitting, it is considered more important. This is common in models like XGBoost.\n",
        "\n",
        "Example: If a feature appears in the root node of several trees, it indicates that this feature is critical in making decisions.\n",
        "\n",
        "Gain-based Importance:\n",
        "\n",
        "Definition: Gain measures the improvement in the model’s performance (such as reduction in loss) when a feature is used to split a node. The higher the gain, the more important the feature.\n",
        "\n",
        "Explanation: This method focuses on how much a particular feature contributes to reducing the model's error or increasing accuracy.\n",
        "\n",
        "Example: If using a feature results in a significant decrease in prediction error, its importance will be higher.\n",
        "\n",
        "Cover-based Importance:\n",
        "\n",
        "Definition: This measures how many data points (or how much weight) a feature covers during training.\n",
        "\n",
        "Explanation: Features that result in splits with many data points are considered important because they affect a large portion of the data.\n",
        "\n",
        "Example: Features that divide the data into large groups or those that cover a large fraction of the training dataset contribute more.\n",
        "\n",
        "Importance in Practice:\n",
        "Model Interpretation: Feature importance helps interpret and explain the model, making it easier to understand which features drive predictions.\n",
        "\n",
        "Feature Selection: By identifying unimportant features, it allows for feature selection, which reduces the dimensionality of the model, speeds up training, and may reduce overfitting.\n",
        "\n",
        "Business Insights: In real-world applications, feature importance can provide valuable insights into the problem being solved, helping businesses or domain experts focus on key factors influencing predictions."
      ],
      "metadata": {
        "id": "VqDl6NQf0ELX"
      }
    },
    {
      "cell_type": "markdown",
      "source": [
        "13. Why is CatBoost efficient for categorical data?"
      ],
      "metadata": {
        "id": "P6uqyjTm0K0n"
      }
    },
    {
      "cell_type": "markdown",
      "source": [
        "CatBoost is highly efficient for categorical data because it is specifically designed to handle categorical features in a way that improves model performance and reduces the need for extensive preprocessing. Here's why CatBoost is particularly well-suited for categorical data:\n",
        "\n",
        "1. Handling Categorical Features Natively:\n",
        "No Need for One-Hot Encoding: Unlike traditional machine learning algorithms that require one-hot encoding (which increases feature dimensionality and can lead to sparse matrices), CatBoost can directly handle categorical variables without the need for such transformations. This reduces both memory usage and computation time.\n",
        "\n",
        "2. Categorical Feature Encoding via Ordered Target Encoding:\n",
        "Target Encoding: CatBoost uses a method called ordered target encoding for categorical features. This method calculates the average target value for each category, but importantly, it applies this encoding in a way that avoids target leakage (where information from the test set would be used to encode the training data). This technique helps maintain model integrity by using historical, non-overlapping data for encoding categories.\n",
        "\n",
        "Ordered Scheme: Instead of encoding the categories directly, CatBoost builds the encoding based on an ordered sequence of data (ensuring that future data does not influence the encoding), which improves the robustness of the model.\n",
        "\n",
        "3. Efficient Handling of High Cardinality:\n",
        "High Cardinality Support: CatBoost is optimized to handle categorical variables with high cardinality (many unique categories). It uses an efficient algorithm to manage large numbers of categories without causing excessive memory or computation overhead. This makes it suitable for datasets with features that have a large number of unique values (e.g., zip codes, user IDs).\n",
        "\n",
        "4. Prevention of Overfitting:\n",
        "Regularization Techniques: By using ordered target encoding and advanced regularization, CatBoost effectively mitigates overfitting that may occur when encoding categorical variables. It helps ensure that the model does not overly rely on specific category-target relationships that do not generalize well to unseen data.\n",
        "\n",
        "5. Efficiency in Training:\n",
        "Faster Computation: CatBoost applies advanced optimizations to train models with categorical data more efficiently. By using symmetric tree building and other techniques, it minimizes the computational cost compared to other gradient boosting algorithms, especially when working with large datasets containing categorical features.\n",
        "\n",
        "6. Robustness to Missing Values:\n",
        "Missing Data Handling: CatBoost also has a built-in mechanism for handling missing values in categorical features. It assigns missing values a unique category and ensures that their treatment doesn't negatively impact model performance."
      ],
      "metadata": {
        "id": "3CCHFOhr0NPx"
      }
    },
    {
      "cell_type": "markdown",
      "source": [
        "Practical"
      ],
      "metadata": {
        "id": "_4mYsFqi0TE9"
      }
    },
    {
      "cell_type": "markdown",
      "source": [
        "14. Train an AdaBoost Classifier on a sample dataset and print model accuracy"
      ],
      "metadata": {
        "id": "QZz4hyCs0VBR"
      }
    },
    {
      "cell_type": "code",
      "source": [
        "from sklearn.ensemble import AdaBoostClassifier\n",
        "from sklearn.datasets import make_classification\n",
        "from sklearn.model_selection import train_test_split\n",
        "from sklearn.metrics import accuracy_score\n",
        "\n",
        "# Generate a synthetic classification dataset\n",
        "X, y = make_classification(n_samples=1000, n_features=20, n_informative=10, n_classes=2, random_state=42)\n",
        "\n",
        "# Split the data into training and testing sets\n",
        "X_train, X_test, y_train, y_test = train_test_split(X, y, test_size=0.2, random_state=42)\n",
        "\n",
        "# Create and train the AdaBoost model\n",
        "ada_boost = AdaBoostClassifier(n_estimators=50, random_state=42)\n",
        "ada_boost.fit(X_train, y_train)\n",
        "\n",
        "# Make predictions on the test set\n",
        "y_pred = ada_boost.predict(X_test)\n",
        "\n",
        "# Calculate accuracy\n",
        "accuracy = accuracy_score(y_test, y_pred)\n",
        "accuracy\n"
      ],
      "metadata": {
        "colab": {
          "base_uri": "https://localhost:8080/"
        },
        "id": "dFHo6GKn0X4m",
        "outputId": "6334f3d1-a7d8-4e1b-8a6e-232f587a3abd"
      },
      "execution_count": 1,
      "outputs": [
        {
          "output_type": "execute_result",
          "data": {
            "text/plain": [
              "0.85"
            ]
          },
          "metadata": {},
          "execution_count": 1
        }
      ]
    },
    {
      "cell_type": "markdown",
      "source": [
        "15.  Train an AdaBoost Regressor and evaluate performance using Mean Absolute Error (MAE)4"
      ],
      "metadata": {
        "id": "07wVgznp0o75"
      }
    },
    {
      "cell_type": "code",
      "source": [
        "from sklearn.ensemble import AdaBoostRegressor\n",
        "from sklearn.datasets import make_regression\n",
        "from sklearn.metrics import mean_absolute_error\n",
        "\n",
        "# Generate a synthetic regression dataset\n",
        "X, y = make_regression(n_samples=1000, n_features=20, noise=0.1, random_state=42)\n",
        "\n",
        "# Split the data into training and testing sets\n",
        "X_train, X_test, y_train, y_test = train_test_split(X, y, test_size=0.2, random_state=42)\n",
        "\n",
        "# Create and train the AdaBoost Regressor model\n",
        "ada_boost_regressor = AdaBoostRegressor(n_estimators=50, random_state=42)\n",
        "ada_boost_regressor.fit(X_train, y_train)\n",
        "\n",
        "# Make predictions on the test set\n",
        "y_pred_reg = ada_boost_regressor.predict(X_test)\n",
        "\n",
        "# Calculate Mean Absolute Error (MAE)\n",
        "mae = mean_absolute_error(y_test, y_pred_reg)\n",
        "mae\n"
      ],
      "metadata": {
        "colab": {
          "base_uri": "https://localhost:8080/"
        },
        "id": "PNtDpdIh0qtd",
        "outputId": "7839b86a-c1d5-4ce8-ea41-b90cb48f1c8c"
      },
      "execution_count": 3,
      "outputs": [
        {
          "output_type": "execute_result",
          "data": {
            "text/plain": [
              "78.61805360873889"
            ]
          },
          "metadata": {},
          "execution_count": 3
        }
      ]
    },
    {
      "cell_type": "markdown",
      "source": [
        "16. Train a Gradient Boosting Classifier on the Breast Cancer dataset and print feature importance"
      ],
      "metadata": {
        "id": "WfEs_C9C04MA"
      }
    },
    {
      "cell_type": "code",
      "source": [
        "from sklearn.ensemble import GradientBoostingClassifier\n",
        "from sklearn.datasets import load_breast_cancer\n",
        "import pandas as pd\n",
        "\n",
        "# Load the Breast Cancer dataset\n",
        "data = load_breast_cancer()\n",
        "X, y = data.data, data.target\n",
        "\n",
        "# Split the data into training and testing sets\n",
        "X_train, X_test, y_train, y_test = train_test_split(X, y, test_size=0.2, random_state=42)\n",
        "\n",
        "# Create and train the Gradient Boosting Classifier model\n",
        "gb_classifier = GradientBoostingClassifier(n_estimators=100, random_state=42)\n",
        "gb_classifier.fit(X_train, y_train)\n",
        "\n",
        "# Get feature importance\n",
        "feature_importance = gb_classifier.feature_importances_\n",
        "\n",
        "# Create a DataFrame for better visualization\n",
        "feature_importance_df = pd.DataFrame({\n",
        "    'Feature': data.feature_names,\n",
        "    'Importance': feature_importance\n",
        "})\n",
        "\n",
        "# Sort the features by importance\n",
        "feature_importance_df = feature_importance_df.sort_values(by='Importance', ascending=False)\n",
        "\n",
        "feature_importance_df\n"
      ],
      "metadata": {
        "colab": {
          "base_uri": "https://localhost:8080/",
          "height": 990
        },
        "id": "pJulp3-w05cM",
        "outputId": "eb727fc6-14db-4ed5-880d-b7d21e198468"
      },
      "execution_count": 4,
      "outputs": [
        {
          "output_type": "execute_result",
          "data": {
            "text/plain": [
              "                    Feature  Importance\n",
              "7       mean concave points    0.450528\n",
              "27     worst concave points    0.240103\n",
              "20             worst radius    0.075589\n",
              "22          worst perimeter    0.051408\n",
              "21            worst texture    0.039886\n",
              "23               worst area    0.038245\n",
              "1              mean texture    0.027805\n",
              "26          worst concavity    0.018725\n",
              "16          concavity error    0.013068\n",
              "13               area error    0.008415\n",
              "10             radius error    0.006870\n",
              "24         worst smoothness    0.004811\n",
              "19  fractal dimension error    0.004224\n",
              "11            texture error    0.003604\n",
              "5          mean compactness    0.002996\n",
              "15        compactness error    0.002511\n",
              "4           mean smoothness    0.002467\n",
              "17     concave points error    0.002038\n",
              "28           worst symmetry    0.001478\n",
              "12          perimeter error    0.001157\n",
              "6            mean concavity    0.000922\n",
              "18           symmetry error    0.000703\n",
              "14         smoothness error    0.000556\n",
              "8             mean symmetry    0.000520\n",
              "25        worst compactness    0.000450\n",
              "3                 mean area    0.000425\n",
              "2            mean perimeter    0.000201\n",
              "29  worst fractal dimension    0.000175\n",
              "9    mean fractal dimension    0.000107\n",
              "0               mean radius    0.000013"
            ],
            "text/html": [
              "\n",
              "  <div id=\"df-46f21df5-b896-4214-a031-3c7246175d78\" class=\"colab-df-container\">\n",
              "    <div>\n",
              "<style scoped>\n",
              "    .dataframe tbody tr th:only-of-type {\n",
              "        vertical-align: middle;\n",
              "    }\n",
              "\n",
              "    .dataframe tbody tr th {\n",
              "        vertical-align: top;\n",
              "    }\n",
              "\n",
              "    .dataframe thead th {\n",
              "        text-align: right;\n",
              "    }\n",
              "</style>\n",
              "<table border=\"1\" class=\"dataframe\">\n",
              "  <thead>\n",
              "    <tr style=\"text-align: right;\">\n",
              "      <th></th>\n",
              "      <th>Feature</th>\n",
              "      <th>Importance</th>\n",
              "    </tr>\n",
              "  </thead>\n",
              "  <tbody>\n",
              "    <tr>\n",
              "      <th>7</th>\n",
              "      <td>mean concave points</td>\n",
              "      <td>0.450528</td>\n",
              "    </tr>\n",
              "    <tr>\n",
              "      <th>27</th>\n",
              "      <td>worst concave points</td>\n",
              "      <td>0.240103</td>\n",
              "    </tr>\n",
              "    <tr>\n",
              "      <th>20</th>\n",
              "      <td>worst radius</td>\n",
              "      <td>0.075589</td>\n",
              "    </tr>\n",
              "    <tr>\n",
              "      <th>22</th>\n",
              "      <td>worst perimeter</td>\n",
              "      <td>0.051408</td>\n",
              "    </tr>\n",
              "    <tr>\n",
              "      <th>21</th>\n",
              "      <td>worst texture</td>\n",
              "      <td>0.039886</td>\n",
              "    </tr>\n",
              "    <tr>\n",
              "      <th>23</th>\n",
              "      <td>worst area</td>\n",
              "      <td>0.038245</td>\n",
              "    </tr>\n",
              "    <tr>\n",
              "      <th>1</th>\n",
              "      <td>mean texture</td>\n",
              "      <td>0.027805</td>\n",
              "    </tr>\n",
              "    <tr>\n",
              "      <th>26</th>\n",
              "      <td>worst concavity</td>\n",
              "      <td>0.018725</td>\n",
              "    </tr>\n",
              "    <tr>\n",
              "      <th>16</th>\n",
              "      <td>concavity error</td>\n",
              "      <td>0.013068</td>\n",
              "    </tr>\n",
              "    <tr>\n",
              "      <th>13</th>\n",
              "      <td>area error</td>\n",
              "      <td>0.008415</td>\n",
              "    </tr>\n",
              "    <tr>\n",
              "      <th>10</th>\n",
              "      <td>radius error</td>\n",
              "      <td>0.006870</td>\n",
              "    </tr>\n",
              "    <tr>\n",
              "      <th>24</th>\n",
              "      <td>worst smoothness</td>\n",
              "      <td>0.004811</td>\n",
              "    </tr>\n",
              "    <tr>\n",
              "      <th>19</th>\n",
              "      <td>fractal dimension error</td>\n",
              "      <td>0.004224</td>\n",
              "    </tr>\n",
              "    <tr>\n",
              "      <th>11</th>\n",
              "      <td>texture error</td>\n",
              "      <td>0.003604</td>\n",
              "    </tr>\n",
              "    <tr>\n",
              "      <th>5</th>\n",
              "      <td>mean compactness</td>\n",
              "      <td>0.002996</td>\n",
              "    </tr>\n",
              "    <tr>\n",
              "      <th>15</th>\n",
              "      <td>compactness error</td>\n",
              "      <td>0.002511</td>\n",
              "    </tr>\n",
              "    <tr>\n",
              "      <th>4</th>\n",
              "      <td>mean smoothness</td>\n",
              "      <td>0.002467</td>\n",
              "    </tr>\n",
              "    <tr>\n",
              "      <th>17</th>\n",
              "      <td>concave points error</td>\n",
              "      <td>0.002038</td>\n",
              "    </tr>\n",
              "    <tr>\n",
              "      <th>28</th>\n",
              "      <td>worst symmetry</td>\n",
              "      <td>0.001478</td>\n",
              "    </tr>\n",
              "    <tr>\n",
              "      <th>12</th>\n",
              "      <td>perimeter error</td>\n",
              "      <td>0.001157</td>\n",
              "    </tr>\n",
              "    <tr>\n",
              "      <th>6</th>\n",
              "      <td>mean concavity</td>\n",
              "      <td>0.000922</td>\n",
              "    </tr>\n",
              "    <tr>\n",
              "      <th>18</th>\n",
              "      <td>symmetry error</td>\n",
              "      <td>0.000703</td>\n",
              "    </tr>\n",
              "    <tr>\n",
              "      <th>14</th>\n",
              "      <td>smoothness error</td>\n",
              "      <td>0.000556</td>\n",
              "    </tr>\n",
              "    <tr>\n",
              "      <th>8</th>\n",
              "      <td>mean symmetry</td>\n",
              "      <td>0.000520</td>\n",
              "    </tr>\n",
              "    <tr>\n",
              "      <th>25</th>\n",
              "      <td>worst compactness</td>\n",
              "      <td>0.000450</td>\n",
              "    </tr>\n",
              "    <tr>\n",
              "      <th>3</th>\n",
              "      <td>mean area</td>\n",
              "      <td>0.000425</td>\n",
              "    </tr>\n",
              "    <tr>\n",
              "      <th>2</th>\n",
              "      <td>mean perimeter</td>\n",
              "      <td>0.000201</td>\n",
              "    </tr>\n",
              "    <tr>\n",
              "      <th>29</th>\n",
              "      <td>worst fractal dimension</td>\n",
              "      <td>0.000175</td>\n",
              "    </tr>\n",
              "    <tr>\n",
              "      <th>9</th>\n",
              "      <td>mean fractal dimension</td>\n",
              "      <td>0.000107</td>\n",
              "    </tr>\n",
              "    <tr>\n",
              "      <th>0</th>\n",
              "      <td>mean radius</td>\n",
              "      <td>0.000013</td>\n",
              "    </tr>\n",
              "  </tbody>\n",
              "</table>\n",
              "</div>\n",
              "    <div class=\"colab-df-buttons\">\n",
              "\n",
              "  <div class=\"colab-df-container\">\n",
              "    <button class=\"colab-df-convert\" onclick=\"convertToInteractive('df-46f21df5-b896-4214-a031-3c7246175d78')\"\n",
              "            title=\"Convert this dataframe to an interactive table.\"\n",
              "            style=\"display:none;\">\n",
              "\n",
              "  <svg xmlns=\"http://www.w3.org/2000/svg\" height=\"24px\" viewBox=\"0 -960 960 960\">\n",
              "    <path d=\"M120-120v-720h720v720H120Zm60-500h600v-160H180v160Zm220 220h160v-160H400v160Zm0 220h160v-160H400v160ZM180-400h160v-160H180v160Zm440 0h160v-160H620v160ZM180-180h160v-160H180v160Zm440 0h160v-160H620v160Z\"/>\n",
              "  </svg>\n",
              "    </button>\n",
              "\n",
              "  <style>\n",
              "    .colab-df-container {\n",
              "      display:flex;\n",
              "      gap: 12px;\n",
              "    }\n",
              "\n",
              "    .colab-df-convert {\n",
              "      background-color: #E8F0FE;\n",
              "      border: none;\n",
              "      border-radius: 50%;\n",
              "      cursor: pointer;\n",
              "      display: none;\n",
              "      fill: #1967D2;\n",
              "      height: 32px;\n",
              "      padding: 0 0 0 0;\n",
              "      width: 32px;\n",
              "    }\n",
              "\n",
              "    .colab-df-convert:hover {\n",
              "      background-color: #E2EBFA;\n",
              "      box-shadow: 0px 1px 2px rgba(60, 64, 67, 0.3), 0px 1px 3px 1px rgba(60, 64, 67, 0.15);\n",
              "      fill: #174EA6;\n",
              "    }\n",
              "\n",
              "    .colab-df-buttons div {\n",
              "      margin-bottom: 4px;\n",
              "    }\n",
              "\n",
              "    [theme=dark] .colab-df-convert {\n",
              "      background-color: #3B4455;\n",
              "      fill: #D2E3FC;\n",
              "    }\n",
              "\n",
              "    [theme=dark] .colab-df-convert:hover {\n",
              "      background-color: #434B5C;\n",
              "      box-shadow: 0px 1px 3px 1px rgba(0, 0, 0, 0.15);\n",
              "      filter: drop-shadow(0px 1px 2px rgba(0, 0, 0, 0.3));\n",
              "      fill: #FFFFFF;\n",
              "    }\n",
              "  </style>\n",
              "\n",
              "    <script>\n",
              "      const buttonEl =\n",
              "        document.querySelector('#df-46f21df5-b896-4214-a031-3c7246175d78 button.colab-df-convert');\n",
              "      buttonEl.style.display =\n",
              "        google.colab.kernel.accessAllowed ? 'block' : 'none';\n",
              "\n",
              "      async function convertToInteractive(key) {\n",
              "        const element = document.querySelector('#df-46f21df5-b896-4214-a031-3c7246175d78');\n",
              "        const dataTable =\n",
              "          await google.colab.kernel.invokeFunction('convertToInteractive',\n",
              "                                                    [key], {});\n",
              "        if (!dataTable) return;\n",
              "\n",
              "        const docLinkHtml = 'Like what you see? Visit the ' +\n",
              "          '<a target=\"_blank\" href=https://colab.research.google.com/notebooks/data_table.ipynb>data table notebook</a>'\n",
              "          + ' to learn more about interactive tables.';\n",
              "        element.innerHTML = '';\n",
              "        dataTable['output_type'] = 'display_data';\n",
              "        await google.colab.output.renderOutput(dataTable, element);\n",
              "        const docLink = document.createElement('div');\n",
              "        docLink.innerHTML = docLinkHtml;\n",
              "        element.appendChild(docLink);\n",
              "      }\n",
              "    </script>\n",
              "  </div>\n",
              "\n",
              "\n",
              "    <div id=\"df-b9f331ad-a7e8-4684-b51b-f89328a848ad\">\n",
              "      <button class=\"colab-df-quickchart\" onclick=\"quickchart('df-b9f331ad-a7e8-4684-b51b-f89328a848ad')\"\n",
              "                title=\"Suggest charts\"\n",
              "                style=\"display:none;\">\n",
              "\n",
              "<svg xmlns=\"http://www.w3.org/2000/svg\" height=\"24px\"viewBox=\"0 0 24 24\"\n",
              "     width=\"24px\">\n",
              "    <g>\n",
              "        <path d=\"M19 3H5c-1.1 0-2 .9-2 2v14c0 1.1.9 2 2 2h14c1.1 0 2-.9 2-2V5c0-1.1-.9-2-2-2zM9 17H7v-7h2v7zm4 0h-2V7h2v10zm4 0h-2v-4h2v4z\"/>\n",
              "    </g>\n",
              "</svg>\n",
              "      </button>\n",
              "\n",
              "<style>\n",
              "  .colab-df-quickchart {\n",
              "      --bg-color: #E8F0FE;\n",
              "      --fill-color: #1967D2;\n",
              "      --hover-bg-color: #E2EBFA;\n",
              "      --hover-fill-color: #174EA6;\n",
              "      --disabled-fill-color: #AAA;\n",
              "      --disabled-bg-color: #DDD;\n",
              "  }\n",
              "\n",
              "  [theme=dark] .colab-df-quickchart {\n",
              "      --bg-color: #3B4455;\n",
              "      --fill-color: #D2E3FC;\n",
              "      --hover-bg-color: #434B5C;\n",
              "      --hover-fill-color: #FFFFFF;\n",
              "      --disabled-bg-color: #3B4455;\n",
              "      --disabled-fill-color: #666;\n",
              "  }\n",
              "\n",
              "  .colab-df-quickchart {\n",
              "    background-color: var(--bg-color);\n",
              "    border: none;\n",
              "    border-radius: 50%;\n",
              "    cursor: pointer;\n",
              "    display: none;\n",
              "    fill: var(--fill-color);\n",
              "    height: 32px;\n",
              "    padding: 0;\n",
              "    width: 32px;\n",
              "  }\n",
              "\n",
              "  .colab-df-quickchart:hover {\n",
              "    background-color: var(--hover-bg-color);\n",
              "    box-shadow: 0 1px 2px rgba(60, 64, 67, 0.3), 0 1px 3px 1px rgba(60, 64, 67, 0.15);\n",
              "    fill: var(--button-hover-fill-color);\n",
              "  }\n",
              "\n",
              "  .colab-df-quickchart-complete:disabled,\n",
              "  .colab-df-quickchart-complete:disabled:hover {\n",
              "    background-color: var(--disabled-bg-color);\n",
              "    fill: var(--disabled-fill-color);\n",
              "    box-shadow: none;\n",
              "  }\n",
              "\n",
              "  .colab-df-spinner {\n",
              "    border: 2px solid var(--fill-color);\n",
              "    border-color: transparent;\n",
              "    border-bottom-color: var(--fill-color);\n",
              "    animation:\n",
              "      spin 1s steps(1) infinite;\n",
              "  }\n",
              "\n",
              "  @keyframes spin {\n",
              "    0% {\n",
              "      border-color: transparent;\n",
              "      border-bottom-color: var(--fill-color);\n",
              "      border-left-color: var(--fill-color);\n",
              "    }\n",
              "    20% {\n",
              "      border-color: transparent;\n",
              "      border-left-color: var(--fill-color);\n",
              "      border-top-color: var(--fill-color);\n",
              "    }\n",
              "    30% {\n",
              "      border-color: transparent;\n",
              "      border-left-color: var(--fill-color);\n",
              "      border-top-color: var(--fill-color);\n",
              "      border-right-color: var(--fill-color);\n",
              "    }\n",
              "    40% {\n",
              "      border-color: transparent;\n",
              "      border-right-color: var(--fill-color);\n",
              "      border-top-color: var(--fill-color);\n",
              "    }\n",
              "    60% {\n",
              "      border-color: transparent;\n",
              "      border-right-color: var(--fill-color);\n",
              "    }\n",
              "    80% {\n",
              "      border-color: transparent;\n",
              "      border-right-color: var(--fill-color);\n",
              "      border-bottom-color: var(--fill-color);\n",
              "    }\n",
              "    90% {\n",
              "      border-color: transparent;\n",
              "      border-bottom-color: var(--fill-color);\n",
              "    }\n",
              "  }\n",
              "</style>\n",
              "\n",
              "      <script>\n",
              "        async function quickchart(key) {\n",
              "          const quickchartButtonEl =\n",
              "            document.querySelector('#' + key + ' button');\n",
              "          quickchartButtonEl.disabled = true;  // To prevent multiple clicks.\n",
              "          quickchartButtonEl.classList.add('colab-df-spinner');\n",
              "          try {\n",
              "            const charts = await google.colab.kernel.invokeFunction(\n",
              "                'suggestCharts', [key], {});\n",
              "          } catch (error) {\n",
              "            console.error('Error during call to suggestCharts:', error);\n",
              "          }\n",
              "          quickchartButtonEl.classList.remove('colab-df-spinner');\n",
              "          quickchartButtonEl.classList.add('colab-df-quickchart-complete');\n",
              "        }\n",
              "        (() => {\n",
              "          let quickchartButtonEl =\n",
              "            document.querySelector('#df-b9f331ad-a7e8-4684-b51b-f89328a848ad button');\n",
              "          quickchartButtonEl.style.display =\n",
              "            google.colab.kernel.accessAllowed ? 'block' : 'none';\n",
              "        })();\n",
              "      </script>\n",
              "    </div>\n",
              "\n",
              "  <div id=\"id_4f143f34-0f28-428e-acf3-0df7f4847f92\">\n",
              "    <style>\n",
              "      .colab-df-generate {\n",
              "        background-color: #E8F0FE;\n",
              "        border: none;\n",
              "        border-radius: 50%;\n",
              "        cursor: pointer;\n",
              "        display: none;\n",
              "        fill: #1967D2;\n",
              "        height: 32px;\n",
              "        padding: 0 0 0 0;\n",
              "        width: 32px;\n",
              "      }\n",
              "\n",
              "      .colab-df-generate:hover {\n",
              "        background-color: #E2EBFA;\n",
              "        box-shadow: 0px 1px 2px rgba(60, 64, 67, 0.3), 0px 1px 3px 1px rgba(60, 64, 67, 0.15);\n",
              "        fill: #174EA6;\n",
              "      }\n",
              "\n",
              "      [theme=dark] .colab-df-generate {\n",
              "        background-color: #3B4455;\n",
              "        fill: #D2E3FC;\n",
              "      }\n",
              "\n",
              "      [theme=dark] .colab-df-generate:hover {\n",
              "        background-color: #434B5C;\n",
              "        box-shadow: 0px 1px 3px 1px rgba(0, 0, 0, 0.15);\n",
              "        filter: drop-shadow(0px 1px 2px rgba(0, 0, 0, 0.3));\n",
              "        fill: #FFFFFF;\n",
              "      }\n",
              "    </style>\n",
              "    <button class=\"colab-df-generate\" onclick=\"generateWithVariable('feature_importance_df')\"\n",
              "            title=\"Generate code using this dataframe.\"\n",
              "            style=\"display:none;\">\n",
              "\n",
              "  <svg xmlns=\"http://www.w3.org/2000/svg\" height=\"24px\"viewBox=\"0 0 24 24\"\n",
              "       width=\"24px\">\n",
              "    <path d=\"M7,19H8.4L18.45,9,17,7.55,7,17.6ZM5,21V16.75L18.45,3.32a2,2,0,0,1,2.83,0l1.4,1.43a1.91,1.91,0,0,1,.58,1.4,1.91,1.91,0,0,1-.58,1.4L9.25,21ZM18.45,9,17,7.55Zm-12,3A5.31,5.31,0,0,0,4.9,8.1,5.31,5.31,0,0,0,1,6.5,5.31,5.31,0,0,0,4.9,4.9,5.31,5.31,0,0,0,6.5,1,5.31,5.31,0,0,0,8.1,4.9,5.31,5.31,0,0,0,12,6.5,5.46,5.46,0,0,0,6.5,12Z\"/>\n",
              "  </svg>\n",
              "    </button>\n",
              "    <script>\n",
              "      (() => {\n",
              "      const buttonEl =\n",
              "        document.querySelector('#id_4f143f34-0f28-428e-acf3-0df7f4847f92 button.colab-df-generate');\n",
              "      buttonEl.style.display =\n",
              "        google.colab.kernel.accessAllowed ? 'block' : 'none';\n",
              "\n",
              "      buttonEl.onclick = () => {\n",
              "        google.colab.notebook.generateWithVariable('feature_importance_df');\n",
              "      }\n",
              "      })();\n",
              "    </script>\n",
              "  </div>\n",
              "\n",
              "    </div>\n",
              "  </div>\n"
            ],
            "application/vnd.google.colaboratory.intrinsic+json": {
              "type": "dataframe",
              "variable_name": "feature_importance_df",
              "summary": "{\n  \"name\": \"feature_importance_df\",\n  \"rows\": 30,\n  \"fields\": [\n    {\n      \"column\": \"Feature\",\n      \"properties\": {\n        \"dtype\": \"string\",\n        \"num_unique_values\": 30,\n        \"samples\": [\n          \"worst fractal dimension\",\n          \"compactness error\",\n          \"mean symmetry\"\n        ],\n        \"semantic_type\": \"\",\n        \"description\": \"\"\n      }\n    },\n    {\n      \"column\": \"Importance\",\n      \"properties\": {\n        \"dtype\": \"number\",\n        \"std\": 0.09100951983203379,\n        \"min\": 1.292348076813499e-05,\n        \"max\": 0.4505275876506107,\n        \"num_unique_values\": 30,\n        \"samples\": [\n          0.0001753069292319898,\n          0.0025106349835955057,\n          0.0005199404606719796\n        ],\n        \"semantic_type\": \"\",\n        \"description\": \"\"\n      }\n    }\n  ]\n}"
            }
          },
          "metadata": {},
          "execution_count": 4
        }
      ]
    },
    {
      "cell_type": "code",
      "source": [
        "#17. Train a Gradient Boosting Regressor and evaluate using R-Squared Score4"
      ],
      "metadata": {
        "id": "pHVP_ARX0_It"
      },
      "execution_count": null,
      "outputs": []
    },
    {
      "cell_type": "code",
      "source": [
        "from sklearn.ensemble import GradientBoostingRegressor\n",
        "from sklearn.metrics import r2_score\n",
        "\n",
        "# Generate a synthetic regression dataset\n",
        "X, y = make_regression(n_samples=1000, n_features=20, noise=0.1, random_state=42)\n",
        "\n",
        "# Split the data into training and testing sets\n",
        "X_train, X_test, y_train, y_test = train_test_split(X, y, test_size=0.2, random_state=42)\n",
        "\n",
        "# Create and train the Gradient Boosting Regressor model\n",
        "gb_regressor = GradientBoostingRegressor(n_estimators=100, random_state=42)\n",
        "gb_regressor.fit(X_train, y_train)\n",
        "\n",
        "# Make predictions on the test set\n",
        "y_pred_reg = gb_regressor.predict(X_test)\n",
        "\n",
        "# Calculate R-squared score\n",
        "r2 = r2_score(y_test, y_pred_reg)\n",
        "r2\n"
      ],
      "metadata": {
        "colab": {
          "base_uri": "https://localhost:8080/"
        },
        "id": "mkSTDv4W1E67",
        "outputId": "bbae2848-9256-4792-9519-9d829d0d8619"
      },
      "execution_count": 5,
      "outputs": [
        {
          "output_type": "execute_result",
          "data": {
            "text/plain": [
              "0.9211449721893207"
            ]
          },
          "metadata": {},
          "execution_count": 5
        }
      ]
    },
    {
      "cell_type": "code",
      "source": [
        "#18.  Train an XGBoost Classifier on a dataset and compare accuracy with Gradient Boosting4"
      ],
      "metadata": {
        "id": "kORJLI4Y1LNu"
      },
      "execution_count": null,
      "outputs": []
    },
    {
      "cell_type": "code",
      "source": [
        "import numpy as np\n",
        "from sklearn.model_selection import train_test_split\n",
        "from sklearn.ensemble import GradientBoostingClassifier\n",
        "from xgboost import XGBClassifier\n",
        "from sklearn.metrics import accuracy_score\n",
        "\n",
        "# Generate a synthetic binary classification dataset\n",
        "np.random.seed(42)\n",
        "X = np.random.rand(1000, 10)\n",
        "y = np.random.randint(0, 2, 1000)\n",
        "\n",
        "# Split the data into training and testing sets\n",
        "X_train, X_test, y_train, y_test = train_test_split(X, y, test_size=0.3, random_state=42)\n",
        "\n",
        "# Initialize and train the Gradient Boosting Classifier\n",
        "gb_classifier = GradientBoostingClassifier(random_state=42)\n",
        "gb_classifier.fit(X_train, y_train)\n",
        "gb_predictions = gb_classifier.predict(X_test)\n",
        "gb_accuracy = accuracy_score(y_test, gb_predictions)\n",
        "print(f\"Gradient Boosting Classifier Accuracy: {gb_accuracy:.4f}\")\n",
        "\n",
        "# Initialize and train the XGBoost Classifier\n",
        "xgb_classifier = XGBClassifier(random_state=42)\n",
        "xgb_classifier.fit(X_train, y_train)\n",
        "xgb_predictions = xgb_classifier.predict(X_test)\n",
        "xgb_accuracy = accuracy_score(y_test, xgb_predictions)\n",
        "print(f\"XGBoost Classifier Accuracy: {xgb_accuracy:.4f}\")\n",
        "\n",
        "# Compare the accuracies\n",
        "print(\"\\nComparison of Accuracies:\")\n",
        "print(f\"Gradient Boosting Accuracy: {gb_accuracy:.4f}\")\n",
        "print(f\"XGBoost Accuracy:      {xgb_accuracy:.4f}\")\n",
        "\n",
        "if xgb_accuracy > gb_accuracy:\n",
        "    print(\"\\nXGBoost Classifier performed better in terms of accuracy on this synthetic dataset.\")\n",
        "elif gb_accuracy > xgb_accuracy:\n",
        "    print(\"\\nGradient Boosting Classifier performed better in terms of accuracy on this synthetic dataset.\")\n",
        "else:\n",
        "    print(\"\\nBoth classifiers achieved the same accuracy on this synthetic dataset.\")"
      ],
      "metadata": {
        "colab": {
          "base_uri": "https://localhost:8080/"
        },
        "id": "nCIPT_AL1PHT",
        "outputId": "56d01895-4e3a-4890-c972-44165c03ae64"
      },
      "execution_count": 6,
      "outputs": [
        {
          "output_type": "stream",
          "name": "stdout",
          "text": [
            "Gradient Boosting Classifier Accuracy: 0.4833\n",
            "XGBoost Classifier Accuracy: 0.4800\n",
            "\n",
            "Comparison of Accuracies:\n",
            "Gradient Boosting Accuracy: 0.4833\n",
            "XGBoost Accuracy:      0.4800\n",
            "\n",
            "Gradient Boosting Classifier performed better in terms of accuracy on this synthetic dataset.\n"
          ]
        }
      ]
    },
    {
      "cell_type": "code",
      "source": [
        "#19. Train a CatBoost Classifier and evaluate using F1-Score4"
      ],
      "metadata": {
        "id": "NX5dM0JO1e43"
      },
      "execution_count": null,
      "outputs": []
    },
    {
      "cell_type": "code",
      "source": [
        "!pip install catboost\n",
        "import numpy as np\n",
        "from sklearn.model_selection import train_test_split\n",
        "from catboost import CatBoostClassifier\n",
        "from sklearn.metrics import f1_score\n",
        "\n",
        "# Generate a synthetic binary classification dataset\n",
        "np.random.seed(42)\n",
        "X = np.random.rand(1000, 10)\n",
        "y = np.random.randint(0, 2, 1000)\n",
        "\n",
        "# Split the data into training and testing sets\n",
        "X_train, X_test, y_train, y_test = train_test_split(X, y, test_size=0.3, random_state=42)\n",
        "\n",
        "# Initialize and train the CatBoost Classifier\n",
        "catboost_classifier = CatBoostClassifier(iterations=100,  # You can adjust the number of boosting rounds\n",
        "                                           learning_rate=0.1,  # You can adjust the learning rate\n",
        "                                           depth=6,           # You can adjust the tree depth\n",
        "                                           loss_function='Logloss',\n",
        "                                           random_state=42,\n",
        "                                           verbose=0)        # Set verbose=0 to suppress output during training\n",
        "\n",
        "catboost_classifier.fit(X_train, y_train)\n",
        "\n",
        "# Make predictions on the test set\n",
        "y_pred = catboost_classifier.predict(X_test)\n",
        "\n",
        "# Evaluate using F1-score\n",
        "f1 = f1_score(y_test, y_pred)\n",
        "print(f\"CatBoost Classifier F1-Score: {f1:.4f}\")"
      ],
      "metadata": {
        "colab": {
          "base_uri": "https://localhost:8080/"
        },
        "id": "MToRqaUy1kR8",
        "outputId": "d9b50410-2525-446e-e396-3e2650f8fa99"
      },
      "execution_count": 9,
      "outputs": [
        {
          "output_type": "stream",
          "name": "stdout",
          "text": [
            "Collecting catboost\n",
            "  Downloading catboost-1.2.8-cp311-cp311-manylinux2014_x86_64.whl.metadata (1.2 kB)\n",
            "Requirement already satisfied: graphviz in /usr/local/lib/python3.11/dist-packages (from catboost) (0.20.3)\n",
            "Requirement already satisfied: matplotlib in /usr/local/lib/python3.11/dist-packages (from catboost) (3.10.0)\n",
            "Requirement already satisfied: numpy<3.0,>=1.16.0 in /usr/local/lib/python3.11/dist-packages (from catboost) (2.0.2)\n",
            "Requirement already satisfied: pandas>=0.24 in /usr/local/lib/python3.11/dist-packages (from catboost) (2.2.2)\n",
            "Requirement already satisfied: scipy in /usr/local/lib/python3.11/dist-packages (from catboost) (1.14.1)\n",
            "Requirement already satisfied: plotly in /usr/local/lib/python3.11/dist-packages (from catboost) (5.24.1)\n",
            "Requirement already satisfied: six in /usr/local/lib/python3.11/dist-packages (from catboost) (1.17.0)\n",
            "Requirement already satisfied: python-dateutil>=2.8.2 in /usr/local/lib/python3.11/dist-packages (from pandas>=0.24->catboost) (2.8.2)\n",
            "Requirement already satisfied: pytz>=2020.1 in /usr/local/lib/python3.11/dist-packages (from pandas>=0.24->catboost) (2025.2)\n",
            "Requirement already satisfied: tzdata>=2022.7 in /usr/local/lib/python3.11/dist-packages (from pandas>=0.24->catboost) (2025.2)\n",
            "Requirement already satisfied: contourpy>=1.0.1 in /usr/local/lib/python3.11/dist-packages (from matplotlib->catboost) (1.3.2)\n",
            "Requirement already satisfied: cycler>=0.10 in /usr/local/lib/python3.11/dist-packages (from matplotlib->catboost) (0.12.1)\n",
            "Requirement already satisfied: fonttools>=4.22.0 in /usr/local/lib/python3.11/dist-packages (from matplotlib->catboost) (4.57.0)\n",
            "Requirement already satisfied: kiwisolver>=1.3.1 in /usr/local/lib/python3.11/dist-packages (from matplotlib->catboost) (1.4.8)\n",
            "Requirement already satisfied: packaging>=20.0 in /usr/local/lib/python3.11/dist-packages (from matplotlib->catboost) (24.2)\n",
            "Requirement already satisfied: pillow>=8 in /usr/local/lib/python3.11/dist-packages (from matplotlib->catboost) (11.1.0)\n",
            "Requirement already satisfied: pyparsing>=2.3.1 in /usr/local/lib/python3.11/dist-packages (from matplotlib->catboost) (3.2.3)\n",
            "Requirement already satisfied: tenacity>=6.2.0 in /usr/local/lib/python3.11/dist-packages (from plotly->catboost) (9.1.2)\n",
            "Downloading catboost-1.2.8-cp311-cp311-manylinux2014_x86_64.whl (99.2 MB)\n",
            "\u001b[2K   \u001b[90m━━━━━━━━━━━━━━━━━━━━━━━━━━━━━━━━━━━━━━━━\u001b[0m \u001b[32m99.2/99.2 MB\u001b[0m \u001b[31m7.8 MB/s\u001b[0m eta \u001b[36m0:00:00\u001b[0m\n",
            "\u001b[?25hInstalling collected packages: catboost\n",
            "Successfully installed catboost-1.2.8\n",
            "CatBoost Classifier F1-Score: 0.5529\n"
          ]
        }
      ]
    },
    {
      "cell_type": "code",
      "source": [
        "#20. Train an XGBoost Regressor and evaluate using Mean Squared Error (MSE)4"
      ],
      "metadata": {
        "id": "ohKnIvTi1oL8"
      },
      "execution_count": null,
      "outputs": []
    },
    {
      "cell_type": "code",
      "source": [
        "import numpy as np\n",
        "from sklearn.model_selection import train_test_split\n",
        "from xgboost import XGBRegressor\n",
        "from sklearn.metrics import mean_squared_error\n",
        "\n",
        "# Generate a synthetic regression dataset\n",
        "np.random.seed(42)\n",
        "X = np.random.rand(100, 5)  # 100 samples, 5 features\n",
        "y = 2 * X[:, 0] + 5 * X[:, 1] - 3 * X[:, 2] + np.random.randn(100) * 0.1  # Linear relationship with some noise\n",
        "\n",
        "# Split the data into training and testing sets\n",
        "X_train, X_test, y_train, y_test = train_test_split(X, y, test_size=0.3, random_state=42)\n",
        "\n",
        "# Initialize and train the XGBoost Regressor\n",
        "xgb_regressor = XGBRegressor(n_estimators=100,  # Number of boosting rounds\n",
        "                             learning_rate=0.1,  # Step size shrinkage to prevent overfitting\n",
        "                             max_depth=3,        # Maximum depth of a tree\n",
        "                             random_state=42)\n",
        "\n",
        "xgb_regressor.fit(X_train, y_train)\n",
        "\n",
        "# Make predictions on the test set\n",
        "y_pred = xgb_regressor.predict(X_test)\n",
        "\n",
        "# Evaluate using Mean Squared Error\n",
        "mse = mean_squared_error(y_test, y_pred)\n",
        "print(f\"XGBoost Regressor Mean Squared Error: {mse:.4f}\")"
      ],
      "metadata": {
        "colab": {
          "base_uri": "https://localhost:8080/"
        },
        "id": "PHvMfhR02LOE",
        "outputId": "8d4dec08-6c2b-461c-c0c2-c89ec04ca785"
      },
      "execution_count": 10,
      "outputs": [
        {
          "output_type": "stream",
          "name": "stdout",
          "text": [
            "XGBoost Regressor Mean Squared Error: 0.1644\n"
          ]
        }
      ]
    },
    {
      "cell_type": "code",
      "source": [
        "#21. Train an AdaBoost Classifier and visualize feature importance4"
      ],
      "metadata": {
        "id": "qPwebTFx2L74"
      },
      "execution_count": null,
      "outputs": []
    },
    {
      "cell_type": "code",
      "source": [
        "import numpy as np\n",
        "import matplotlib.pyplot as plt\n",
        "from sklearn.model_selection import train_test_split\n",
        "from sklearn.ensemble import AdaBoostClassifier\n",
        "from sklearn.datasets import make_classification\n",
        "\n",
        "# Generate a synthetic classification dataset with informative features\n",
        "X, y = make_classification(n_samples=100, n_features=10, n_informative=5, n_redundant=0, random_state=42)\n",
        "\n",
        "# Get the names of the features (for visualization)\n",
        "feature_names = [f'feature_{i+1}' for i in range(X.shape[1])]\n",
        "\n",
        "# Split the data into training and testing sets\n",
        "X_train, X_test, y_train, y_test = train_test_split(X, y, test_size=0.3, random_state=42)\n",
        "\n",
        "# Initialize and train the AdaBoost Classifier\n",
        "adaboost_classifier = AdaBoostClassifier(n_estimators=50, random_state=42)\n",
        "adaboost_classifier.fit(X_train, y_train)\n",
        "\n",
        "# Get feature importances\n",
        "importances = adaboost_classifier.feature_importances_\n",
        "\n",
        "# Sort feature importances in descending order\n",
        "indices = np.argsort(importances)[::-1]\n",
        "\n",
        "# Plotting the feature importances\n",
        "plt.figure(figsize=(10, 6))\n",
        "plt.title(\"Feature Importances (AdaBoost Classifier)\")\n",
        "plt.bar(range(X.shape[1]), importances[indices], align=\"center\")\n",
        "plt.xticks(range(X.shape[1]), [feature_names[i] for i in indices], rotation=45, ha=\"right\")\n",
        "plt.xlabel(\"Feature\")\n",
        "plt.ylabel(\"Importance Score\")\n",
        "plt.tight_layout()\n",
        "plt.show()"
      ],
      "metadata": {
        "colab": {
          "base_uri": "https://localhost:8080/",
          "height": 607
        },
        "id": "7j5RqRIl2P1J",
        "outputId": "cc1f9981-9dbd-460d-c840-4db923f3b14c"
      },
      "execution_count": 11,
      "outputs": [
        {
          "output_type": "display_data",
          "data": {
            "text/plain": [
              "<Figure size 1000x600 with 1 Axes>"
            ],
            "image/png": "[encoded data removed]"
          },
          "metadata": {}
        }
      ]
    },
    {
      "cell_type": "code",
      "source": [
        "#22. Train a Gradient Boosting Regressor and plot learning curves4"
      ],
      "metadata": {
        "id": "4oyJn-Zj2VD9"
      },
      "execution_count": null,
      "outputs": []
    },
    {
      "cell_type": "code",
      "source": [
        "import numpy as np\n",
        "import matplotlib.pyplot as plt\n",
        "from sklearn.model_selection import train_test_split, learning_curve\n",
        "from sklearn.ensemble import GradientBoostingRegressor\n",
        "from sklearn.metrics import mean_squared_error\n",
        "\n",
        "# Generate a synthetic regression dataset\n",
        "np.random.seed(42)\n",
        "X = np.random.rand(100, 5)\n",
        "y = 2 * X[:, 0] + 5 * X[:, 1] - 3 * X[:, 2] + np.random.randn(100) * 0.1\n",
        "\n",
        "# Initialize the Gradient Boosting Regressor\n",
        "gb_regressor = GradientBoostingRegressor(n_estimators=100, learning_rate=0.1, max_depth=3, random_state=42)\n",
        "\n",
        "# Generate learning curve data\n",
        "train_sizes, train_scores, valid_scores = learning_curve(\n",
        "    gb_regressor, X, y, train_sizes=np.linspace(0.1, 1.0, 10), cv=5, scoring='neg_mean_squared_error'\n",
        ")\n",
        "\n",
        "# Calculate mean and standard deviation of training and validation scores\n",
        "train_mean = np.mean(train_scores, axis=1)\n",
        "train_std = np.std(train_scores, axis=1)\n",
        "valid_mean = np.mean(valid_scores, axis=1)\n",
        "valid_std = np.std(valid_scores, axis=1)\n",
        "\n",
        "# Plot the learning curves\n",
        "plt.figure(figsize=(10, 6))\n",
        "plt.plot(train_sizes, -train_mean, 'o-', color=\"r\", label=\"Training score\")\n",
        "plt.plot(train_sizes, -valid_mean, 'o-', color=\"g\", label=\"Cross-validation score\")\n",
        "\n",
        "# Fill the area around the mean to show the variance\n",
        "plt.fill_between(train_sizes, -train_mean - train_std, -train_mean + train_std, alpha=0.1, color=\"r\")\n",
        "plt.fill_between(train_sizes, -valid_mean - valid_std, -valid_mean + valid_std, alpha=0.1, color=\"g\")\n",
        "\n",
        "plt.title(\"Gradient Boosting Regressor Learning Curves\")\n",
        "plt.xlabel(\"Number of training samples\")\n",
        "plt.ylabel(\"Mean Squared Error (Negative)\")\n",
        "plt.legend(loc=\"best\")\n",
        "plt.grid()\n",
        "plt.tight_layout()\n",
        "plt.show()"
      ],
      "metadata": {
        "colab": {
          "base_uri": "https://localhost:8080/",
          "height": 607
        },
        "id": "Ry-S_slc2YLh",
        "outputId": "dcac71b0-ef36-4338-967e-6ec4dcecff1f"
      },
      "execution_count": 12,
      "outputs": [
        {
          "output_type": "display_data",
          "data": {
            "text/plain": [
              "<Figure size 1000x600 with 1 Axes>"
            ],
            "image/png": "[encoded data removed]"
          },
          "metadata": {}
        }
      ]
    },
    {
      "cell_type": "code",
      "source": [
        "#23. Train an XGBoost Classifier and visualize feature importance"
      ],
      "metadata": {
        "id": "SAXDcGNF2b1l"
      },
      "execution_count": null,
      "outputs": []
    },
    {
      "cell_type": "code",
      "source": [
        "import numpy as np\n",
        "import matplotlib.pyplot as plt\n",
        "from sklearn.model_selection import train_test_split\n",
        "from xgboost import XGBClassifier\n",
        "from sklearn.datasets import make_classification\n",
        "\n",
        "# Generate a synthetic classification dataset with informative features\n",
        "X, y = make_classification(n_samples=100, n_features=10, n_informative=5, n_redundant=0, random_state=42)\n",
        "\n",
        "# Get the names of the features (for visualization)\n",
        "feature_names = [f'feature_{i+1}' for i in range(X.shape[1])]\n",
        "\n",
        "# Split the data into training and testing sets\n",
        "X_train, X_test, y_train, y_test = train_test_split(X, y, test_size=0.3, random_state=42)\n",
        "\n",
        "# Initialize and train the XGBoost Classifier\n",
        "xgb_classifier = XGBClassifier(random_state=42)\n",
        "xgb_classifier.fit(X_train, y_train)\n",
        "\n",
        "# Get feature importances\n",
        "importances = xgb_classifier.feature_importances_\n",
        "\n",
        "# Sort feature importances in descending order\n",
        "indices = np.argsort(importances)[::-1]\n",
        "\n",
        "# Plotting the feature importances\n",
        "plt.figure(figsize=(10, 6))\n",
        "plt.title(\"Feature Importances (XGBoost Classifier)\")\n",
        "plt.bar(range(X.shape[1]), importances[indices], align=\"center\")\n",
        "plt.xticks(range(X.shape[1]), [feature_names[i] for i in indices], rotation=45, ha=\"right\")\n",
        "plt.xlabel(\"Feature\")\n",
        "plt.ylabel(\"Importance Score\")\n",
        "plt.tight_layout()\n",
        "plt.show()"
      ],
      "metadata": {
        "colab": {
          "base_uri": "https://localhost:8080/",
          "height": 607
        },
        "id": "IiQqsBTk2mgm",
        "outputId": "a97f7968-4d6b-46ea-a8f4-b784ca376bb4"
      },
      "execution_count": 13,
      "outputs": [
        {
          "output_type": "display_data",
          "data": {
            "text/plain": [
              "<Figure size 1000x600 with 1 Axes>"
            ],
            "image/png": "[encoded data removed]"
          },
          "metadata": {}
        }
      ]
    },
    {
      "cell_type": "code",
      "source": [
        "#24. Train a CatBoost Classifier and plot the confusion matrix4"
      ],
      "metadata": {
        "id": "29NA1jn_2nPQ"
      },
      "execution_count": null,
      "outputs": []
    },
    {
      "cell_type": "code",
      "source": [
        "import numpy as np\n",
        "import matplotlib.pyplot as plt\n",
        "from sklearn.model_selection import train_test_split\n",
        "from catboost import CatBoostClassifier\n",
        "from sklearn.datasets import make_classification\n",
        "from sklearn.metrics import confusion_matrix, ConfusionMatrixDisplay\n",
        "\n",
        "# Generate a synthetic binary classification dataset\n",
        "X, y = make_classification(n_samples=100, n_features=5, n_informative=3, n_redundant=0, random_state=42)\n",
        "\n",
        "# Split the data into training and testing sets\n",
        "X_train, X_test, y_train, y_test = train_test_split(X, y, test_size=0.3, random_state=42)\n",
        "\n",
        "# Initialize and train the CatBoost Classifier\n",
        "catboost_classifier = CatBoostClassifier(iterations=100, learning_rate=0.1, depth=3,\n",
        "                                           loss_function='Logloss', random_state=42, verbose=0)\n",
        "catboost_classifier.fit(X_train, y_train)\n",
        "\n",
        "# Make predictions on the test set\n",
        "y_pred = catboost_classifier.predict(X_test)\n",
        "\n",
        "# Calculate the confusion matrix\n",
        "cm = confusion_matrix(y_test, y_pred)\n",
        "\n",
        "# Plot the confusion matrix\n",
        "disp = ConfusionMatrixDisplay(confusion_matrix=cm, display_labels=['Negative', 'Positive'])\n",
        "disp.plot(cmap=plt.cm.Blues)\n",
        "plt.title('Confusion Matrix (CatBoost Classifier)')\n",
        "plt.xlabel('Predicted Label')\n",
        "plt.ylabel('True Label')\n",
        "plt.grid(False)  # Remove grid lines for cleaner look\n",
        "plt.show()"
      ],
      "metadata": {
        "colab": {
          "base_uri": "https://localhost:8080/",
          "height": 472
        },
        "id": "Y1KIyXSP2q4v",
        "outputId": "44d3d37c-e0b6-4864-9c79-1179f09a291a"
      },
      "execution_count": 14,
      "outputs": [
        {
          "output_type": "display_data",
          "data": {
            "text/plain": [
              "<Figure size 640x480 with 2 Axes>"
            ],
            "image/png": "[encoded data removed]"
          },
          "metadata": {}
        }
      ]
    },
    {
      "cell_type": "code",
      "source": [
        "#25. Train an AdaBoost Classifier with different numbers of estimators and compare accuracy"
      ],
      "metadata": {
        "id": "tHlZIuda233g"
      },
      "execution_count": null,
      "outputs": []
    },
    {
      "cell_type": "code",
      "source": [
        "import numpy as np\n",
        "import matplotlib.pyplot as plt\n",
        "from sklearn.model_selection import train_test_split\n",
        "from sklearn.ensemble import AdaBoostClassifier\n",
        "from sklearn.datasets import make_classification\n",
        "from sklearn.metrics import accuracy_score\n",
        "\n",
        "# Generate a synthetic classification dataset\n",
        "X, y = make_classification(n_samples=200, n_features=10, n_informative=5, n_redundant=0, random_state=42)\n",
        "\n",
        "# Split the data into training and testing sets\n",
        "X_train, X_test, y_train, y_test = train_test_split(X, y, test_size=0.3, random_state=42)\n",
        "\n",
        "# Define a range of number of estimators to test\n",
        "n_estimators_range = [10, 50, 100, 200, 300]\n",
        "accuracies = []\n",
        "\n",
        "# Train and evaluate AdaBoost for each number of estimators\n",
        "for n_estimators in n_estimators_range:\n",
        "    adaboost_classifier = AdaBoostClassifier(n_estimators=n_estimators, random_state=42)\n",
        "    adaboost_classifier.fit(X_train, y_train)\n",
        "    y_pred = adaboost_classifier.predict(X_test)\n",
        "    accuracy = accuracy_score(y_test, y_pred)\n",
        "    accuracies.append(accuracy)\n",
        "    print(f\"Number of estimators: {n_estimators}, Accuracy: {accuracy:.4f}\")\n",
        "\n",
        "# Plot the results\n",
        "plt.figure(figsize=(10, 6))\n",
        "plt.plot(n_estimators_range, accuracies, marker='o')\n",
        "plt.title('AdaBoost Classifier Accuracy vs. Number of Estimators')\n",
        "plt.xlabel('Number of Estimators')\n",
        "plt.ylabel('Accuracy')\n",
        "plt.grid(True)\n",
        "plt.xticks(n_estimators_range)\n",
        "plt.tight_layout()\n",
        "plt.show()"
      ],
      "metadata": {
        "colab": {
          "base_uri": "https://localhost:8080/",
          "height": 694
        },
        "id": "CgmO8Axv27sg",
        "outputId": "0eca5c88-6a6e-42bf-d229-a90c08c9f41b"
      },
      "execution_count": 15,
      "outputs": [
        {
          "output_type": "stream",
          "name": "stdout",
          "text": [
            "Number of estimators: 10, Accuracy: 0.6167\n",
            "Number of estimators: 50, Accuracy: 0.6500\n",
            "Number of estimators: 100, Accuracy: 0.6333\n",
            "Number of estimators: 200, Accuracy: 0.6333\n",
            "Number of estimators: 300, Accuracy: 0.7000\n"
          ]
        },
        {
          "output_type": "display_data",
          "data": {
            "text/plain": [
              "<Figure size 1000x600 with 1 Axes>"
            ],
            "image/png": "[encoded data removed]"
          },
          "metadata": {}
        }
      ]
    },
    {
      "cell_type": "code",
      "source": [
        "#26. Train a Gradient Boosting Classifier and visualize the ROC curve4"
      ],
      "metadata": {
        "id": "UyZ4M3Jc2_VP"
      },
      "execution_count": null,
      "outputs": []
    },
    {
      "cell_type": "code",
      "source": [
        "import numpy as np\n",
        "import matplotlib.pyplot as plt\n",
        "from sklearn.model_selection import train_test_split\n",
        "from sklearn.ensemble import GradientBoostingClassifier\n",
        "from sklearn.datasets import make_classification\n",
        "from sklearn.metrics import roc_curve, roc_auc_score\n",
        "\n",
        "# Generate a synthetic binary classification dataset\n",
        "X, y = make_classification(n_samples=100, n_features=5, n_informative=3, n_redundant=0, random_state=42)\n",
        "\n",
        "# Split the data into training and testing sets\n",
        "X_train, X_test, y_train, y_test = train_test_split(X, y, test_size=0.3, random_state=42)\n",
        "\n",
        "# Initialize and train the Gradient Boosting Classifier\n",
        "gb_classifier = GradientBoostingClassifier(n_estimators=100, learning_rate=0.1, max_depth=3, random_state=42)\n",
        "gb_classifier.fit(X_train, y_train)\n",
        "\n",
        "# Make probability predictions on the test set\n",
        "y_prob = gb_classifier.predict_proba(X_test)[:, 1]\n",
        "\n",
        "# Calculate the ROC curve\n",
        "fpr, tpr, thresholds = roc_curve(y_test, y_prob)\n",
        "\n",
        "# Calculate the Area Under the Curve (AUC)\n",
        "roc_auc = roc_auc_score(y_test, y_prob)\n",
        "print(f\"AUC: {roc_auc:.4f}\")\n",
        "\n",
        "# Plot the ROC curve\n",
        "plt.figure(figsize=(8, 8))\n",
        "plt.plot(fpr, tpr, color='darkorange', lw=2, label=f'ROC curve (AUC = {roc_auc:.2f})')\n",
        "plt.plot([0, 1], [0, 1], color='navy', lw=2, linestyle='--')\n",
        "plt.xlim([0.0, 1.0])\n",
        "plt.ylim([0.0, 1.05])\n",
        "plt.xlabel('False Positive Rate (FPR)')\n",
        "plt.ylabel('True Positive Rate (TPR)')\n",
        "plt.title('Receiver Operating Characteristic (ROC)')\n",
        "plt.legend(loc=\"lower right\")\n",
        "plt.grid(True)\n",
        "plt.show()"
      ],
      "metadata": {
        "colab": {
          "base_uri": "https://localhost:8080/",
          "height": 735
        },
        "id": "25eqrZvc3GDM",
        "outputId": "610be3a3-7395-4d90-f28a-5806a595e915"
      },
      "execution_count": 16,
      "outputs": [
        {
          "output_type": "stream",
          "name": "stdout",
          "text": [
            "AUC: 0.9367\n"
          ]
        },
        {
          "output_type": "display_data",
          "data": {
            "text/plain": [
              "<Figure size 800x800 with 1 Axes>"
            ],
            "image/png": "[encoded data removed]"
          },
          "metadata": {}
        }
      ]
    },
    {
      "cell_type": "code",
      "source": [
        "#27. Train an XGBoost Regressor and tune the learning rate using GridSearchCV"
      ],
      "metadata": {
        "id": "D7fornbJ3Gv2"
      },
      "execution_count": null,
      "outputs": []
    },
    {
      "cell_type": "code",
      "source": [
        "import numpy as np\n",
        "from sklearn.model_selection import train_test_split, GridSearchCV\n",
        "from xgboost import XGBRegressor\n",
        "from sklearn.metrics import mean_squared_error\n",
        "\n",
        "# Generate a synthetic regression dataset\n",
        "np.random.seed(42)\n",
        "X = np.random.rand(100, 5)\n",
        "y = 2 * X[:, 0] + 5 * X[:, 1] - 3 * X[:, 2] + np.random.randn(100) * 0.1\n",
        "\n",
        "# Split the data into training and testing sets\n",
        "X_train, X_test, y_train, y_test = train_test_split(X, y, test_size=0.3, random_state=42)\n",
        "\n",
        "# Define the parameter grid for learning rate\n",
        "param_grid = {\n",
        "    'learning_rate': [0.01, 0.03, 0.1, 0.3],\n",
        "    'n_estimators': [100]  # Keeping n_estimators constant for this example\n",
        "}\n",
        "\n",
        "# Initialize the XGBoost Regressor\n",
        "xgb_regressor = XGBRegressor(random_state=42)\n",
        "\n",
        "# Set up GridSearchCV\n",
        "grid_search = GridSearchCV(estimator=xgb_regressor,\n",
        "                           param_grid=param_grid,\n",
        "                           scoring='neg_mean_squared_error',  # Use negative MSE for scoring (GridSearchCV maximizes score)\n",
        "                           cv=5,  # 5-fold cross-validation\n",
        "                           verbose=1)\n",
        "\n",
        "# Run GridSearchCV to find the best learning rate\n",
        "grid_search.fit(X_train, y_train)\n",
        "\n",
        "# Print the best learning rate and the corresponding best score\n",
        "print(f\"Best Learning Rate: {grid_search.best_params_['learning_rate']}\")\n",
        "print(f\"Best Negative Mean Squared Error: {grid_search.best_score_:.4f}\")\n",
        "\n",
        "# Get the best estimator (model with the best learning rate)\n",
        "best_xgb_regressor = grid_search.best_estimator_\n",
        "\n",
        "# Make predictions on the test set using the best model\n",
        "y_pred_best = best_xgb_regressor.predict(X_test)\n",
        "\n",
        "# Evaluate the best model on the test set\n",
        "mse_best = mean_squared_error(y_test, y_pred_best)\n",
        "print(f\"Mean Squared Error on Test Set (Best Model): {mse_best:.4f}\")"
      ],
      "metadata": {
        "colab": {
          "base_uri": "https://localhost:8080/"
        },
        "id": "5DrjR-pC3J-G",
        "outputId": "3933830c-a53e-44a6-9944-970901a5425d"
      },
      "execution_count": 17,
      "outputs": [
        {
          "output_type": "stream",
          "name": "stdout",
          "text": [
            "Fitting 5 folds for each of 4 candidates, totalling 20 fits\n",
            "Best Learning Rate: 0.3\n",
            "Best Negative Mean Squared Error: -0.5837\n",
            "Mean Squared Error on Test Set (Best Model): 0.2844\n"
          ]
        }
      ]
    },
    {
      "cell_type": "code",
      "source": [
        "#28. Train a CatBoost Classifier on an imbalanced dataset and compare performance with class weighting4\n"
      ],
      "metadata": {
        "id": "rDJ4BKot3Oyy"
      },
      "execution_count": null,
      "outputs": []
    },
    {
      "cell_type": "code",
      "source": [
        "import numpy as np\n",
        "from sklearn.model_selection import train_test_split\n",
        "from catboost import CatBoostClassifier\n",
        "from sklearn.datasets import make_classification\n",
        "from sklearn.metrics import f1_score, classification_report\n",
        "\n",
        "# Generate a synthetic imbalanced binary classification dataset\n",
        "X, y = make_classification(n_samples=1000, n_features=10, n_informative=5,\n",
        "                           weights=[0.9, 0.1],  # Imbalance: 90% class 0, 10% class 1\n",
        "                           random_state=42)\n",
        "\n",
        "# Split the data into training and testing sets\n",
        "X_train, X_test, y_train, y_test = train_test_split(X, y, test_size=0.3, random_state=42)\n",
        "\n",
        "# --- Train CatBoost Classifier without class weights ---\n",
        "catboost_no_weights = CatBoostClassifier(iterations=100, learning_rate=0.1, depth=6,\n",
        "                                         loss_function='Logloss', random_state=42, verbose=0)\n",
        "catboost_no_weights.fit(X_train, y_train)\n",
        "y_pred_no_weights = catboost_no_weights.predict(X_test)\n",
        "f1_no_weights = f1_score(y_test, y_pred_no_weights)\n",
        "\n",
        "print(\"--- CatBoost Classifier without Class Weights ---\")\n",
        "print(f\"F1-Score: {f1_no_weights:.4f}\")\n",
        "print(\"Classification Report:\")\n",
        "print(classification_report(y_test, y_pred_no_weights))\n",
        "\n",
        "# --- Train CatBoost Classifier with class weights ---\n",
        "# Calculate class weights\n",
        "from sklearn.utils.class_weight import compute_class_weight\n",
        "class_weights = compute_class_weight('balanced', classes=np.unique(y_train), y=y_train)\n",
        "class_weight_dict = {0: class_weights[0], 1: class_weights[1]}\n",
        "print(\"\\nCalculated Class Weights:\", class_weight_dict)\n",
        "\n",
        "catboost_with_weights = CatBoostClassifier(iterations=100, learning_rate=0.1, depth=6,\n",
        "                                          loss_function='Logloss', random_state=42, verbose=0,\n",
        "                                          class_weights=class_weight_dict)\n",
        "catboost_with_weights.fit(X_train, y_train)\n",
        "y_pred_with_weights = catboost_with_weights.predict(X_test)\n",
        "f1_with_weights = f1_score(y_test, y_pred_with_weights)\n",
        "\n",
        "print(\"\\n--- CatBoost Classifier with Class Weights ---\")\n",
        "print(f\"F1-Score: {f1_with_weights:.4f}\")\n",
        "print(\"Classification Report:\")\n",
        "print(classification_report(y_test, y_pred_with_weights))\n",
        "\n",
        "# --- Compare Performance ---\n",
        "print(\"\\n--- Performance Comparison ---\")\n",
        "print(f\"F1-Score (No Weights): {f1_no_weights:.4f}\")\n",
        "print(f\"F1-Score (With Weights): {f1_with_weights:.4f}\")\n",
        "\n",
        "if f1_with_weights > f1_no_weights:\n",
        "    print(\"\\nUsing class weights improved the F1-score on the imbalanced dataset.\")\n",
        "elif f1_with_weights < f1_no_weights:\n",
        "    print(\"\\nUsing class weights did not improve the F1-score on this imbalanced dataset.\")\n",
        "else:\n",
        "    print(\"\\nUsing class weights resulted in the same F1-score.\")"
      ],
      "metadata": {
        "colab": {
          "base_uri": "https://localhost:8080/"
        },
        "id": "NBmvVH8u3Scs",
        "outputId": "ed25a5b2-7359-4957-8286-006b6393f077"
      },
      "execution_count": 18,
      "outputs": [
        {
          "output_type": "stream",
          "name": "stdout",
          "text": [
            "--- CatBoost Classifier without Class Weights ---\n",
            "F1-Score: 0.6383\n",
            "Classification Report:\n",
            "              precision    recall  f1-score   support\n",
            "\n",
            "           0       0.94      1.00      0.97       268\n",
            "           1       1.00      0.47      0.64        32\n",
            "\n",
            "    accuracy                           0.94       300\n",
            "   macro avg       0.97      0.73      0.80       300\n",
            "weighted avg       0.95      0.94      0.93       300\n",
            "\n",
            "\n",
            "Calculated Class Weights: {0: np.float64(0.5573248407643312), 1: np.float64(4.861111111111111)}\n",
            "\n",
            "--- CatBoost Classifier with Class Weights ---\n",
            "F1-Score: 0.8710\n",
            "Classification Report:\n",
            "              precision    recall  f1-score   support\n",
            "\n",
            "           0       0.98      0.99      0.99       268\n",
            "           1       0.90      0.84      0.87        32\n",
            "\n",
            "    accuracy                           0.97       300\n",
            "   macro avg       0.94      0.92      0.93       300\n",
            "weighted avg       0.97      0.97      0.97       300\n",
            "\n",
            "\n",
            "--- Performance Comparison ---\n",
            "F1-Score (No Weights): 0.6383\n",
            "F1-Score (With Weights): 0.8710\n",
            "\n",
            "Using class weights improved the F1-score on the imbalanced dataset.\n"
          ]
        }
      ]
    },
    {
      "cell_type": "code",
      "source": [
        "#29. 4 Train an AdaBoost Classifier and analyze the effect of different learning rates"
      ],
      "metadata": {
        "id": "NlJ0OAPk3WNA"
      },
      "execution_count": null,
      "outputs": []
    },
    {
      "cell_type": "code",
      "source": [
        "import numpy as np\n",
        "import matplotlib.pyplot as plt\n",
        "from sklearn.model_selection import train_test_split\n",
        "from sklearn.ensemble import AdaBoostClassifier\n",
        "from sklearn.datasets import make_classification\n",
        "from sklearn.metrics import accuracy_score\n",
        "\n",
        "# Generate a synthetic classification dataset\n",
        "X, y = make_classification(n_samples=200, n_features=10, n_informative=5, n_redundant=0, random_state=42)\n",
        "\n",
        "# Split the data into training and testing sets\n",
        "X_train, X_test, y_train, y_test = train_test_split(X, y, test_size=0.3, random_state=42)\n",
        "\n",
        "# Define a range of learning rates to test\n",
        "learning_rates = [0.01, 0.1, 0.5, 1.0, 2.0]\n",
        "accuracies = []\n",
        "\n",
        "# Train and evaluate AdaBoost for each learning rate\n",
        "for lr in learning_rates:\n",
        "    adaboost_classifier = AdaBoostClassifier(n_estimators=50, learning_rate=lr, random_state=42)\n",
        "    adaboost_classifier.fit(X_train, y_train)\n",
        "    y_pred = adaboost_classifier.predict(X_test)\n",
        "    accuracy = accuracy_score(y_test, y_pred)\n",
        "    accuracies.append(accuracy)\n",
        "    print(f\"Learning Rate: {lr}, Accuracy: {accuracy:.4f}\")\n",
        "\n",
        "# Plot the results\n",
        "plt.figure(figsize=(10, 6))\n",
        "plt.plot(learning_rates, accuracies, marker='o')\n",
        "plt.title('AdaBoost Classifier Accuracy vs. Learning Rate')\n",
        "plt.xlabel('Learning Rate')\n",
        "plt.ylabel('Accuracy')\n",
        "plt.grid(True)\n",
        "plt.xticks(learning_rates)\n",
        "plt.tight_layout()\n",
        "plt.show()"
      ],
      "metadata": {
        "colab": {
          "base_uri": "https://localhost:8080/",
          "height": 694
        },
        "id": "VS4L5J_b3aNZ",
        "outputId": "b591aaa2-632d-48f7-9753-fe4b4984c545"
      },
      "execution_count": 19,
      "outputs": [
        {
          "output_type": "stream",
          "name": "stdout",
          "text": [
            "Learning Rate: 0.01, Accuracy: 0.5667\n",
            "Learning Rate: 0.1, Accuracy: 0.6167\n",
            "Learning Rate: 0.5, Accuracy: 0.6667\n",
            "Learning Rate: 1.0, Accuracy: 0.6500\n",
            "Learning Rate: 2.0, Accuracy: 0.5500\n"
          ]
        },
        {
          "output_type": "display_data",
          "data": {
            "text/plain": [
              "<Figure size 1000x600 with 1 Axes>"
            ],
            "image/png": "[encoded data removed]"
          },
          "metadata": {}
        }
      ]
    },
    {
      "cell_type": "code",
      "source": [
        "#30. Train an XGBoost Classifier for multi-class classification and evaluate using log-loss."
      ],
      "metadata": {
        "id": "ZLCi1hfK3dkV"
      },
      "execution_count": null,
      "outputs": []
    },
    {
      "cell_type": "code",
      "source": [
        "import numpy as np\n",
        "from sklearn.model_selection import train_test_split\n",
        "from xgboost import XGBClassifier\n",
        "from sklearn.datasets import make_classification\n",
        "from sklearn.metrics import log_loss\n",
        "\n",
        "# Generate a synthetic multi-class classification dataset\n",
        "X, y = make_classification(n_samples=200, n_features=10, n_informative=5,\n",
        "                           n_classes=3, random_state=42, n_redundant=0)\n",
        "\n",
        "# Split the data into training and testing sets\n",
        "X_train, X_test, y_train, y_test = train_test_split(X, y, test_size=0.3, random_state=42)\n",
        "\n",
        "# Initialize and train the XGBoost Classifier for multi-class\n",
        "xgb_classifier = XGBClassifier(objective='multi:softmax',  # Specify multi-class classification\n",
        "                               num_class=3,             # Number of classes\n",
        "                               random_state=42)\n",
        "\n",
        "xgb_classifier.fit(X_train, y_train)\n",
        "\n",
        "# Make probability predictions on the test set\n",
        "y_prob = xgb_classifier.predict_proba(X_test)\n",
        "\n",
        "# Evaluate using log-loss\n",
        "logloss = log_loss(y_test, y_prob)\n",
        "print(f\"XGBoost Classifier Log-loss: {logloss:.4f}\")\n",
        "\n",
        "# You can also get the class predictions if needed\n",
        "y_pred = xgb_classifier.predict(X_test)\n",
        "print(\"\\nSample of Predicted Classes:\", y_pred[:10])\n",
        "print(\"Sample of True Classes:\", y_test[:10])"
      ],
      "metadata": {
        "id": "uoamCTWg3gy5",
        "outputId": "2e8901a6-15c6-42a8-dadf-13d7118f7915",
        "colab": {
          "base_uri": "https://localhost:8080/"
        }
      },
      "execution_count": 20,
      "outputs": [
        {
          "output_type": "stream",
          "name": "stdout",
          "text": [
            "XGBoost Classifier Log-loss: 1.0087\n",
            "\n",
            "Sample of Predicted Classes: [2 0 0 0 2 1 1 2 1 0]\n",
            "Sample of True Classes: [2 2 0 0 1 2 1 2 1 0]\n"
          ]
        }
      ]
    },
    {
      "cell_type": "code",
      "source": [],
      "metadata": {
        "id": "fsD2JrwR3kD7"
      },
      "execution_count": null,
      "outputs": []
    }
  ]
}