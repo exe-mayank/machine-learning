{
  "nbformat": 4,
  "nbformat_minor": 0,
  "metadata": {
    "colab": {
      "provenance": []
    },
    "kernelspec": {
      "name": "python3",
      "display_name": "Python 3"
    },
    "language_info": {
      "name": "python"
    }
  },
  "cells": [
    {
      "cell_type": "markdown",
      "source": [
        "1. What is Logistic Regression, and how does it differ from Linear Regression."
      ],
      "metadata": {
        "id": "lW_XUyKGKcyT"
      }
    },
    {
      "cell_type": "markdown",
      "source": [
        "Logistic Regression is a statistical method primarily used for binary classification tasks, aiming to model the probability of a binary outcome (e.g., yes/no, 0/1) based on one or more independent variables. Unlike Linear Regression, which predicts a continuous outcome, Logistic Regression employs a sigmoid function to transform the linear combination of input features into a probability value between 0 and 1. This probability is then used to classify the observation into one of the two categories based on a chosen threshold.\n",
        "\n",
        "The key difference lies in the type of outcome variable they predict. Linear Regression is suited for predicting continuous numerical values, such as house prices or sales figures, by finding the best-fitting straight line through the data. In contrast, Logistic Regression tackles classification problems where the outcome is categorical. While both techniques model the relationship between independent and dependent variables using coefficients, Logistic Regression uses a non-linear sigmoid function to constrain the output to a probability, making it interpretable for binary decisions. Furthermore, while Linear Regression typically uses ordinary least squares to estimate parameters, Logistic Regression employs maximum likelihood estimation."
      ],
      "metadata": {
        "id": "cWJyR3uvE15z"
      }
    },
    {
      "cell_type": "markdown",
      "source": [
        "#2. What is the mathematical equation of Logistic Regression."
      ],
      "metadata": {
        "id": "B3Cuh9IjFNqx"
      }
    },
    {
      "cell_type": "markdown",
      "source": [
        "The mathematical equation of Logistic Regression elegantly combines a linear function with a sigmoid function to model the probability of a binary outcome. Initially, a linear predictor z is formed by taking a weighted sum of the input features (x\n",
        "1\n",
        "​\n",
        " ,x\n",
        "2\n",
        "​\n",
        " ,…,x\n",
        "n\n",
        "​\n",
        " ) and their corresponding coefficients (β\n",
        "1\n",
        "​\n",
        " ,β\n",
        "2\n",
        "​\n",
        " ,…,β\n",
        "n\n",
        "​\n",
        " ), along with an intercept term (β\n",
        "0\n",
        "​\n",
        " ). This linear combination, much like in linear regression, captures the additive effect of the independent variables on the underlying log-odds of the event.\n",
        "\n",
        "However, to constrain the output to a probability value between 0 and 1, this linear predictor z is then passed through the sigmoid function, denoted as σ(z). The sigmoid function, mathematically expressed as  \n",
        "1+e\n",
        "−z\n",
        "\n",
        "1\n",
        "​\n",
        " , introduces a non-linearity that squashes any real-valued input into the desired probabilistic range. The resulting value, P(Y=1∣X), represents the conditional probability of the dependent variable Y belonging to the positive class (typically coded as 1) given the set of independent variables X. This probability can then be used to make a binary classification decision based on a chosen threshold, often 0.5. The coefficients in the equation are typically estimated using maximum likelihood estimation, aiming to find the values that best fit the observed binary outcomes in the training data."
      ],
      "metadata": {
        "id": "SEJnAeckFsVt"
      }
    },
    {
      "cell_type": "markdown",
      "source": [],
      "metadata": {
        "id": "y3MytNj8Fux4"
      }
    },
    {
      "cell_type": "markdown",
      "source": [
        "3. Why do we use the Sigmoid function in Logistic Regression."
      ],
      "metadata": {
        "id": "0MqvLHgeFws6"
      }
    },
    {
      "cell_type": "markdown",
      "source": [
        "The Sigmoid function is a crucial component of Logistic Regression for several key reasons. Primarily, Logistic Regression is designed for binary classification, meaning it predicts the probability of an instance belonging to one of two classes (e.g., 0 or 1, yes or no). The sigmoid function, with its characteristic \"S\" shape, has the essential property of mapping any real-valued number into a probability value between 0 and 1. This makes the output of the Logistic Regression model directly interpretable as the probability of the positive class.\n",
        "\n",
        "Without the sigmoid function, the output of the linear combination of input features could range from negative infinity to positive infinity, which wouldn't be meaningful for representing probabilities. The sigmoid function effectively \"squashes\" this unbounded output into the [0, 1] range, providing a clear and probabilistic interpretation. Furthermore, the sigmoid function is differentiable, a critical property that allows us to use gradient-based optimization algorithms like gradient descent to train the Logistic Regression model efficiently. The derivative of the sigmoid function has a simple and useful form, which simplifies the calculation of gradients during the model training process. In essence, the sigmoid function bridges the gap between a linear model and a probabilistic output suitable for binary classification."
      ],
      "metadata": {
        "id": "Hb-uLTkNF0TY"
      }
    },
    {
      "cell_type": "markdown",
      "source": [
        "4. What is the cost function of Logistic Regression."
      ],
      "metadata": {
        "id": "cqAGcHdkF5Nu"
      }
    },
    {
      "cell_type": "markdown",
      "source": [
        "The cost function of Logistic Regression is based on the concept of maximum likelihood estimation, and it measures how well the model's predictions match the actual labels.\n",
        "\n",
        "1. Hypothesis (sigmoid function):\n",
        "ℎ\n",
        "𝜃\n",
        "(\n",
        "𝑥\n",
        ")\n",
        "=\n",
        "1\n",
        "1\n",
        "+\n",
        "𝑒\n",
        "−\n",
        "𝜃\n",
        "𝑇\n",
        "𝑥\n",
        "h\n",
        "θ\n",
        "​\n",
        " (x)=\n",
        "1+e\n",
        "−θ\n",
        "T\n",
        " x\n",
        "\n",
        "1\n",
        "​\n",
        "\n",
        "This function outputs a value between 0 and 1, representing the probability that the output is class 1.\n",
        "\n",
        "2. Cost function (Binary Cross-Entropy / Log Loss):\n",
        "𝐽\n",
        "(\n",
        "𝜃\n",
        ")\n",
        "=\n",
        "−\n",
        "1\n",
        "𝑚\n",
        "∑\n",
        "𝑖\n",
        "=\n",
        "1\n",
        "𝑚\n",
        "[\n",
        "𝑦\n",
        "(\n",
        "𝑖\n",
        ")\n",
        "log\n",
        "⁡\n",
        "(\n",
        "ℎ\n",
        "𝜃\n",
        "(\n",
        "𝑥\n",
        "(\n",
        "𝑖\n",
        ")\n",
        ")\n",
        ")\n",
        "+\n",
        "(\n",
        "1\n",
        "−\n",
        "𝑦\n",
        "(\n",
        "𝑖\n",
        ")\n",
        ")\n",
        "log\n",
        "⁡\n",
        "(\n",
        "1\n",
        "−\n",
        "ℎ\n",
        "𝜃\n",
        "(\n",
        "𝑥\n",
        "(\n",
        "𝑖\n",
        ")\n",
        ")\n",
        ")\n",
        "]\n",
        "J(θ)=−\n",
        "m\n",
        "1\n",
        "​\n",
        "  \n",
        "i=1\n",
        "∑\n",
        "m\n",
        "​\n",
        " [y\n",
        "(i)\n",
        " log(h\n",
        "θ\n",
        "​\n",
        " (x\n",
        "(i)\n",
        " ))+(1−y\n",
        "(i)\n",
        " )log(1−h\n",
        "θ\n",
        "​\n",
        " (x\n",
        "(i)\n",
        " ))]\n",
        "Where:\n",
        "\n",
        "𝑚\n",
        "m = number of training examples\n",
        "\n",
        "𝑦\n",
        "(\n",
        "𝑖\n",
        ")\n",
        "y\n",
        "(i)\n",
        "  = true label for the\n",
        "𝑖\n",
        "i-th training example (either 0 or 1)\n",
        "\n",
        "ℎ\n",
        "𝜃\n",
        "(\n",
        "𝑥\n",
        "(\n",
        "𝑖\n",
        ")\n",
        ")\n",
        "h\n",
        "θ\n",
        "​\n",
        " (x\n",
        "(i)\n",
        " ) = predicted probability for class 1\n",
        "\n",
        "Why this cost function?\n",
        "When\n",
        "𝑦\n",
        "=\n",
        "1\n",
        "y=1, the cost is\n",
        "−\n",
        "log\n",
        "⁡\n",
        "(\n",
        "ℎ\n",
        "𝜃\n",
        "(\n",
        "𝑥\n",
        ")\n",
        ")\n",
        "−log(h\n",
        "θ\n",
        "​\n",
        " (x))\n",
        "\n",
        "When\n",
        "𝑦\n",
        "=\n",
        "0\n",
        "y=0, the cost is\n",
        "−\n",
        "log\n",
        "⁡\n",
        "(\n",
        "1\n",
        "−\n",
        "ℎ\n",
        "𝜃\n",
        "(\n",
        "𝑥\n",
        ")\n",
        ")\n",
        "−log(1−h\n",
        "θ\n",
        "​\n",
        " (x))\n",
        "\n",
        "This penalizes incorrect predictions heavily and encourages the model to output probabilities close to the true labels."
      ],
      "metadata": {
        "id": "jSZgVN0jF74d"
      }
    },
    {
      "cell_type": "markdown",
      "source": [],
      "metadata": {
        "id": "yvlWNy2vGO45"
      }
    },
    {
      "cell_type": "markdown",
      "source": [
        "5. What is Regularization in Logistic Regression? Why is it needed."
      ],
      "metadata": {
        "id": "fvuptWWGGYrX"
      }
    },
    {
      "cell_type": "markdown",
      "source": [
        "Regularization in logistic regression is a technique used to improve the generalization ability of the model by preventing overfitting. Overfitting happens when a model learns not only the underlying pattern in the training data but also the noise, leading to poor performance on new, unseen data. Regularization addresses this by adding a penalty to the cost function, discouraging the model from fitting the training data too closely or assigning overly large weights to features.\n",
        "\n",
        "In the context of logistic regression, the regularized cost function includes an additional term that penalizes large coefficient values. This helps keep the model simpler and more robust. One common form is L2 regularization (also known as Ridge regularization), where the penalty term is the sum of the squares of the model’s parameters. The updated cost function is the original logistic loss plus the regularization term, scaled by a factor\n",
        "𝜆\n",
        "λ, which controls the strength of the penalty. A larger\n",
        "𝜆\n",
        "λ leads to more regularization (simpler model), while a smaller\n",
        "𝜆\n",
        "λ allows the model to fit the training data more closely.\n",
        "\n",
        "The key idea behind regularization is that simpler models are less likely to overfit, especially when dealing with high-dimensional data or a small training set. By controlling the complexity of the model, regularization helps ensure that the model captures the essential trends in the data without being overly sensitive to random fluctuations or noise."
      ],
      "metadata": {
        "id": "UUX5Ja3kGcDs"
      }
    },
    {
      "cell_type": "markdown",
      "source": [
        "6. Explain the difference between Lasso, Ridge, and Elastic Net regression"
      ],
      "metadata": {
        "id": "gHUnxwDZGntH"
      }
    },
    {
      "cell_type": "markdown",
      "source": [
        "Lasso, Ridge, and Elastic Net are all regularization techniques used to prevent overfitting in linear and logistic regression by adding penalty terms to the cost function. While they share a common goal, they differ in how they apply penalties to the model coefficients.\n",
        "\n",
        "1. Ridge Regression (L2 Regularization)\n",
        "Ridge regression adds a penalty equal to the sum of the squares of the coefficients to the cost function. This technique shrinks the coefficients but does not force any of them to be exactly zero.\n",
        "\n",
        "Penalty term:\n",
        "𝜆\n",
        "∑\n",
        "𝑗\n",
        "=\n",
        "1\n",
        "𝑛\n",
        "𝜃\n",
        "𝑗\n",
        "2\n",
        "λ∑\n",
        "j=1\n",
        "n\n",
        "​\n",
        " θ\n",
        "j\n",
        "2\n",
        "​\n",
        "\n",
        "\n",
        "Effect: Reduces model complexity by shrinking coefficients; all features remain in the model.\n",
        "\n",
        "Use case: When all features are potentially useful and multicollinearity exists.\n",
        "\n",
        "2. Lasso Regression (L1 Regularization)\n",
        "Lasso (Least Absolute Shrinkage and Selection Operator) adds a penalty equal to the sum of the absolute values of the coefficients. This can shrink some coefficients to exactly zero, effectively performing feature selection.\n",
        "\n",
        "Penalty term:\n",
        "𝜆\n",
        "∑\n",
        "𝑗\n",
        "=\n",
        "1\n",
        "𝑛\n",
        "∣\n",
        "𝜃\n",
        "𝑗\n",
        "∣\n",
        "λ∑\n",
        "j=1\n",
        "n\n",
        "​\n",
        " ∣θ\n",
        "j\n",
        "​\n",
        " ∣\n",
        "\n",
        "Effect: Encourages sparsity in the model; some coefficients become exactly zero.\n",
        "\n",
        "Use case: When you suspect only a subset of features are important.\n",
        "\n",
        "3. Elastic Net Regression\n",
        "Elastic Net combines both L1 (Lasso) and L2 (Ridge) penalties. It strikes a balance between shrinking coefficients and selecting important features, making it especially useful when you have many correlated features.\n",
        "\n",
        "Penalty term:\n",
        "𝜆\n",
        "[\n",
        "𝛼\n",
        "∑\n",
        "∣\n",
        "𝜃\n",
        "𝑗\n",
        "∣\n",
        "+\n",
        "(\n",
        "1\n",
        "−\n",
        "𝛼\n",
        ")\n",
        "∑\n",
        "𝜃\n",
        "𝑗\n",
        "2\n",
        "]\n",
        "λ[α∑∣θ\n",
        "j\n",
        "​\n",
        " ∣+(1−α)∑θ\n",
        "j\n",
        "2\n",
        "​\n",
        " ]\n",
        "where\n",
        "𝛼\n",
        "∈\n",
        "[\n",
        "0\n",
        ",\n",
        "1\n",
        "]\n",
        "α∈[0,1] controls the mix between Lasso and Ridge.\n",
        "\n",
        "Effect: Performs both feature selection and coefficient shrinkage.\n",
        "\n",
        "Use case: When you have many features, some correlated, and want both regularization and feature selection."
      ],
      "metadata": {
        "id": "AyFT8_P_GrVa"
      }
    },
    {
      "cell_type": "markdown",
      "source": [
        "7. When should we use Elastic Net instead of Lasso or Ridge."
      ],
      "metadata": {
        "id": "6Z_wdsDLG0oR"
      }
    },
    {
      "cell_type": "markdown",
      "source": [
        "Elastic Net should be used instead of Lasso or Ridge regression when you want the benefits of both feature selection and coefficient stability, especially in cases where the data has highly correlated features or when the number of features exceeds the number of observations. Lasso tends to select only one variable from a group of correlated ones and discard the rest, which might not be ideal if those features carry useful information. Ridge, while good at handling multicollinearity, includes all features and doesn’t perform feature selection. Elastic Net addresses both of these limitations by combining the L1 and L2 penalties, allowing it to both shrink and select groups of correlated variables together. It is also more stable than Lasso when the number of features is much larger than the number of samples, and it provides flexibility through a mixing parameter that can be tuned depending on whether more Lasso-like or Ridge-like behavior is desired. This makes Elastic Net a strong choice for high-dimensional datasets or when feature selection and generalization are both important."
      ],
      "metadata": {
        "id": "cKi-otTvG33g"
      }
    },
    {
      "cell_type": "markdown",
      "source": [
        "8. What is the impact of the regularization parameter (λ) in Logistic Regression."
      ],
      "metadata": {
        "id": "d56-njVHHCPU"
      }
    },
    {
      "cell_type": "markdown",
      "source": [
        "The regularization parameter, usually denoted by λ (lambda), plays a crucial role in logistic regression with regularization, as it controls the strength of the penalty applied to the model’s coefficients. It directly affects how much regularization is applied, influencing both the complexity of the model and its performance.\n",
        "\n",
        "When λ is large, the penalty term dominates the cost function. This causes the model to shrink the coefficients significantly, often pushing them closer to zero. As a result, the model becomes simpler and less sensitive to noise in the training data, which helps prevent overfitting. However, if λ is too large, it can lead to underfitting, where the model becomes too simplistic to capture important patterns in the data, resulting in poor performance on both training and test sets.\n",
        "\n",
        "Conversely, when λ is small, the regularization effect is weak, and the model behaves more like standard logistic regression without regularization. This allows the model to fit the training data more closely, potentially capturing complex relationships. However, with little to no regularization, the model is at a higher risk of overfitting, especially if the dataset has many features or noise.\n",
        "\n",
        "Therefore, selecting the right value for λ is a trade-off between bias and variance. A good λ value helps achieve the right balance, leading to better generalization on unseen data. Typically, this value is determined using cross-validation, where the model’s performance is tested on a validation set for various λ values to find the optimal one."
      ],
      "metadata": {
        "id": "ZfqHAjWFHFPm"
      }
    },
    {
      "cell_type": "markdown",
      "source": [
        "9. What are the key assumptions of Logistic Regression.\n"
      ],
      "metadata": {
        "id": "mJCkFtGTHRWU"
      }
    },
    {
      "cell_type": "markdown",
      "source": [
        "Logistic Regression, while powerful and widely used for binary classification tasks, relies on several key assumptions to produce reliable and interpretable results. Understanding these assumptions helps ensure that the model is appropriate for your data and that its predictions can be trusted.\n",
        "\n",
        "Linear Relationship between Features and the Log-Odds:\n",
        "Logistic regression assumes a linear relationship between the independent variables and the logit (log-odds) of the dependent variable, not the outcome itself. This means the log-odds of the outcome (rather than the probability) must be linearly related to the predictors.\n",
        "\n",
        "Independence of Observations:\n",
        "The observations in the dataset should be independent of each other. This is especially important in time series data or clustered data (like survey responses from the same group), where observations might influence one another. Violating this assumption can lead to biased coefficient estimates.\n",
        "\n",
        "No Multicollinearity:\n",
        "Logistic regression assumes that the independent variables are not highly correlated with each other. Multicollinearity (when two or more predictors are highly correlated) can make it difficult to estimate the coefficients accurately and interpret their individual effects.\n",
        "\n",
        "Large Sample Size:\n",
        "Logistic regression generally requires a large sample size, especially when there are multiple predictors. This helps ensure stable and reliable estimates of the model parameters, and improves the model's ability to detect true effects.\n",
        "\n",
        "Binary or Dichotomous Outcome Variable:\n",
        "The dependent variable in logistic regression should be binary (e.g., yes/no, 0/1, success/failure). For multi-class classification, extensions like multinomial logistic regression are used instead.\n",
        "\n",
        "No Strong Outliers or Influential Points:\n",
        "Outliers or highly influential points can disproportionately affect the logistic regression model. It's important to check for and address such values during data preprocessing.\n",
        "\n",
        "Independent Variables are Meaningfully Related to the Outcome:\n",
        "Although not a technical assumption, logistic regression works best when predictors have a real relationship with the outcome. Irrelevant or noisy features can reduce model performance and interpretability."
      ],
      "metadata": {
        "id": "ORJKtnSuHT27"
      }
    },
    {
      "cell_type": "markdown",
      "source": [
        "10. What are some alternatives to Logistic Regression for classification tasks."
      ],
      "metadata": {
        "id": "kIu4SWjbHdb8"
      }
    },
    {
      "cell_type": "markdown",
      "source": [
        "There are several alternatives to logistic regression for classification tasks, each with its strengths and weaknesses. The choice of method depends on the nature of your data, the complexity of the problem, and the performance criteria you prioritize (e.g., accuracy, interpretability, computation time). Here are some popular alternatives:\n",
        "\n",
        "1. Decision Trees\n",
        "Overview: Decision trees are a non-linear classifier that split the data based on feature values to make decisions. The tree is constructed by recursively splitting the data into subsets based on the feature that best separates the data points.\n",
        "\n",
        "Advantages: Easy to interpret, handle both numerical and categorical data, and can model non-linear relationships.\n",
        "\n",
        "Disadvantages: Prone to overfitting, especially with deep trees; sensitive to small variations in data.\n",
        "\n",
        "2. Random Forest\n",
        "Overview: Random Forest is an ensemble method that combines many decision trees to improve accuracy. It works by constructing multiple decision trees on random subsets of the data and then averaging their predictions for classification.\n",
        "\n",
        "Advantages: Robust against overfitting, handles both classification and regression tasks, and works well with large datasets.\n",
        "\n",
        "Disadvantages: Less interpretable than a single decision tree, can be computationally expensive, and slower to make predictions due to the large number of trees.\n",
        "\n",
        "3. Support Vector Machines (SVM)\n",
        "Overview: SVM is a powerful classifier that finds a hyperplane (in higher dimensions) that best separates the data points of different classes. It is particularly effective in high-dimensional spaces.\n",
        "\n",
        "Advantages: Effective in high-dimensional spaces, works well with complex decision boundaries, and robust to overfitting (especially in high-dimensional spaces).\n",
        "\n",
        "Disadvantages: Computationally expensive, especially with large datasets, and difficult to interpret. The choice of kernel and hyperparameters (like C and gamma) is crucial.\n",
        "\n",
        "4. K-Nearest Neighbors (KNN)\n",
        "Overview: KNN is a simple algorithm that classifies a data point based on the majority class of its nearest neighbors in the feature space.\n",
        "\n",
        "Advantages: Simple, easy to understand and implement, and no training phase required (instance-based learning).\n",
        "\n",
        "Disadvantages: Computationally expensive during prediction (because it requires distance calculations for all training points), sensitive to irrelevant features, and struggles with high-dimensional data (curse of dimensionality).\n",
        "\n",
        "5. Naive Bayes\n",
        "Overview: Naive Bayes is a probabilistic classifier based on Bayes' theorem, assuming that features are conditionally independent given the class. It works well when the assumption of independence holds or is approximately true.\n",
        "\n",
        "Advantages: Simple, fast, works well with small datasets and high-dimensional data (e.g., text classification), and performs well with categorical features.\n",
        "\n",
        "Disadvantages: The assumption of conditional independence often doesn't hold in real-world datasets, limiting its performance in certain cases.\n",
        "\n",
        "6. Gradient Boosting Machines (GBM)\n",
        "Overview: Gradient Boosting is an ensemble technique that builds decision trees sequentially, where each tree attempts to correct the errors of the previous one. Popular algorithms include XGBoost, LightGBM, and CatBoost.\n",
        "\n",
        "Advantages: Often provides state-of-the-art performance, robust to overfitting when tuned properly, and handles various types of data.\n",
        "\n",
        "Disadvantages: Can be computationally expensive, requires careful tuning, and is less interpretable than some other models.\n",
        "\n",
        "7. Neural Networks\n",
        "Overview: Neural networks are powerful models that can capture highly complex patterns by using multiple layers of interconnected nodes. For classification tasks, a common type of neural network is the feedforward neural network.\n",
        "\n",
        "Advantages: Highly flexible and can model very complex relationships. They perform exceptionally well on large datasets and tasks like image recognition, natural language processing, and more.\n",
        "\n",
        "Disadvantages: Require a large amount of data for training, computationally intensive, difficult to interpret (a \"black box\" model), and require careful tuning of hyperparameters (e.g., learning rate, number of layers).\n",
        "\n",
        "8. Linear Discriminant Analysis (LDA)\n",
        "Overview: LDA is a linear classifier that works by finding a projection of the data that maximizes the separation between classes. It assumes that the features are normally distributed and have the same covariance matrix for each class.\n",
        "\n",
        "Advantages: Effective when the class distributions are roughly Gaussian, works well when the classes are well-separated, and has a strong theoretical foundation.\n",
        "\n",
        "Disadvantages: Assumes normally distributed features with the same variance across classes, which may not always hold in practice.\n",
        "\n",
        "9. Elastic Net\n",
        "Overview: Elastic Net is a combination of Lasso (L1) and Ridge (L2) regularization, which can be used for classification tasks in a similar way as logistic regression but with the added benefit of both feature selection and regularization.\n",
        "\n",
        "Advantages: Works well when there are many correlated features, and it can handle high-dimensional data more effectively.\n",
        "\n",
        "Disadvantages: Like logistic regression, it assumes a linear relationship between features and the log-odds of the outcome."
      ],
      "metadata": {
        "id": "S8kTZBWzHhQc"
      }
    },
    {
      "cell_type": "markdown",
      "source": [
        "11. What are Classification Evaluation Metrics."
      ],
      "metadata": {
        "id": "oE864HCZHtq1"
      }
    },
    {
      "cell_type": "markdown",
      "source": [
        "Classification evaluation metrics are used to assess the performance of a classification model. These metrics provide insights into how well the model is predicting the different classes and can highlight areas of strength or weakness, especially when dealing with imbalanced datasets or multi-class problems. Here are the most commonly used classification evaluation metrics:\n",
        "\n",
        "1. Accuracy\n",
        "Definition: Accuracy measures the proportion of correctly predicted instances out of the total instances.\n",
        "\n",
        "Formula:\n",
        "\n",
        "Accuracy\n",
        "=\n",
        "True Positives (TP) + True Negatives (TN)\n",
        "Total Instances (TP + TN + FP + FN)\n",
        "Accuracy=\n",
        "Total Instances (TP + TN + FP + FN)\n",
        "True Positives (TP) + True Negatives (TN)\n",
        "​\n",
        "\n",
        "Use case: Accuracy is straightforward and useful when the classes are balanced. However, it can be misleading in imbalanced datasets, where the model could predict the majority class well but still perform poorly overall.\n",
        "\n",
        "2. Precision (Positive Predictive Value)\n",
        "Definition: Precision measures the proportion of positive predictions that are actually correct (i.e., how many of the predicted positive instances are truly positive).\n",
        "\n",
        "Formula:\n",
        "\n",
        "Precision\n",
        "=\n",
        "True Positives (TP)\n",
        "True Positives (TP) + False Positives (FP)\n",
        "Precision=\n",
        "True Positives (TP) + False Positives (FP)\n",
        "True Positives (TP)\n",
        "​\n",
        "\n",
        "Use case: Precision is particularly important when the cost of false positives is high, such as in fraud detection or medical diagnoses (e.g., incorrectly diagnosing a healthy person as sick).\n",
        "\n",
        "3. Recall (Sensitivity, True Positive Rate)\n",
        "Definition: Recall measures the proportion of actual positive instances that were correctly identified by the model (i.e., how many of the true positive instances were correctly predicted).\n",
        "\n",
        "Formula:\n",
        "\n",
        "Recall\n",
        "=\n",
        "True Positives (TP)\n",
        "True Positives (TP) + False Negatives (FN)\n",
        "Recall=\n",
        "True Positives (TP) + False Negatives (FN)\n",
        "True Positives (TP)\n",
        "​\n",
        "\n",
        "Use case: Recall is crucial when the cost of false negatives is high, such as in cancer detection (where missing a positive case can have severe consequences).\n",
        "\n",
        "4. F1 Score\n",
        "Definition: The F1 score is the harmonic mean of precision and recall. It provides a balanced measure of both precision and recall, especially useful when the data is imbalanced.\n",
        "\n",
        "Formula:\n",
        "\n",
        "F1 Score\n",
        "=\n",
        "2\n",
        "×\n",
        "Precision\n",
        "×\n",
        "Recall\n",
        "Precision\n",
        "+\n",
        "Recall\n",
        "F1 Score=2×\n",
        "Precision+Recall\n",
        "Precision×Recall\n",
        "​\n",
        "\n",
        "Use case: The F1 score is ideal when you need a balance between precision and recall and when you have an imbalanced dataset.\n",
        "\n",
        "5. ROC Curve (Receiver Operating Characteristic Curve)\n",
        "Definition: The ROC curve is a graphical representation of the performance of a binary classifier as its discrimination threshold is varied. It plots the True Positive Rate (Recall) on the y-axis against the False Positive Rate (1 - Specificity) on the x-axis.\n",
        "\n",
        "Use case: The ROC curve is useful for comparing different models and for evaluating how well the model distinguishes between the two classes across various threshold values.\n",
        "\n",
        "6. AUC (Area Under the ROC Curve)\n",
        "Definition: AUC represents the area under the ROC curve and provides an aggregate measure of model performance across all possible classification thresholds. AUC ranges from 0 to 1, with 1 indicating perfect classification and 0.5 indicating random guessing.\n",
        "\n",
        "Use case: AUC is particularly helpful for evaluating binary classification models, especially when dealing with imbalanced datasets.\n",
        "\n",
        "7. Confusion Matrix\n",
        "Definition: A confusion matrix is a table that summarizes the performance of a classification algorithm by showing the actual versus predicted classifications. It includes:\n",
        "\n",
        "True Positives (TP): Correctly predicted positive instances.\n",
        "\n",
        "True Negatives (TN): Correctly predicted negative instances.\n",
        "\n",
        "False Positives (FP): Negative instances incorrectly classified as positive.\n",
        "\n",
        "False Negatives (FN): Positive instances incorrectly classified as negative.\n",
        "\n",
        "Use case: A confusion matrix provides a detailed view of how well the model is performing across different classes. It's the basis for many other evaluation metrics.\n",
        "\n",
        "8. Specificity (True Negative Rate)\n",
        "Definition: Specificity measures the proportion of actual negative instances that were correctly identified as negative by the model.\n",
        "\n",
        "Formula:\n",
        "\n",
        "Specificity\n",
        "=\n",
        "True Negatives (TN)\n",
        "True Negatives (TN) + False Positives (FP)\n",
        "Specificity=\n",
        "True Negatives (TN) + False Positives (FP)\n",
        "True Negatives (TN)\n",
        "​\n",
        "\n",
        "Use case: Specificity is important when the cost of false positives is high and you want to ensure that negative cases are correctly identified, such as in spam filtering.\n",
        "\n",
        "9. Logarithmic Loss (Log Loss)\n",
        "Definition: Log loss measures the accuracy of the classifier by penalizing false classifications with a higher cost as the predicted probability diverges from the actual class label. It calculates the cross-entropy between the true labels and predicted probabilities.\n",
        "\n",
        "Formula:\n",
        "\n",
        "Log Loss\n",
        "=\n",
        "−\n",
        "1\n",
        "𝑚\n",
        "∑\n",
        "𝑖\n",
        "=\n",
        "1\n",
        "𝑚\n",
        "[\n",
        "𝑦\n",
        "(\n",
        "𝑖\n",
        ")\n",
        "log\n",
        "⁡\n",
        "(\n",
        "𝑝\n",
        "(\n",
        "𝑖\n",
        ")\n",
        ")\n",
        "+\n",
        "(\n",
        "1\n",
        "−\n",
        "𝑦\n",
        "(\n",
        "𝑖\n",
        ")\n",
        ")\n",
        "log\n",
        "⁡\n",
        "(\n",
        "1\n",
        "−\n",
        "𝑝\n",
        "(\n",
        "𝑖\n",
        ")\n",
        ")\n",
        "]\n",
        "Log Loss=−\n",
        "m\n",
        "1\n",
        "​\n",
        "  \n",
        "i=1\n",
        "∑\n",
        "m\n",
        "​\n",
        " [y\n",
        "(i)\n",
        " log(p\n",
        "(i)\n",
        " )+(1−y\n",
        "(i)\n",
        " )log(1−p\n",
        "(i)\n",
        " )]\n",
        "where\n",
        "𝑝\n",
        "(\n",
        "𝑖\n",
        ")\n",
        "p\n",
        "(i)\n",
        "  is the predicted probability and\n",
        "𝑦\n",
        "(\n",
        "𝑖\n",
        ")\n",
        "y\n",
        "(i)\n",
        "  is the true label.\n",
        "\n",
        "Use case: Log loss is used when evaluating models that output probabilities, and it's particularly useful in models where you care about confidence in predictions (e.g., in probabilistic classification tasks).\n",
        "\n",
        "10. Matthews Correlation Coefficient (MCC)\n",
        "Definition: The Matthews Correlation Coefficient is a balanced metric that takes into account true and false positives, as well as true and false negatives. It ranges from -1 (perfectly incorrect) to +1 (perfectly correct), with 0 indicating no better than random prediction.\n",
        "\n",
        "Formula:\n",
        "\n",
        "MCC\n",
        "=\n",
        "TP\n",
        "×\n",
        "TN\n",
        "−\n",
        "FP\n",
        "×\n",
        "FN\n",
        "(\n",
        "TP\n",
        "+\n",
        "FP\n",
        ")\n",
        "(\n",
        "TP\n",
        "+\n",
        "FN\n",
        ")\n",
        "(\n",
        "TN\n",
        "+\n",
        "FP\n",
        ")\n",
        "(\n",
        "TN\n",
        "+\n",
        "FN\n",
        ")\n",
        "MCC=\n",
        "(TP+FP)(TP+FN)(TN+FP)(TN+FN)\n",
        "​\n",
        "\n",
        "TP×TN−FP×FN\n",
        "​\n",
        "\n",
        "Use case: MCC is useful for imbalanced datasets, as it takes all elements of the confusion matrix into account."
      ],
      "metadata": {
        "id": "DviSIZvgHwYF"
      }
    },
    {
      "cell_type": "markdown",
      "source": [
        "12. How does class imbalance affect Logistic Regression.\n"
      ],
      "metadata": {
        "id": "aGRvkfwhIHfk"
      }
    },
    {
      "cell_type": "markdown",
      "source": [
        "Class imbalance can significantly affect Logistic Regression by biasing the model towards the majority class, which leads to suboptimal performance, especially for the minority class. In an imbalanced dataset, the model may predict the majority class most of the time to minimize the overall error, resulting in poor predictions for the minority class. This causes accuracy to become a misleading metric, as the model could have high accuracy by simply predicting the majority class, even if it fails to correctly predict instances of the minority class.\n",
        "\n",
        "Moreover, class imbalance can lead to biased coefficients, where the model assigns more importance to features related to the majority class, neglecting features that could be useful for the minority class. This makes the model less generalizable, particularly when deployed in real-world scenarios where both classes are important.\n",
        "\n",
        "To address class imbalance in Logistic Regression, several techniques can be used:\n",
        "\n",
        "Resampling: Either oversample the minority class or undersample the majority class to balance the dataset. Synthetic sampling techniques like SMOTE can also be used.\n",
        "\n",
        "Class weights: Assign higher weights to the minority class to make the model pay more attention to those instances, helping to balance the model’s predictions.\n",
        "\n",
        "Evaluation metrics: Use metrics like precision, recall, F1 score, or balanced accuracy instead of plain accuracy to better assess model performance on both classes.\n",
        "\n",
        "Threshold adjustment: Adjust the decision threshold to increase the model's sensitivity to the minority class.\n",
        "\n",
        "These strategies help mitigate the impact of class imbalance and improve the model's performance across both classes."
      ],
      "metadata": {
        "id": "5tiQ-Tx-INb5"
      }
    },
    {
      "cell_type": "markdown",
      "source": [
        "13. What is Hyperparameter Tuning in Logistic Regression.\n"
      ],
      "metadata": {
        "id": "aDXTKm3uIXQX"
      }
    },
    {
      "cell_type": "markdown",
      "source": [
        "Hyperparameter tuning in Logistic Regression refers to the process of selecting the best set of hyperparameters that maximize the model's performance. Hyperparameters are parameters that are not learned from the data during the training process but are set before training begins. In Logistic Regression, hyperparameter tuning helps optimize the model to better fit the data, improving generalization and reducing overfitting.\n",
        "\n",
        "Key Hyperparameters in Logistic Regression:\n",
        "Regularization Strength (C):\n",
        "\n",
        "Description: The regularization parameter, denoted as C, controls the strength of regularization applied to the model. A small value of C means stronger regularization (more penalty on large coefficients), which can reduce overfitting but may cause underfitting. A larger value of C means weaker regularization, allowing the model to fit the training data more closely.\n",
        "\n",
        "Tuning Goal: Find the value of C that balances bias and variance, avoiding overfitting or underfitting.\n",
        "\n",
        "Regularization Type (Penalty):\n",
        "\n",
        "Description: Logistic Regression can use different types of regularization. The two most common types are L1 (Lasso) and L2 (Ridge). L1 regularization tends to create sparse models by setting some coefficients to zero, leading to feature selection. L2 regularization, on the other hand, penalizes large coefficients but keeps all features.\n",
        "\n",
        "Tuning Goal: Choose between L1 or L2 regularization based on the data and whether feature selection is desired. ElasticNet is another option that combines L1 and L2 regularization.\n",
        "\n",
        "Solver:\n",
        "\n",
        "Description: The solver is the algorithm used to optimize the logistic regression model. Common solvers include 'liblinear', 'newton-cg', 'lbfgs', and 'saga'. Some solvers work better with large datasets, while others are better for small datasets.\n",
        "\n",
        "Tuning Goal: Select the solver that works best with your dataset, especially if the dataset is large or sparse.\n",
        "\n",
        "Max Iterations:\n",
        "\n",
        "Description: The maximum number of iterations for the optimization algorithm to converge to a solution. If the algorithm doesn’t converge within the set number of iterations, the solution may not be accurate.\n",
        "\n",
        "Tuning Goal: Set an appropriate value for the maximum number of iterations to ensure convergence.\n",
        "\n",
        "Hyperparameter Tuning Methods:\n",
        "Grid Search:\n",
        "\n",
        "Description: Grid search involves specifying a set of hyperparameters and exhaustively searching through all possible combinations to find the best performing set.\n",
        "\n",
        "Advantage: Comprehensive, but computationally expensive.\n",
        "\n",
        "Random Search:\n",
        "\n",
        "Description: Instead of searching all combinations, random search selects random combinations of hyperparameters, which can be more efficient and often gives comparable results to grid search.\n",
        "\n",
        "Advantage: Faster than grid search and can find good hyperparameter combinations with fewer evaluations.\n",
        "\n",
        "Cross-Validation:\n",
        "\n",
        "Description: Cross-validation involves splitting the data into multiple subsets and training the model on different training sets while evaluating it on a separate validation set. This helps ensure that the model generalizes well and is not overfitting.\n",
        "\n",
        "Advantage: Reduces the risk of overfitting and provides a better estimate of model performance."
      ],
      "metadata": {
        "id": "moYa2gRSIcxl"
      }
    },
    {
      "cell_type": "markdown",
      "source": [
        "14. What are different solvers in Logistic Regression? Which one should be used."
      ],
      "metadata": {
        "id": "qAvRNhesIlH0"
      }
    },
    {
      "cell_type": "markdown",
      "source": [
        "In Logistic Regression, the solver is the algorithm used to optimize the model by finding the best parameters. Different solvers have varying strengths based on dataset size, regularization type, and computational efficiency. Here are the common solvers:\n",
        "\n",
        "liblinear: Suitable for small to medium datasets, this solver uses coordinate descent and supports both L1 (Lasso) and L2 (Ridge) regularization. It’s particularly useful when L1 regularization is required, as it performs feature selection. However, it’s not ideal for large datasets due to slower convergence.\n",
        "\n",
        "newton-cg: This is a second-order optimization method using Newton’s method. It’s efficient for medium to large datasets and works well with L2 regularization. It converges faster than first-order methods but is computationally more expensive.\n",
        "\n",
        "lbfgs: A quasi-Newton method that approximates the Hessian matrix and is more memory-efficient for large datasets. It is effective for L2 regularization and large datasets but can be slower than newton-cg on very small datasets.\n",
        "\n",
        "saga: This solver is an extension of SGD (Stochastic Gradient Descent), handling both L1 and L2 regularization efficiently. It works well for large datasets and is ideal for sparse data.\n",
        "\n",
        "sgd: Based on Stochastic Gradient Descent, this solver is ideal for very large datasets and incremental learning, but may require careful tuning of the learning rate.\n",
        "\n",
        "Which Solver to Use?\n",
        "Use liblinear for small datasets with L1 regularization.\n",
        "\n",
        "Use lbfgs or newton-cg for large datasets with L2 regularization.\n",
        "\n",
        "Use saga for large datasets with L1 regularization or sparse data."
      ],
      "metadata": {
        "id": "oxiXt4SCIoil"
      }
    },
    {
      "cell_type": "markdown",
      "source": [
        "15.How is Logistic Regression extended for multiclass classification."
      ],
      "metadata": {
        "id": "bPrZwymhI2mr"
      }
    },
    {
      "cell_type": "markdown",
      "source": [
        "Logistic Regression is naturally designed for binary classification, but it can be extended to multiclass classification using two main techniques: One-vs-Rest (OvR) and Multinomial Logistic Regression.\n",
        "\n",
        "1. One-vs-Rest (OvR)\n",
        "In the OvR approach, a separate binary classifier is trained for each class. For a dataset with\n",
        "𝐾\n",
        "K classes,\n",
        "𝐾\n",
        "K classifiers are created. Each classifier learns to distinguish one class from all the others (i.e., it predicts whether the instance belongs to a specific class or not). When making predictions, the class corresponding to the classifier with the highest predicted probability is selected.\n",
        "\n",
        "Advantages: Simple to implement and works well with independent classes. It can be computationally efficient for small datasets. Disadvantages: Does not capture inter-class relationships and may suffer from class imbalance.\n",
        "\n",
        "2. Multinomial Logistic Regression (Softmax Regression)\n",
        "This approach uses the softmax function to model the probability distribution across all classes in a single classifier. The softmax function calculates the probability of each class based on the input features, ensuring that the probabilities sum to 1. The model is trained to minimize the cross-entropy loss, which is suitable for multi-class classification.\n",
        "\n",
        "Advantages: Captures relationships between classes and provides a unified model, making it suitable for complex multiclass problems. Disadvantages: More computationally expensive than OvR, especially with a large number of classes."
      ],
      "metadata": {
        "id": "oAUiSSsCI8il"
      }
    },
    {
      "cell_type": "markdown",
      "source": [
        "16. What are the advantages and disadvantages of Logistic Regression."
      ],
      "metadata": {
        "id": "u2K_YyZAJOi_"
      }
    },
    {
      "cell_type": "markdown",
      "source": [
        "Logistic Regression is a widely used algorithm for classification tasks due to its simplicity and efficiency. However, like any model, it has both advantages and disadvantages. Here's a breakdown:\n",
        "\n",
        "Advantages of Logistic Regression:\n",
        "Simplicity and Interpretability:\n",
        "\n",
        "Logistic Regression is easy to understand and implement. The model’s output is the probability of an instance belonging to a particular class, which is interpretable and can be explained using the coefficients of the model.\n",
        "\n",
        "Efficiency:\n",
        "\n",
        "It is computationally efficient, especially for small to medium-sized datasets. Training a logistic regression model is fast compared to more complex models, making it ideal for quick predictions.\n",
        "\n",
        "Works Well for Linearly Separable Data:\n",
        "\n",
        "Logistic Regression performs well when the classes are linearly separable, i.e., when a straight line (or hyperplane in higher dimensions) can separate the classes.\n",
        "\n",
        "Probability Output:\n",
        "\n",
        "The model not only predicts the class but also provides the probability that an instance belongs to a certain class, which can be useful for decision-making and threshold adjustment.\n",
        "\n",
        "Regularization:\n",
        "\n",
        "Logistic Regression allows for regularization (L1 and L2), which helps prevent overfitting by penalizing large coefficients, especially in high-dimensional data.\n",
        "\n",
        "Disadvantages of Logistic Regression:\n",
        "Assumes Linearity:\n",
        "\n",
        "Logistic Regression assumes that the relationship between the independent variables and the log-odds of the dependent variable is linear. If the data is not linearly separable, the model’s performance may be poor.\n",
        "\n",
        "Sensitive to Outliers:\n",
        "\n",
        "Logistic Regression can be sensitive to outliers, which may skew the results and lead to suboptimal predictions.\n",
        "\n",
        "Not Ideal for Complex Relationships:\n",
        "\n",
        "It struggles to capture complex patterns in the data. For datasets with non-linear decision boundaries or interactions between features, more complex models like Decision Trees or Neural Networks might be more effective.\n",
        "\n",
        "Limited to Binary and Multiclass Problems:\n",
        "\n",
        "While it can be extended to multiclass classification using techniques like One-vs-Rest or Multinomial Logistic Regression, logistic regression is fundamentally designed for binary classification tasks.\n",
        "\n",
        "Requires Feature Scaling:\n",
        "\n",
        "Logistic Regression can be sensitive to the scale of the input features. Feature scaling (e.g., normalization or standardization) is often necessary to improve model performance and convergence speed."
      ],
      "metadata": {
        "id": "AVmiQyoKJRbW"
      }
    },
    {
      "cell_type": "markdown",
      "source": [
        "17. What are some use cases of Logistic Regression."
      ],
      "metadata": {
        "id": "cWVJpyVSJZid"
      }
    },
    {
      "cell_type": "markdown",
      "source": [
        "Logistic Regression is a versatile and widely used algorithm for classification tasks. Below are some common use cases where logistic regression is applied:\n",
        "\n",
        "1. Spam Email Detection:\n",
        "Use Case: Identifying whether an email is spam or not spam (ham) based on features like the presence of certain words, the sender's address, and email structure.\n",
        "\n",
        "Why Logistic Regression: It's a binary classification problem, where the output is either spam (1) or not spam (0). Logistic Regression is efficient and interpretable for such tasks.\n",
        "\n",
        "2. Customer Churn Prediction:\n",
        "Use Case: Predicting whether a customer will leave (churn) or stay with a service, such as a subscription-based service or telecom provider.\n",
        "\n",
        "Why Logistic Regression: It can model the likelihood of a customer churning based on features like usage patterns, service plans, customer behavior, and demographics.\n",
        "\n",
        "3. Credit Scoring and Loan Default Prediction:\n",
        "Use Case: Determining the likelihood that a borrower will default on a loan or credit card payment based on historical data and financial indicators.\n",
        "\n",
        "Why Logistic Regression: It’s a binary classification problem where the output is either default (1) or no default (0), and logistic regression provides a probability that can be used to make decisions.\n",
        "\n",
        "4. Disease Diagnosis (e.g., Diabetes, Heart Disease):\n",
        "Use Case: Predicting whether a patient has a certain disease (e.g., diabetes, heart disease) based on factors like age, blood pressure, cholesterol levels, and other medical history.\n",
        "\n",
        "Why Logistic Regression: Logistic regression is commonly used in healthcare to predict the likelihood of disease occurrence, especially when the relationship between the features and the disease is expected to be linear or nearly linear.\n",
        "\n",
        "5. Marketing Campaign Effectiveness:\n",
        "Use Case: Determining whether a customer will respond to a marketing campaign (e.g., will they click on an ad or buy a product?).\n",
        "\n",
        "Why Logistic Regression: The goal is to classify customers based on their likelihood of responding to the campaign (yes/no), and logistic regression can estimate probabilities of these outcomes.\n",
        "\n",
        "6. Web Page Click Prediction:\n",
        "Use Case: Predicting whether a user will click on a particular link or advertisement on a webpage.\n",
        "\n",
        "Why Logistic Regression: Logistic regression is used to model the probability of a click (1) versus no click (0) based on user behavior data, demographics, and other relevant features.\n",
        "\n",
        "7. Fraud Detection:\n",
        "Use Case: Detecting fraudulent transactions in financial systems (e.g., credit card fraud detection).\n",
        "\n",
        "Why Logistic Regression: Fraud detection can be framed as a binary classification problem (fraud or not fraud). Logistic regression can be used to model the probability of a transaction being fraudulent based on various transaction features.\n",
        "\n",
        "8. Elections and Political Polling:\n",
        "Use Case: Predicting the outcome of an election or polling survey based on demographic data and previous voting patterns.\n",
        "\n",
        "Why Logistic Regression: Logistic regression can predict the likelihood of a candidate winning or a party receiving a certain percentage of the vote, based on historical voting trends and demographic features.\n",
        "\n",
        "9. Medical Risk Prediction:\n",
        "Use Case: Estimating the likelihood of a patient developing a medical condition or the risk of complications (e.g., predicting the risk of stroke or cancer relapse).\n",
        "\n",
        "Why Logistic Regression: It provides a clear, interpretable model to estimate the probability of medical events based on factors like age, genetics, lifestyle, and previous medical conditions.\n",
        "\n",
        "10. Image Classification (Binary):\n",
        "Use Case: Classifying images as belonging to one of two categories, such as distinguishing between pictures of dogs and cats, or identifying cancerous vs. non-cancerous tumors in medical images.\n",
        "\n",
        "Why Logistic Regression: Logistic regression can be applied to image classification by converting pixel values into features. While more advanced models like CNNs are typically used for image classification, logistic regression can still be effective for simpler binary image tasks."
      ],
      "metadata": {
        "id": "56y8sLhoJjMo"
      }
    },
    {
      "cell_type": "markdown",
      "source": [
        "18. What is the difference between Softmax Regression and Logistic Regression."
      ],
      "metadata": {
        "id": "_9NHIh3dJsHy"
      }
    },
    {
      "cell_type": "markdown",
      "source": [
        "Logistic Regression and Softmax Regression are both used for classification tasks, but they differ primarily in the types of problems they solve and the way they handle output predictions. Here’s a breakdown of the key differences:\n",
        "\n",
        "1. Type of Classification Problem\n",
        "Logistic Regression: Primarily used for binary classification problems, where the goal is to classify instances into one of two classes. The output of logistic regression is a probability that an instance belongs to a particular class, which is then thresholded to make the final binary decision (e.g., class 0 or class 1).\n",
        "\n",
        "Softmax Regression: An extension of logistic regression, Softmax Regression (also called Multinomial Logistic Regression) is used for multiclass classification problems, where there are more than two classes. The softmax function is used to calculate a probability distribution across multiple classes, and the model outputs the class with the highest probability.\n",
        "\n",
        "2. Output Function\n",
        "Logistic Regression: In logistic regression, the output is a single probability value between 0 and 1. It is calculated using the sigmoid function (logistic function), which maps the linear combination of input features to a probability for a binary outcome:\n",
        "\n",
        "𝑃\n",
        "(\n",
        "𝑦\n",
        "=\n",
        "1\n",
        "∣\n",
        "𝑥\n",
        ")\n",
        "=\n",
        "1\n",
        "1\n",
        "+\n",
        "𝑒\n",
        "−\n",
        "(\n",
        "𝑤\n",
        "𝑇\n",
        "𝑥\n",
        "+\n",
        "𝑏\n",
        ")\n",
        "P(y=1∣x)=\n",
        "1+e\n",
        "−(w\n",
        "T\n",
        " x+b)\n",
        "\n",
        "1\n",
        "​\n",
        "\n",
        "Softmax Regression: In softmax regression, the output is a probability distribution over multiple classes. The softmax function is applied to the raw output (logits) for each class, ensuring that the probabilities sum to 1:\n",
        "\n",
        "𝑃\n",
        "(\n",
        "𝑦\n",
        "=\n",
        "𝑘\n",
        "∣\n",
        "𝑥\n",
        ")\n",
        "=\n",
        "𝑒\n",
        "𝜃\n",
        "𝑘\n",
        "𝑇\n",
        "𝑥\n",
        "∑\n",
        "𝑗\n",
        "=\n",
        "1\n",
        "𝐾\n",
        "𝑒\n",
        "𝜃\n",
        "𝑗\n",
        "𝑇\n",
        "𝑥\n",
        "P(y=k∣x)=\n",
        "∑\n",
        "j=1\n",
        "K\n",
        "​\n",
        " e\n",
        "θ\n",
        "j\n",
        "T\n",
        "​\n",
        " x\n",
        "\n",
        "e\n",
        "θ\n",
        "k\n",
        "T\n",
        "​\n",
        " x\n",
        "\n",
        "​\n",
        "\n",
        "where\n",
        "𝐾\n",
        "K is the total number of classes, and\n",
        "𝜃\n",
        "𝑘\n",
        "θ\n",
        "k\n",
        "​\n",
        "  is the parameter vector for class\n",
        "𝑘\n",
        "k.\n",
        "\n",
        "3. Objective\n",
        "Logistic Regression: The objective in logistic regression is to predict the probability that an instance belongs to class 1 (positive class) versus class 0 (negative class). The model is trained to minimize the binary cross-entropy loss.\n",
        "\n",
        "Softmax Regression: In softmax regression, the goal is to predict the probabilities of the instance belonging to one of\n",
        "𝐾\n",
        "K classes. The model is trained to minimize the categorical cross-entropy loss (also known as multiclass log loss), which is a generalization of binary cross-entropy for multiclass problems.\n",
        "\n",
        "4. Number of Classes\n",
        "Logistic Regression: Handles binary classification, meaning there are only two possible classes (e.g., class 0 and class 1).\n",
        "\n",
        "Softmax Regression: Handles multiclass classification, where there are more than two classes. The number of outputs is equal to the number of classes, and each class gets a separate set of parameters (one for each class).\n",
        "\n",
        "5. Model Representation\n",
        "Logistic Regression: For binary classification, logistic regression has a single parameter vector\n",
        "𝜃\n",
        "θ, which corresponds to a single decision boundary that separates the two classes.\n",
        "\n",
        "Softmax Regression: For multiclass classification, softmax regression has multiple parameter vectors (one for each class). These vectors correspond to different decision boundaries, and each class has its own set of weights and bias."
      ],
      "metadata": {
        "id": "cSWltg3hJwer"
      }
    },
    {
      "cell_type": "markdown",
      "source": [
        "19.  How do we choose between One-vs-Rest (OvR) and Softmax for multiclass classification."
      ],
      "metadata": {
        "id": "3A2_6alQJ4ss"
      }
    },
    {
      "cell_type": "markdown",
      "source": [
        "Choosing between One-vs-Rest (OvR) and Softmax Regression (Multinomial Logistic Regression) for multiclass classification depends on several factors, including the complexity of the problem, the number of classes, computational efficiency, and the relationships between the classes. Here's a guide to help make the decision:\n",
        "\n",
        "1. Number of Classes\n",
        "One-vs-Rest (OvR): This approach can be used for multiclass classification problems, but it treats each class as a separate binary classification task. For a dataset with\n",
        "𝐾\n",
        "K classes, OvR trains\n",
        "𝐾\n",
        "K separate binary classifiers. Each classifier predicts whether the input belongs to that class or not.\n",
        "\n",
        "Softmax Regression: This method is inherently designed for multiclass classification. It models the problem with a single classifier that outputs a probability distribution over all\n",
        "𝐾\n",
        "K classes using the softmax function.\n",
        "\n",
        "When to Use:\n",
        "\n",
        "If the number of classes is large and the relationships between classes are not important, OvR can be a simpler and more efficient approach.\n",
        "\n",
        "If the number of classes is smaller or the classes are mutually exclusive and the relationships between them are important, Softmax Regression is often preferred because it provides a direct solution with one model.\n",
        "\n",
        "2. Complexity of Class Relationships\n",
        "One-vs-Rest (OvR): Since OvR trains separate classifiers for each class, it does not account for any relationships or interactions between the classes. Each classifier is independent of the others.\n",
        "\n",
        "Softmax Regression: Softmax Regression models the probability distribution over all classes and captures the relationships between classes directly. It is better at modeling dependencies among classes, as the softmax function ensures that the total probability sums to 1 across all classes.\n",
        "\n",
        "When to Use:\n",
        "\n",
        "Use OvR when you believe the classes are largely independent of each other.\n",
        "\n",
        "Use Softmax Regression when the classes are not independent and there is a need to capture their relationships.\n",
        "\n",
        "3. Computational Efficiency\n",
        "One-vs-Rest (OvR): The computational cost increases with the number of classes because you need to train a separate binary classifier for each class. In situations with many classes, this can be computationally expensive.\n",
        "\n",
        "Softmax Regression: Softmax Regression involves training a single model, making it computationally more efficient than training multiple classifiers in the OvR approach, especially for smaller datasets with a large number of classes.\n",
        "\n",
        "When to Use:\n",
        "\n",
        "OvR can be more computationally efficient when the number of classes is relatively small, as each binary classifier is simpler to train.\n",
        "\n",
        "Softmax Regression is typically more efficient in cases with many classes, as only one model needs to be trained.\n",
        "\n",
        "4. Performance Considerations\n",
        "One-vs-Rest (OvR): OvR can be less accurate when the classes are imbalanced or when the decision boundaries between classes are complex. In addition, OvR might face challenges if the classifiers output multiple high probabilities, leading to potential conflicts (i.e., both classifiers being confident about different classes for the same input).\n",
        "\n",
        "Softmax Regression: Softmax Regression directly handles the multiclass nature of the problem and avoids the potential issues with OvR, like multiple classifiers having high probabilities for different classes. It typically provides better performance in situations with complex decision boundaries.\n",
        "\n",
        "When to Use:\n",
        "\n",
        "OvR might work well for simple problems where the classes are relatively well-separated and the decision boundaries are not complex.\n",
        "\n",
        "Softmax Regression is preferred when there are complex decision boundaries between classes or when performance on more nuanced, overlapping classes is critical.\n",
        "\n",
        "5. Interpretability\n",
        "One-vs-Rest (OvR): OvR provides interpretable results because each binary classifier corresponds to the likelihood of an instance belonging to a specific class versus all others. This can be easier to understand, especially when the task involves a small number of classes.\n",
        "\n",
        "Softmax Regression: While Softmax Regression provides a probability distribution, it can be harder to interpret in terms of individual class decision boundaries, especially when there are many classes.\n",
        "\n",
        "When to Use:\n",
        "\n",
        "Use OvR when interpretability is a priority and when you need to understand each classifier’s decision-making process.\n",
        "\n",
        "Use Softmax Regression when the focus is more on the overall performance and you’re okay with less individual interpretability."
      ],
      "metadata": {
        "id": "Yae_PXDgJ76h"
      }
    },
    {
      "cell_type": "markdown",
      "source": [
        "20. How do we interpret coefficients in Logistic Regression?"
      ],
      "metadata": {
        "id": "y83zzz15KJpH"
      }
    },
    {
      "cell_type": "markdown",
      "source": [
        "Interpreting the coefficients in Logistic Regression helps understand the relationship between the input features and the probability of the target outcome. The model predicts the probability of a binary outcome, typically coded as 0 or 1, using a logistic function. The coefficients represent the impact of each feature on the log-odds of the outcome.\n",
        "\n",
        "Log-Odds Interpretation:\n",
        "The logistic regression model is expressed as:\n",
        "\n",
        "log\n",
        "⁡\n",
        "(\n",
        "𝑃\n",
        "(\n",
        "𝑦\n",
        "=\n",
        "1\n",
        "∣\n",
        "𝑋\n",
        ")\n",
        "1\n",
        "−\n",
        "𝑃\n",
        "(\n",
        "𝑦\n",
        "=\n",
        "1\n",
        "∣\n",
        "𝑋\n",
        ")\n",
        ")\n",
        "=\n",
        "𝛽\n",
        "0\n",
        "+\n",
        "𝛽\n",
        "1\n",
        "𝑋\n",
        "1\n",
        "+\n",
        "⋯\n",
        "+\n",
        "𝛽\n",
        "𝑛\n",
        "𝑋\n",
        "𝑛\n",
        "log(\n",
        "1−P(y=1∣X)\n",
        "P(y=1∣X)\n",
        "​\n",
        " )=β\n",
        "0\n",
        "​\n",
        " +β\n",
        "1\n",
        "​\n",
        " X\n",
        "1\n",
        "​\n",
        " +⋯+β\n",
        "n\n",
        "​\n",
        " X\n",
        "n\n",
        "​\n",
        "\n",
        "Where the left side represents the log-odds of the outcome, and the right side is a linear combination of the features.\n",
        "\n",
        "Coefficient Interpretation:\n",
        "Sign of Coefficients:\n",
        "\n",
        "Positive Coefficient (\n",
        "𝛽\n",
        ">\n",
        "0\n",
        "β>0): A positive coefficient means that as the value of the feature increases, the log-odds of the positive outcome (e.g.,\n",
        "𝑦\n",
        "=\n",
        "1\n",
        "y=1) increase, making the outcome more likely.\n",
        "\n",
        "Negative Coefficient (\n",
        "𝛽\n",
        "<\n",
        "0\n",
        "β<0): A negative coefficient means that as the feature increases, the log-odds of the positive outcome decrease, making the outcome less likely.\n",
        "\n",
        "Magnitude of Coefficients: The absolute value of the coefficient represents the strength of the effect. Larger magnitudes indicate a stronger influence on the outcome.\n",
        "\n",
        "Exponential of Coefficients (Odds Ratio):\n",
        "To interpret coefficients more intuitively, we exponentiate them to get the odds ratio:\n",
        "\n",
        "Odds Ratio\n",
        "=\n",
        "𝑒\n",
        "𝛽\n",
        "Odds Ratio=e\n",
        "β\n",
        "\n",
        "Odds Ratio > 1: The feature increases the odds of the outcome.\n",
        "\n",
        "Odds Ratio < 1: The feature decreases the odds of the outcome.\n",
        "\n",
        "Thus, the coefficient and odds ratio provide insight into how each feature influences the likelihood of the outcome."
      ],
      "metadata": {
        "id": "AJPrYfOBKNkJ"
      }
    },
    {
      "cell_type": "markdown",
      "source": [
        "**Practical**"
      ],
      "metadata": {
        "id": "Gm01SJdPKmiw"
      }
    },
    {
      "cell_type": "markdown",
      "source": [],
      "metadata": {
        "id": "W4D08Hv4KYsK"
      }
    },
    {
      "cell_type": "markdown",
      "source": [
        "1. Write a Python program that loads a dataset, splits it into training and testing sets, applies Logistic\n",
        "Regression, and prints the model accuracy"
      ],
      "metadata": {
        "id": "bzJNH5tUKrga"
      }
    },
    {
      "cell_type": "code",
      "source": [
        "# Importing necessary libraries\n",
        "import numpy as np\n",
        "from sklearn.model_selection import train_test_split\n",
        "from sklearn.linear_model import LogisticRegression\n",
        "from sklearn.datasets import load_iris\n",
        "from sklearn.metrics import accuracy_score\n",
        "\n",
        "# Load the Iris dataset\n",
        "data = load_iris()\n",
        "X = data.data  # Features\n",
        "y = data.target  # Labels\n",
        "\n",
        "# Split the dataset into training and testing sets (80% training, 20% testing)\n",
        "X_train, X_test, y_train, y_test = train_test_split(X, y, test_size=0.2, random_state=42)\n",
        "\n",
        "# Initialize the Logistic Regression model\n",
        "model = LogisticRegression(max_iter=200)\n",
        "\n",
        "# Train the model\n",
        "model.fit(X_train, y_train)\n",
        "\n",
        "# Make predictions on the test set\n",
        "y_pred = model.predict(X_test)\n",
        "\n",
        "# Calculate and print the accuracy\n",
        "accuracy = accuracy_score(y_test, y_pred)\n",
        "print(f\"Model Accuracy: {accuracy * 100:.2f}%\")\n"
      ],
      "metadata": {
        "colab": {
          "base_uri": "https://localhost:8080/"
        },
        "id": "w88UnPA6Kvcj",
        "outputId": "ffb4a7ae-e9c7-4f98-caba-e0a79ac995de"
      },
      "execution_count": 1,
      "outputs": [
        {
          "output_type": "stream",
          "name": "stdout",
          "text": [
            "Model Accuracy: 100.00%\n"
          ]
        }
      ]
    },
    {
      "cell_type": "code",
      "source": [
        "#2. Write a Python program to apply L1 regularization (Lasso) on a dataset using LogisticRegression(penalty='l1') and print the model accuracyC"
      ],
      "metadata": {
        "id": "BrQKMUPRK14S"
      },
      "execution_count": null,
      "outputs": []
    },
    {
      "cell_type": "code",
      "source": [
        "\n",
        "# Load the Iris dataset\n",
        "data = load_iris()\n",
        "X = data.data  # Features\n",
        "y = data.target  # Labels\n",
        "\n",
        "# Split the dataset into training and testing sets (80% training, 20% testing)\n",
        "X_train, X_test, y_train, y_test = train_test_split(X, y, test_size=0.2, random_state=42)\n",
        "\n",
        "# Initialize the Logistic Regression model with L1 regularization (Lasso)\n",
        "model = LogisticRegression(penalty='l1', solver='liblinear', max_iter=200)\n",
        "\n",
        "# Train the model\n",
        "model.fit(X_train, y_train)\n",
        "\n",
        "# Make predictions on the test set\n",
        "y_pred = model.predict(X_test)\n",
        "\n",
        "# Calculate and print the accuracy\n",
        "accuracy = accuracy_score(y_test, y_pred)\n",
        "print(f\"Model Accuracy with L1 Regularization (Lasso): {accuracy * 100:.2f}%\")\n"
      ],
      "metadata": {
        "colab": {
          "base_uri": "https://localhost:8080/"
        },
        "id": "cpksPr10LBVp",
        "outputId": "0268cf9d-41c3-485f-abc8-b0ad214498fb"
      },
      "execution_count": 2,
      "outputs": [
        {
          "output_type": "stream",
          "name": "stdout",
          "text": [
            "Model Accuracy with L1 Regularization (Lasso): 100.00%\n"
          ]
        }
      ]
    },
    {
      "cell_type": "code",
      "source": [
        "# 3. Write a Python program to train Logistic Regression with L2 regularization (Ridge) using LogisticRegression(penalty='l2'). Print model accuracy and coefficients"
      ],
      "metadata": {
        "id": "bGI3dPxNLI9a"
      },
      "execution_count": null,
      "outputs": []
    },
    {
      "cell_type": "code",
      "source": [
        "\n",
        "\n",
        "# Load the Iris dataset\n",
        "data = load_iris()\n",
        "X = data.data  # Features\n",
        "y = data.target  # Labels\n",
        "\n",
        "# Split the dataset into training and testing sets (80% training, 20% testing)\n",
        "X_train, X_test, y_train, y_test = train_test_split(X, y, test_size=0.2, random_state=42)\n",
        "\n",
        "# Initialize the Logistic Regression model with L2 regularization (Ridge)\n",
        "model = LogisticRegression(penalty='l2', solver='liblinear', max_iter=200)\n",
        "\n",
        "# Train the model\n",
        "model.fit(X_train, y_train)\n",
        "\n",
        "# Make predictions on the test set\n",
        "y_pred = model.predict(X_test)\n",
        "\n",
        "# Calculate and print the accuracy\n",
        "accuracy = accuracy_score(y_test, y_pred)\n",
        "print(f\"Model Accuracy with L2 Regularization (Ridge): {accuracy * 100:.2f}%\")\n",
        "\n",
        "# Print the coefficients (weights) of the model\n",
        "print(\"Model Coefficients (Weights):\")\n",
        "print(model.coef_)\n"
      ],
      "metadata": {
        "colab": {
          "base_uri": "https://localhost:8080/"
        },
        "id": "D9X1RJIwLOZk",
        "outputId": "c781da88-fe41-457a-84d0-2fb31633c14d"
      },
      "execution_count": 3,
      "outputs": [
        {
          "output_type": "stream",
          "name": "stdout",
          "text": [
            "Model Accuracy with L2 Regularization (Ridge): 100.00%\n",
            "Model Coefficients (Weights):\n",
            "[[ 0.3711229   1.409712   -2.15210117 -0.95474179]\n",
            " [ 0.49400451 -1.58897112  0.43717015 -1.11187838]\n",
            " [-1.55895271 -1.58893375  2.39874554  2.15556209]]\n"
          ]
        }
      ]
    },
    {
      "cell_type": "code",
      "source": [
        "# 4. Write a Python program to train Logistic Regression with Elastic Net Regularization (penalty='elasticnet')"
      ],
      "metadata": {
        "id": "ey8VeoX3LT8_"
      },
      "execution_count": null,
      "outputs": []
    },
    {
      "cell_type": "code",
      "source": [
        "\n",
        "\n",
        "# Load the Iris dataset\n",
        "data = load_iris()\n",
        "X = data.data  # Features\n",
        "y = data.target  # Labels\n",
        "\n",
        "# Split the dataset into training and testing sets (80% training, 20% testing)\n",
        "X_train, X_test, y_train, y_test = train_test_split(X, y, test_size=0.2, random_state=42)\n",
        "\n",
        "# Initialize the Logistic Regression model with Elastic Net regularization\n",
        "# Set l1_ratio between 0 and 1 (e.g., 0.5 for an equal mix of L1 and L2)\n",
        "model = LogisticRegression(penalty='elasticnet', solver='saga', max_iter=200, l1_ratio=0.5)\n",
        "\n",
        "# Train the model\n",
        "model.fit(X_train, y_train)\n",
        "\n",
        "# Make predictions on the test set\n",
        "y_pred = model.predict(X_test)\n",
        "\n",
        "# Calculate and print the accuracy\n",
        "accuracy = accuracy_score(y_test, y_pred)\n",
        "print(f\"Model Accuracy with Elastic Net Regularization: {accuracy * 100:.2f}%\")\n",
        "\n",
        "# Print the coefficients (weights) of the model\n",
        "print(\"Model Coefficients (Weights):\")\n",
        "print(model.coef_)\n"
      ],
      "metadata": {
        "colab": {
          "base_uri": "https://localhost:8080/"
        },
        "id": "gfcWDw8yLkpu",
        "outputId": "5b67d660-482b-418d-d5ee-0b93dc511c4c"
      },
      "execution_count": 4,
      "outputs": [
        {
          "output_type": "stream",
          "name": "stdout",
          "text": [
            "Model Accuracy with Elastic Net Regularization: 100.00%\n",
            "Model Coefficients (Weights):\n",
            "[[ 0.38702957  1.77237897 -2.41983777 -0.70886334]\n",
            " [ 0.07822625  0.          0.         -0.57985862]\n",
            " [-1.25904702 -1.53069476  2.59669944  2.08095053]]\n"
          ]
        },
        {
          "output_type": "stream",
          "name": "stderr",
          "text": [
            "/usr/local/lib/python3.11/dist-packages/sklearn/linear_model/_sag.py:348: ConvergenceWarning: The max_iter was reached which means the coef_ did not converge\n",
            "  warnings.warn(\n"
          ]
        }
      ]
    },
    {
      "cell_type": "code",
      "source": [
        "#5. Write a Python program to train a Logistic Regression model for multiclass classification using multi_class='ovr'"
      ],
      "metadata": {
        "id": "D0oHnpy6Lr6u"
      },
      "execution_count": null,
      "outputs": []
    },
    {
      "cell_type": "code",
      "source": [
        "\n",
        "\n",
        "# Load the Iris dataset\n",
        "data = load_iris()\n",
        "X = data.data  # Features\n",
        "y = data.target  # Labels\n",
        "\n",
        "# Split the dataset into training and testing sets (80% training, 20% testing)\n",
        "X_train, X_test, y_train, y_test = train_test_split(X, y, test_size=0.2, random_state=42)\n",
        "\n",
        "# Initialize the Logistic Regression model with One-vs-Rest (OvR) strategy for multiclass classification\n",
        "model = LogisticRegression(multi_class='ovr', solver='liblinear', max_iter=200)\n",
        "\n",
        "# Train the model\n",
        "model.fit(X_train, y_train)\n",
        "\n",
        "# Make predictions on the test set\n",
        "y_pred = model.predict(X_test)\n",
        "\n",
        "# Calculate and print the accuracy\n",
        "accuracy = accuracy_score(y_test, y_pred)\n",
        "print(f\"Model Accuracy with One-vs-Rest Strategy: {accuracy * 100:.2f}%\")\n",
        "\n",
        "# Print the coefficients (weights) of the model\n",
        "print(\"Model Coefficients (Weights):\")\n",
        "print(model.coef_)\n"
      ],
      "metadata": {
        "colab": {
          "base_uri": "https://localhost:8080/"
        },
        "id": "dplD1l6YLzdB",
        "outputId": "dc1ce34d-2ae8-4c6a-f6d7-3386625434ca"
      },
      "execution_count": 5,
      "outputs": [
        {
          "output_type": "stream",
          "name": "stdout",
          "text": [
            "Model Accuracy with One-vs-Rest Strategy: 100.00%\n",
            "Model Coefficients (Weights):\n",
            "[[ 0.3711229   1.409712   -2.15210117 -0.95474179]\n",
            " [ 0.49400451 -1.58897112  0.43717015 -1.11187838]\n",
            " [-1.55895271 -1.58893375  2.39874554  2.15556209]]\n"
          ]
        },
        {
          "output_type": "stream",
          "name": "stderr",
          "text": [
            "/usr/local/lib/python3.11/dist-packages/sklearn/linear_model/_logistic.py:1256: FutureWarning: 'multi_class' was deprecated in version 1.5 and will be removed in 1.7. Use OneVsRestClassifier(LogisticRegression(..)) instead. Leave it to its default value to avoid this warning.\n",
            "  warnings.warn(\n"
          ]
        }
      ]
    },
    {
      "cell_type": "code",
      "source": [
        "#6. Write a Python program to apply GridSearchCV to tune the hyperparameters (C and penalty) of Logistic Regression. Print the best parameters and accuracy"
      ],
      "metadata": {
        "id": "nfS9XOCVL6XJ"
      },
      "execution_count": null,
      "outputs": []
    },
    {
      "cell_type": "code",
      "source": [
        "from sklearn.model_selection import train_test_split, GridSearchCV\n",
        "\n",
        "# Load the Iris dataset\n",
        "data = load_iris()\n",
        "X = data.data  # Features\n",
        "y = data.target  # Labels\n",
        "\n",
        "# Split the dataset into training and testing sets (80% training, 20% testing)\n",
        "X_train, X_test, y_train, y_test = train_test_split(X, y, test_size=0.2, random_state=42)\n",
        "\n",
        "# Initialize the Logistic Regression model\n",
        "model = LogisticRegression(max_iter=200)\n",
        "\n",
        "# Define the parameter grid for hyperparameter tuning\n",
        "param_grid = {\n",
        "    'C': [0.01, 0.1, 1, 10, 100],  # Regularization strength\n",
        "    'penalty': ['l1', 'l2'],       # Regularization types (L1 or L2)\n",
        "}\n",
        "\n",
        "# Initialize GridSearchCV with 5-fold cross-validation\n",
        "grid_search = GridSearchCV(estimator=model, param_grid=param_grid, cv=5, verbose=1)\n",
        "\n",
        "# Perform the grid search to find the best hyperparameters\n",
        "grid_search.fit(X_train, y_train)\n",
        "\n",
        "# Print the best parameters found by GridSearchCV\n",
        "print(f\"Best Parameters: {grid_search.best_params_}\")\n",
        "\n",
        "# Make predictions on the test set using the best model\n",
        "best_model = grid_search.best_estimator_\n",
        "y_pred = best_model.predict(X_test)\n",
        "\n",
        "# Calculate and print the accuracy of the best model\n",
        "accuracy = accuracy_score(y_test, y_pred)\n",
        "print(f\"Accuracy of the Best Model: {accuracy * 100:.2f}%\")\n"
      ],
      "metadata": {
        "colab": {
          "base_uri": "https://localhost:8080/"
        },
        "id": "6Nf1AIDaL-rY",
        "outputId": "6fb7964a-d92f-4b61-ab0f-c6ae2459d8a9"
      },
      "execution_count": 7,
      "outputs": [
        {
          "output_type": "stream",
          "name": "stdout",
          "text": [
            "Fitting 5 folds for each of 10 candidates, totalling 50 fits\n",
            "Best Parameters: {'C': 1, 'penalty': 'l2'}\n",
            "Accuracy of the Best Model: 100.00%\n"
          ]
        },
        {
          "output_type": "stream",
          "name": "stderr",
          "text": [
            "/usr/local/lib/python3.11/dist-packages/sklearn/model_selection/_validation.py:528: FitFailedWarning: \n",
            "25 fits failed out of a total of 50.\n",
            "The score on these train-test partitions for these parameters will be set to nan.\n",
            "If these failures are not expected, you can try to debug them by setting error_score='raise'.\n",
            "\n",
            "Below are more details about the failures:\n",
            "--------------------------------------------------------------------------------\n",
            "25 fits failed with the following error:\n",
            "Traceback (most recent call last):\n",
            "  File \"/usr/local/lib/python3.11/dist-packages/sklearn/model_selection/_validation.py\", line 866, in _fit_and_score\n",
            "    estimator.fit(X_train, y_train, **fit_params)\n",
            "  File \"/usr/local/lib/python3.11/dist-packages/sklearn/base.py\", line 1389, in wrapper\n",
            "    return fit_method(estimator, *args, **kwargs)\n",
            "           ^^^^^^^^^^^^^^^^^^^^^^^^^^^^^^^^^^^^^^\n",
            "  File \"/usr/local/lib/python3.11/dist-packages/sklearn/linear_model/_logistic.py\", line 1193, in fit\n",
            "    solver = _check_solver(self.solver, self.penalty, self.dual)\n",
            "             ^^^^^^^^^^^^^^^^^^^^^^^^^^^^^^^^^^^^^^^^^^^^^^^^^^^\n",
            "  File \"/usr/local/lib/python3.11/dist-packages/sklearn/linear_model/_logistic.py\", line 63, in _check_solver\n",
            "    raise ValueError(\n",
            "ValueError: Solver lbfgs supports only 'l2' or None penalties, got l1 penalty.\n",
            "\n",
            "  warnings.warn(some_fits_failed_message, FitFailedWarning)\n",
            "/usr/local/lib/python3.11/dist-packages/sklearn/model_selection/_search.py:1108: UserWarning: One or more of the test scores are non-finite: [       nan 0.85833333        nan 0.93333333        nan 0.96666667\n",
            "        nan 0.94166667        nan 0.95      ]\n",
            "  warnings.warn(\n"
          ]
        }
      ]
    },
    {
      "cell_type": "code",
      "source": [
        "#7. Write a Python program to evaluate Logistic Regression using Stratified K-Fold Cross-Validation. Print the average accuracyC"
      ],
      "metadata": {
        "id": "qPkYS28MMFKW"
      },
      "execution_count": null,
      "outputs": []
    },
    {
      "cell_type": "code",
      "source": [
        "# Importing necessary libraries\n",
        "\n",
        "from sklearn.model_selection import StratifiedKFold\n",
        "\n",
        "\n",
        "# Load the Iris dataset\n",
        "data = load_iris()\n",
        "X = data.data  # Features\n",
        "y = data.target  # Labels\n",
        "\n",
        "# Initialize the Logistic Regression model\n",
        "model = LogisticRegression(max_iter=200)\n",
        "\n",
        "# Initialize StratifiedKFold with 5 splits\n",
        "skf = StratifiedKFold(n_splits=5, shuffle=True, random_state=42)\n",
        "\n",
        "# List to store the accuracy for each fold\n",
        "accuracies = []\n",
        "\n",
        "# Perform Stratified K-Fold Cross-Validation\n",
        "for train_index, test_index in skf.split(X, y):\n",
        "    X_train, X_test = X[train_index], X[test_index]\n",
        "    y_train, y_test = y[train_index], y[test_index]\n",
        "\n",
        "    # Train the model on the training data\n",
        "    model.fit(X_train, y_train)\n",
        "\n",
        "    # Make predictions on the test data\n",
        "    y_pred = model.predict(X_test)\n",
        "\n",
        "    # Calculate and store the accuracy for the current fold\n",
        "    accuracy = accuracy_score(y_test, y_pred)\n",
        "    accuracies.append(accuracy)\n",
        "\n",
        "# Calculate the average accuracy across all folds\n",
        "average_accuracy = np.mean(accuracies)\n",
        "\n",
        "# Print the average accuracy\n",
        "print(f\"Average Accuracy using Stratified K-Fold Cross-Validation: {average_accuracy * 100:.2f}%\")\n"
      ],
      "metadata": {
        "colab": {
          "base_uri": "https://localhost:8080/"
        },
        "id": "3LahmcCqMOEv",
        "outputId": "b67cc7f3-2e9a-4bd0-bb6d-192588066baa"
      },
      "execution_count": 8,
      "outputs": [
        {
          "output_type": "stream",
          "name": "stdout",
          "text": [
            "Average Accuracy using Stratified K-Fold Cross-Validation: 96.67%\n"
          ]
        }
      ]
    },
    {
      "cell_type": "code",
      "source": [
        "#8. Write a Python program to load a dataset from a CSV file, apply Logistic Regression, and evaluate its accuracy."
      ],
      "metadata": {
        "id": "QxWDhFrLMVgm"
      },
      "execution_count": null,
      "outputs": []
    },
    {
      "cell_type": "code",
      "source": [
        "# Importing necessary libraries\n",
        "import pandas as pd\n",
        "\n",
        "\n",
        "# Load the dataset from a CSV file\n",
        "# Replace 'your_dataset.csv' with the path to your CSV file\n",
        "df = pd.read_csv('your_dataset.csv')\n",
        "\n",
        "# Display the first few rows of the dataset to understand its structure\n",
        "print(df.head())\n",
        "\n",
        "# Assuming the last column is the target variable (y), and all others are features (X)\n",
        "X = df.iloc[:, :-1]  # Features (all columns except the last one)\n",
        "y = df.iloc[:, -1]   # Target (the last column)\n",
        "\n",
        "# Split the dataset into training and testing sets (80% training, 20% testing)\n",
        "X_train, X_test, y_train, y_test = train_test_split(X, y, test_size=0.2, random_state=42)\n",
        "\n",
        "# Initialize the Logistic Regression model\n",
        "model = LogisticRegression(max_iter=200)\n",
        "\n",
        "# Train the model on the training data\n",
        "model.fit(X_train, y_train)\n",
        "\n",
        "# Make predictions on the test data\n",
        "y_pred = model.predict(X_test)\n",
        "\n",
        "# Calculate the accuracy of the model\n",
        "accuracy = accuracy_score(y_test, y_pred)\n",
        "\n",
        "# Print the accuracy\n",
        "print(f\"Model Accuracy: {accuracy * 100:.2f}%\")\n"
      ],
      "metadata": {
        "id": "ZFz7z57RMrka"
      },
      "execution_count": null,
      "outputs": []
    },
    {
      "cell_type": "code",
      "source": [
        "#9. Write a Python program to apply RandomizedSearchCV for tuning hyperparameters (C, penalty, solver) in Logistic Regression. Print the best parameters and accuracyM"
      ],
      "metadata": {
        "id": "rJkqRwiEMxwq"
      },
      "execution_count": null,
      "outputs": []
    },
    {
      "cell_type": "code",
      "source": [
        "# Importing necessary libraries\n",
        "\n",
        "from sklearn.model_selection import train_test_split, RandomizedSearchCV\n",
        "\n",
        "from scipy.stats import uniform, loguniform\n",
        "\n",
        "# Load the Iris dataset\n",
        "data = load_iris()\n",
        "X = data.data  # Features\n",
        "y = data.target  # Labels\n",
        "\n",
        "# Split the dataset into training and testing sets (80% training, 20% testing)\n",
        "X_train, X_test, y_train, y_test = train_test_split(X, y, test_size=0.2, random_state=42)\n",
        "\n",
        "# Initialize the Logistic Regression model\n",
        "model = LogisticRegression(max_iter=200)\n",
        "\n",
        "# Define the parameter distribution for RandomizedSearchCV\n",
        "param_dist = {\n",
        "    'C': loguniform(1e-6, 1e+6),  # Regularization strength (log scale)\n",
        "    'penalty': ['l1', 'l2'],       # Regularization types (L1 or L2)\n",
        "    'solver': ['liblinear', 'saga']  # Solvers that support L1 and L2 penalties\n",
        "}\n",
        "\n",
        "# Initialize RandomizedSearchCV with 5-fold cross-validation\n",
        "random_search = RandomizedSearchCV(estimator=model, param_distributions=param_dist,\n",
        "                                   n_iter=100, cv=5, random_state=42, n_jobs=-1, verbose=1)\n",
        "\n",
        "# Perform the randomized search to find the best hyperparameters\n",
        "random_search.fit(X_train, y_train)\n",
        "\n",
        "# Print the best parameters found by RandomizedSearchCV\n",
        "print(f\"Best Parameters: {random_search.best_params_}\")\n",
        "\n",
        "# Make predictions on the test set using the best model\n",
        "best_model = random_search.best_estimator_\n",
        "y_pred = best_model.predict(X_test)\n",
        "\n",
        "# Calculate and print the accuracy of the best model\n",
        "accuracy = accuracy_score(y_test, y_pred)\n",
        "print(f\"Accuracy of the Best Model: {accuracy * 100:.2f}%\")\n"
      ],
      "metadata": {
        "colab": {
          "base_uri": "https://localhost:8080/"
        },
        "id": "durm-P2_M3Dd",
        "outputId": "16cd61c4-ee7b-4b7b-ff8d-0dfdfa51ccca"
      },
      "execution_count": 12,
      "outputs": [
        {
          "output_type": "stream",
          "name": "stdout",
          "text": [
            "Fitting 5 folds for each of 100 candidates, totalling 500 fits\n",
            "Best Parameters: {'C': np.float64(1.8741051434617306), 'penalty': 'l1', 'solver': 'saga'}\n",
            "Accuracy of the Best Model: 100.00%\n"
          ]
        },
        {
          "output_type": "stream",
          "name": "stderr",
          "text": [
            "/usr/local/lib/python3.11/dist-packages/sklearn/linear_model/_sag.py:348: ConvergenceWarning: The max_iter was reached which means the coef_ did not converge\n",
            "  warnings.warn(\n"
          ]
        }
      ]
    },
    {
      "cell_type": "code",
      "source": [
        "#10.  Write a Python program to implement One-vs-One (OvO) Multiclass Logistic Regression and print accuracy"
      ],
      "metadata": {
        "id": "sHflevvsNBYF"
      },
      "execution_count": null,
      "outputs": []
    },
    {
      "cell_type": "code",
      "source": [
        "# Importing necessary libraries\n",
        "\n",
        "from sklearn.multiclass import OneVsOneClassifier\n",
        "\n",
        "\n",
        "# Load the Iris dataset\n",
        "data = load_iris()\n",
        "X = data.data  # Features\n",
        "y = data.target  # Labels\n",
        "\n",
        "# Split the dataset into training and testing sets (80% training, 20% testing)\n",
        "X_train, X_test, y_train, y_test = train_test_split(X, y, test_size=0.2, random_state=42)\n",
        "\n",
        "# Initialize Logistic Regression model\n",
        "logreg = LogisticRegression(max_iter=200)\n",
        "\n",
        "# Wrap Logistic Regression in OneVsOneClassifier\n",
        "ovo_model = OneVsOneClassifier(logreg)\n",
        "\n",
        "# Train the model on the training data\n",
        "ovo_model.fit(X_train, y_train)\n",
        "\n",
        "# Make predictions on the test data\n",
        "y_pred = ovo_model.predict(X_test)\n",
        "\n",
        "# Calculate and print the accuracy of the model\n",
        "accuracy = accuracy_score(y_test, y_pred)\n",
        "print(f\"Accuracy of One-vs-One Logistic Regression Model: {accuracy * 100:.2f}%\")\n"
      ],
      "metadata": {
        "colab": {
          "base_uri": "https://localhost:8080/"
        },
        "id": "zeyDanr7NGJ3",
        "outputId": "9c694981-b82c-48a2-e11b-45067648222c"
      },
      "execution_count": 13,
      "outputs": [
        {
          "output_type": "stream",
          "name": "stdout",
          "text": [
            "Accuracy of One-vs-One Logistic Regression Model: 100.00%\n"
          ]
        }
      ]
    },
    {
      "cell_type": "code",
      "source": [
        "#11. Write a Python program to train a Logistic Regression model and visualize the confusion matrix for binary classificationM"
      ],
      "metadata": {
        "id": "z7DxDawWNNxh"
      },
      "execution_count": null,
      "outputs": []
    },
    {
      "cell_type": "code",
      "source": [
        "# Importing necessary libraries\n",
        "\n",
        "import seaborn as sns\n",
        "import matplotlib.pyplot as plt\n",
        "from sklearn.datasets import load_iris\n",
        "\n",
        "from sklearn.metrics import confusion_matrix, accuracy_score\n",
        "\n",
        "# Load the Iris dataset\n",
        "data = load_iris()\n",
        "X = data.data  # Features\n",
        "y = data.target  # Labels\n",
        "\n",
        "# For binary classification, let's consider only two classes (class 0 and class 1)\n",
        "X = X[y != 2]  # Select only the data points belonging to class 0 and class 1\n",
        "y = y[y != 2]  # Corresponding labels\n",
        "\n",
        "# Split the dataset into training and testing sets (80% training, 20% testing)\n",
        "X_train, X_test, y_train, y_test = train_test_split(X, y, test_size=0.2, random_state=42)\n",
        "\n",
        "# Initialize the Logistic Regression model\n",
        "model = LogisticRegression(max_iter=200)\n",
        "\n",
        "# Train the model on the training data\n",
        "model.fit(X_train, y_train)\n",
        "\n",
        "# Make predictions on the test data\n",
        "y_pred = model.predict(X_test)\n",
        "\n",
        "# Calculate the accuracy of the model\n",
        "accuracy = accuracy_score(y_test, y_pred)\n",
        "print(f\"Accuracy: {accuracy * 100:.2f}%\")\n",
        "\n",
        "# Compute confusion matrix\n",
        "cm = confusion_matrix(y_test, y_pred)\n",
        "\n",
        "# Visualize the confusion matrix using seaborn heatmap\n",
        "plt.figure(figsize=(6, 4))\n",
        "sns.heatmap(cm, annot=True, fmt=\"d\", cmap=\"Blues\", xticklabels=[\"Class 0\", \"Class 1\"], yticklabels=[\"Class 0\", \"Class 1\"])\n",
        "plt.title(\"Confusion Matrix for Binary Logistic Regression\")\n",
        "plt.xlabel(\"Predicted Labels\")\n",
        "plt.ylabel(\"True Labels\")\n",
        "plt.show()\n"
      ],
      "metadata": {
        "colab": {
          "base_uri": "https://localhost:8080/",
          "height": 427
        },
        "id": "-2BSSRgYNT-6",
        "outputId": "148c68c0-d95a-47a9-ca72-f782180bd5ef"
      },
      "execution_count": 14,
      "outputs": [
        {
          "output_type": "stream",
          "name": "stdout",
          "text": [
            "Accuracy: 100.00%\n"
          ]
        },
        {
          "output_type": "display_data",
          "data": {
            "text/plain": [
              "<Figure size 600x400 with 2 Axes>"
            ],
            "image/png": "[encoded data removed]"
          },
          "metadata": {}
        }
      ]
    },
    {
      "cell_type": "code",
      "source": [
        "#12. Write a Python program to train a Logistic Regression model and evaluate its performance using Precision, Recall, and F1-ScoreM"
      ],
      "metadata": {
        "id": "x6t5yF54NctB"
      },
      "execution_count": null,
      "outputs": []
    },
    {
      "cell_type": "code",
      "source": [
        "# Importing necessary libraries\n",
        "\n",
        "from sklearn.metrics import precision_score, recall_score, f1_score, accuracy_score\n",
        "\n",
        "# Load the Iris dataset\n",
        "data = load_iris()\n",
        "X = data.data  # Features\n",
        "y = data.target  # Labels\n",
        "\n",
        "# For binary classification, let's consider only two classes (class 0 and class 1)\n",
        "X = X[y != 2]  # Select only the data points belonging to class 0 and class 1\n",
        "y = y[y != 2]  # Corresponding labels\n",
        "\n",
        "# Split the dataset into training and testing sets (80% training, 20% testing)\n",
        "X_train, X_test, y_train, y_test = train_test_split(X, y, test_size=0.2, random_state=42)\n",
        "\n",
        "# Initialize the Logistic Regression model\n",
        "model = LogisticRegression(max_iter=200)\n",
        "\n",
        "# Train the model on the training data\n",
        "model.fit(X_train, y_train)\n",
        "\n",
        "# Make predictions on the test data\n",
        "y_pred = model.predict(X_test)\n",
        "\n",
        "# Calculate and print the accuracy of the model\n",
        "accuracy = accuracy_score(y_test, y_pred)\n",
        "print(f\"Accuracy: {accuracy * 100:.2f}%\")\n",
        "\n",
        "# Calculate Precision, Recall, and F1-Score\n",
        "precision = precision_score(y_test, y_pred)\n",
        "recall = recall_score(y_test, y_pred)\n",
        "f1 = f1_score(y_test, y_pred)\n",
        "\n",
        "# Print Precision, Recall, and F1-Score\n",
        "print(f\"Precision: {precision * 100:.2f}%\")\n",
        "print(f\"Recall: {recall * 100:.2f}%\")\n",
        "print(f\"F1-Score: {f1 * 100:.2f}%\")\n"
      ],
      "metadata": {
        "colab": {
          "base_uri": "https://localhost:8080/"
        },
        "id": "8A_bHh-XNjdJ",
        "outputId": "f0d2e87b-92c9-40b6-ef23-850c500dc41e"
      },
      "execution_count": 15,
      "outputs": [
        {
          "output_type": "stream",
          "name": "stdout",
          "text": [
            "Accuracy: 100.00%\n",
            "Precision: 100.00%\n",
            "Recall: 100.00%\n",
            "F1-Score: 100.00%\n"
          ]
        }
      ]
    },
    {
      "cell_type": "code",
      "source": [
        "#13. Write a Python program to train a Logistic Regression model on imbalanced data and apply class weights to improve model performance"
      ],
      "metadata": {
        "id": "bl4oDX1gNr3f"
      },
      "execution_count": null,
      "outputs": []
    },
    {
      "cell_type": "code",
      "source": [
        "from sklearn.datasets import make_classification\n",
        "from sklearn.metrics import classification_report, confusion_matrix\n",
        "# Create an imbalanced binary classification dataset\n",
        "X, y = make_classification(n_samples=1000, n_features=20, n_informative=2,\n",
        "                           n_redundant=10, n_classes=2, weights=[0.9, 0.1], flip_y=0, random_state=42)\n",
        "\n",
        "# Split the dataset into training and testing sets (80% training, 20% testing)\n",
        "X_train, X_test, y_train, y_test = train_test_split(X, y, test_size=0.2, random_state=42)\n",
        "\n",
        "# Initialize the Logistic Regression model with class weights\n",
        "model = LogisticRegression(class_weight='balanced', max_iter=200)\n",
        "\n",
        "# Train the model on the training data\n",
        "model.fit(X_train, y_train)\n",
        "\n",
        "# Make predictions on the test data\n",
        "y_pred = model.predict(X_test)\n",
        "\n",
        "# Calculate the classification report and confusion matrix\n",
        "print(\"Classification Report:\")\n",
        "print(classification_report(y_test, y_pred))\n",
        "\n",
        "print(\"Confusion Matrix:\")\n",
        "cm = confusion_matrix(y_test, y_pred)\n",
        "print(cm)\n",
        "\n",
        "# Visualize the confusion matrix using matplotlib\n",
        "plt.figure(figsize=(6, 4))\n",
        "plt.imshow(cm, interpolation='nearest', cmap=plt.cm.Blues)\n",
        "plt.title(\"Confusion Matrix\")\n",
        "plt.colorbar()\n",
        "tick_marks = np.arange(2)\n",
        "plt.xticks(tick_marks, ['Class 0', 'Class 1'])\n",
        "plt.yticks(tick_marks, ['Class 0', 'Class 1'])\n",
        "plt.xlabel('Predicted Label')\n",
        "plt.ylabel('True Label')\n",
        "\n",
        "# Annotate confusion matrix\n",
        "thresh = cm.max() / 2.\n",
        "for i in range(2):\n",
        "    for j in range(2):\n",
        "        plt.text(j, i, cm[i, j], ha=\"center\", va=\"center\", color=\"white\" if cm[i, j] > thresh else \"black\")\n",
        "\n",
        "plt.show()\n"
      ],
      "metadata": {
        "colab": {
          "base_uri": "https://localhost:8080/",
          "height": 636
        },
        "id": "27me3BbCN10I",
        "outputId": "2831f091-e3a4-4f41-99bf-98e5e68d791c"
      },
      "execution_count": 18,
      "outputs": [
        {
          "output_type": "stream",
          "name": "stdout",
          "text": [
            "Classification Report:\n",
            "              precision    recall  f1-score   support\n",
            "\n",
            "           0       0.99      0.90      0.94       180\n",
            "           1       0.51      0.95      0.67        20\n",
            "\n",
            "    accuracy                           0.91       200\n",
            "   macro avg       0.75      0.93      0.81       200\n",
            "weighted avg       0.95      0.91      0.92       200\n",
            "\n",
            "Confusion Matrix:\n",
            "[[162  18]\n",
            " [  1  19]]\n"
          ]
        },
        {
          "output_type": "display_data",
          "data": {
            "text/plain": [
              "<Figure size 600x400 with 2 Axes>"
            ],
            "image/png": "[encoded data removed]"
          },
          "metadata": {}
        }
      ]
    },
    {
      "cell_type": "code",
      "source": [
        "#15. Write a Python program to apply feature scaling (Standardization) before training a Logistic Regression model. Evaluate its accuracy and compare results with and without scaling"
      ],
      "metadata": {
        "id": "SMFg3untOtmz"
      },
      "execution_count": null,
      "outputs": []
    },
    {
      "cell_type": "code",
      "source": [
        "\n",
        "from sklearn.preprocessing import StandardScaler\n",
        "\n",
        "# Load the Iris dataset\n",
        "data = load_iris()\n",
        "X = data.data  # Features\n",
        "y = data.target  # Labels\n",
        "\n",
        "# Split the dataset into training and testing sets (80% training, 20% testing)\n",
        "X_train, X_test, y_train, y_test = train_test_split(X, y, test_size=0.2, random_state=42)\n",
        "\n",
        "# Initialize the Logistic Regression model\n",
        "model = LogisticRegression(max_iter=200)\n",
        "\n",
        "# --- Without Feature Scaling ---\n",
        "# Train the model on the original data (without scaling)\n",
        "model.fit(X_train, y_train)\n",
        "\n",
        "# Make predictions on the test data\n",
        "y_pred_without_scaling = model.predict(X_test)\n",
        "\n",
        "# Calculate the accuracy without feature scaling\n",
        "accuracy_without_scaling = accuracy_score(y_test, y_pred_without_scaling)\n",
        "print(f\"Accuracy without scaling: {accuracy_without_scaling * 100:.2f}%\")\n",
        "\n",
        "# --- With Feature Scaling (Standardization) ---\n",
        "# Apply standardization (z-score scaling) to the data\n",
        "scaler = StandardScaler()\n",
        "X_train_scaled = scaler.fit_transform(X_train)\n",
        "X_test_scaled = scaler.transform(X_test)\n",
        "\n",
        "# Train the model on the scaled data\n",
        "model.fit(X_train_scaled, y_train)\n",
        "\n",
        "# Make predictions on the test data\n",
        "y_pred_with_scaling = model.predict(X_test_scaled)\n",
        "\n",
        "# Calculate the accuracy with feature scaling\n",
        "accuracy_with_scaling = accuracy_score(y_test, y_pred_with_scaling)\n",
        "print(f\"Accuracy with scaling: {accuracy_with_scaling * 100:.2f}%\")\n"
      ],
      "metadata": {
        "colab": {
          "base_uri": "https://localhost:8080/"
        },
        "id": "OaLZj_udO7Yy",
        "outputId": "a9a9038f-2de2-4223-cf4b-a2ddfd78e690"
      },
      "execution_count": 20,
      "outputs": [
        {
          "output_type": "stream",
          "name": "stdout",
          "text": [
            "Accuracy without scaling: 100.00%\n",
            "Accuracy with scaling: 100.00%\n"
          ]
        }
      ]
    },
    {
      "cell_type": "code",
      "source": [
        "#16.  Write a Python program to train Logistic Regression and evaluate its performance using ROC-AUC scoreM"
      ],
      "metadata": {
        "id": "C0chkt0OPDkm"
      },
      "execution_count": null,
      "outputs": []
    },
    {
      "cell_type": "code",
      "source": [
        "# Importing necessary libraries\n",
        "\n",
        "from sklearn.metrics import roc_auc_score, roc_curve\n",
        "\n",
        "\n",
        "# Load the Iris dataset (binary classification)\n",
        "data = load_iris()\n",
        "X = data.data  # Features\n",
        "y = data.target  # Labels\n",
        "\n",
        "# For ROC-AUC, we need a binary classification problem. We'll only use classes 0 and 1.\n",
        "X = X[y != 2]\n",
        "y = y[y != 2]\n",
        "\n",
        "# Split the dataset into training and testing sets (80% training, 20% testing)\n",
        "X_train, X_test, y_train, y_test = train_test_split(X, y, test_size=0.2, random_state=42)\n",
        "\n",
        "# Initialize the Logistic Regression model\n",
        "model = LogisticRegression()\n",
        "\n",
        "# Train the model on the training data\n",
        "model.fit(X_train, y_train)\n",
        "\n",
        "# Predict the probabilities on the test data\n",
        "y_probs = model.predict_proba(X_test)[:, 1]  # Get probabilities for class 1\n",
        "\n",
        "# Calculate the ROC-AUC score\n",
        "roc_auc = roc_auc_score(y_test, y_probs)\n",
        "print(f\"ROC-AUC Score: {roc_auc:.4f}\")\n",
        "\n",
        "# Plot the ROC curve\n",
        "fpr, tpr, thresholds = roc_curve(y_test, y_probs)\n",
        "\n",
        "plt.figure(figsize=(8, 6))\n",
        "plt.plot(fpr, tpr, color='blue', label='ROC Curve (area = %0.4f)' % roc_auc)\n",
        "plt.plot([0, 1], [0, 1], color='gray', linestyle='--')  # Diagonal line for random guessing\n",
        "plt.xlabel('False Positive Rate (FPR)')\n",
        "plt.ylabel('True Positive Rate (TPR)')\n",
        "plt.title('Receiver Operating Characteristic (ROC) Curve')\n",
        "plt.legend(loc='lower right')\n",
        "plt.grid(True)\n",
        "plt.show()\n",
        "\n",
        "\n"
      ],
      "metadata": {
        "colab": {
          "base_uri": "https://localhost:8080/",
          "height": 581
        },
        "id": "MAoSD36TPHDL",
        "outputId": "38ae4e62-45bf-4e84-d191-148a64bcee6f"
      },
      "execution_count": 21,
      "outputs": [
        {
          "output_type": "stream",
          "name": "stdout",
          "text": [
            "ROC-AUC Score: 1.0000\n"
          ]
        },
        {
          "output_type": "display_data",
          "data": {
            "text/plain": [
              "<Figure size 800x600 with 1 Axes>"
            ],
            "image/png": "[encoded data removed]"
          },
          "metadata": {}
        }
      ]
    },
    {
      "cell_type": "code",
      "source": [
        "#17. Write a Python program to train Logistic Regression using a custom learning rate (C=0.5) and evaluate accuracy"
      ],
      "metadata": {
        "id": "vanJbRVlPRHJ"
      },
      "execution_count": null,
      "outputs": []
    },
    {
      "cell_type": "code",
      "source": [
        "\n",
        "# Load the Iris dataset\n",
        "data = load_iris()\n",
        "X = data.data  # Features\n",
        "y = data.target  # Labels\n",
        "\n",
        "# For simplicity, we'll use only two classes (binary classification)\n",
        "X = X[y != 2]\n",
        "y = y[y != 2]\n",
        "\n",
        "# Split the dataset into training and testing sets (80% training, 20% testing)\n",
        "X_train, X_test, y_train, y_test = train_test_split(X, y, test_size=0.2, random_state=42)\n",
        "\n",
        "# Initialize the Logistic Regression model with custom C value (inverse of regularization strength)\n",
        "model = LogisticRegression(C=0.5, max_iter=200)\n",
        "\n",
        "# Train the model on the training data\n",
        "model.fit(X_train, y_train)\n",
        "\n",
        "# Make predictions on the test data\n",
        "y_pred = model.predict(X_test)\n",
        "\n",
        "# Calculate the accuracy of the model\n",
        "accuracy = accuracy_score(y_test, y_pred)\n",
        "print(f\"Accuracy: {accuracy * 100:.2f}%\")\n"
      ],
      "metadata": {
        "colab": {
          "base_uri": "https://localhost:8080/"
        },
        "id": "cOM5zl2CPV74",
        "outputId": "f3998fcc-9352-4028-b65d-1f4bc9e1a901"
      },
      "execution_count": 22,
      "outputs": [
        {
          "output_type": "stream",
          "name": "stdout",
          "text": [
            "Accuracy: 100.00%\n"
          ]
        }
      ]
    },
    {
      "cell_type": "code",
      "source": [
        "#18. Write a Python program to train Logistic Regression and identify important features based on model coefficients"
      ],
      "metadata": {
        "id": "bLu4HN2NPdLR"
      },
      "execution_count": null,
      "outputs": []
    },
    {
      "cell_type": "code",
      "source": [
        "\n",
        "\n",
        "# Load the Iris dataset\n",
        "data = load_iris()\n",
        "X = data.data  # Features\n",
        "y = data.target  # Labels\n",
        "\n",
        "# For simplicity, we'll use only two classes (binary classification)\n",
        "X = X[y != 2]\n",
        "y = y[y != 2]\n",
        "\n",
        "# Split the dataset into training and testing sets (80% training, 20% testing)\n",
        "X_train, X_test, y_train, y_test = train_test_split(X, y, test_size=0.2, random_state=42)\n",
        "\n",
        "# Apply Standardization (Feature Scaling)\n",
        "scaler = StandardScaler()\n",
        "X_train_scaled = scaler.fit_transform(X_train)\n",
        "X_test_scaled = scaler.transform(X_test)\n",
        "\n",
        "# Initialize the Logistic Regression model\n",
        "model = LogisticRegression()\n",
        "\n",
        "# Train the model on the training data\n",
        "model.fit(X_train_scaled, y_train)\n",
        "\n",
        "# Print the model coefficients\n",
        "coefficients = model.coef_[0]\n",
        "feature_names = data.feature_names\n",
        "\n",
        "print(\"Model Coefficients:\")\n",
        "for feature, coef in zip(feature_names, coefficients):\n",
        "    print(f\"{feature}: {coef:.4f}\")\n",
        "\n",
        "# Identify important features based on the absolute value of coefficients\n",
        "importance = np.abs(coefficients)\n",
        "sorted_indices = np.argsort(importance)[::-1]\n",
        "\n",
        "print(\"\\nImportant Features based on Coefficients:\")\n",
        "for index in sorted_indices:\n",
        "    print(f\"{feature_names[index]}: Importance = {importance[index]:.4f}\")\n"
      ],
      "metadata": {
        "colab": {
          "base_uri": "https://localhost:8080/"
        },
        "id": "l6DJhkrtPhAH",
        "outputId": "8e05a921-3c5a-45e6-9f8b-89c7bb80562a"
      },
      "execution_count": 23,
      "outputs": [
        {
          "output_type": "stream",
          "name": "stdout",
          "text": [
            "Model Coefficients:\n",
            "sepal length (cm): 0.8057\n",
            "sepal width (cm): -1.0671\n",
            "petal length (cm): 1.4642\n",
            "petal width (cm): 1.4738\n",
            "\n",
            "Important Features based on Coefficients:\n",
            "petal width (cm): Importance = 1.4738\n",
            "petal length (cm): Importance = 1.4642\n",
            "sepal width (cm): Importance = 1.0671\n",
            "sepal length (cm): Importance = 0.8057\n"
          ]
        }
      ]
    },
    {
      "cell_type": "code",
      "source": [
        "#19. Write a Python program to train Logistic Regression and evaluate its performance using Cohen’s Kappa Score"
      ],
      "metadata": {
        "id": "xkfTSYpZPoKn"
      },
      "execution_count": null,
      "outputs": []
    },
    {
      "cell_type": "code",
      "source": [
        "\n",
        "from sklearn.metrics import cohen_kappa_score\n",
        "\n",
        "# Load the Iris dataset\n",
        "data = load_iris()\n",
        "X = data.data  # Features\n",
        "y = data.target  # Labels\n",
        "\n",
        "# For simplicity, we'll use only two classes (binary classification)\n",
        "X = X[y != 2]\n",
        "y = y[y != 2]\n",
        "\n",
        "# Split the dataset into training and testing sets (80% training, 20% testing)\n",
        "X_train, X_test, y_train, y_test = train_test_split(X, y, test_size=0.2, random_state=42)\n",
        "\n",
        "# Initialize the Logistic Regression model\n",
        "model = LogisticRegression()\n",
        "\n",
        "# Train the model on the training data\n",
        "model.fit(X_train, y_train)\n",
        "\n",
        "# Make predictions on the test data\n",
        "y_pred = model.predict(X_test)\n",
        "\n",
        "# Calculate Cohen's Kappa score\n",
        "kappa_score = cohen_kappa_score(y_test, y_pred)\n",
        "print(f\"Cohen's Kappa Score: {kappa_score:.4f}\")\n"
      ],
      "metadata": {
        "colab": {
          "base_uri": "https://localhost:8080/"
        },
        "id": "S7TRB27IPtCr",
        "outputId": "24c7356b-87a1-4c29-a14c-7bb6583061e5"
      },
      "execution_count": 24,
      "outputs": [
        {
          "output_type": "stream",
          "name": "stdout",
          "text": [
            "Cohen's Kappa Score: 1.0000\n"
          ]
        }
      ]
    },
    {
      "cell_type": "code",
      "source": [
        " #20.Write a Python program to train Logistic Regression and visualize the Precision-Recall Curve for binary classificatio:"
      ],
      "metadata": {
        "id": "qXY0qP3PPy21"
      },
      "execution_count": null,
      "outputs": []
    },
    {
      "cell_type": "code",
      "source": [
        "\n",
        "from sklearn.metrics import precision_recall_curve\n",
        "from sklearn.preprocessing import label_binarize\n",
        "\n",
        "# Load the Iris dataset\n",
        "data = load_iris()\n",
        "X = data.data  # Features\n",
        "y = data.target  # Labels\n",
        "\n",
        "# For simplicity, we'll use only two classes (binary classification)\n",
        "X = X[y != 2]\n",
        "y = y[y != 2]\n",
        "\n",
        "# Split the dataset into training and testing sets (80% training, 20% testing)\n",
        "X_train, X_test, y_train, y_test = train_test_split(X, y, test_size=0.2, random_state=42)\n",
        "\n",
        "# Initialize the Logistic Regression model\n",
        "model = LogisticRegression()\n",
        "\n",
        "# Train the model on the training data\n",
        "model.fit(X_train, y_train)\n",
        "\n",
        "# Predict probabilities for the test data\n",
        "y_probs = model.predict_proba(X_test)[:, 1]  # Get the probability for class 1\n",
        "\n",
        "# Calculate precision and recall values\n",
        "precision, recall, _ = precision_recall_curve(y_test, y_probs)\n",
        "\n",
        "# Plot Precision-Recall curve\n",
        "plt.figure(figsize=(8, 6))\n",
        "plt.plot(recall, precision, color='b', label='Logistic Regression')\n",
        "plt.xlabel('Recall')\n",
        "plt.ylabel('Precision')\n",
        "plt.title('Precision-Recall Curve')\n",
        "plt.legend()\n",
        "plt.grid(True)\n",
        "plt.show()\n"
      ],
      "metadata": {
        "colab": {
          "base_uri": "https://localhost:8080/",
          "height": 564
        },
        "id": "l3dpRNswP5N4",
        "outputId": "191252bb-04bc-4dc5-d638-1b6068dbdd8e"
      },
      "execution_count": 25,
      "outputs": [
        {
          "output_type": "display_data",
          "data": {
            "text/plain": [
              "<Figure size 800x600 with 1 Axes>"
            ],
            "image/png": "[encoded data removed]"
          },
          "metadata": {}
        }
      ]
    },
    {
      "cell_type": "code",
      "source": [
        "#21.  Write a Python program to train Logistic Regression with different solvers (liblinear, saga, lbfgs) and compare their accuracy"
      ],
      "metadata": {
        "id": "2SbXvfOqQB1n"
      },
      "execution_count": null,
      "outputs": []
    },
    {
      "cell_type": "code",
      "source": [
        "\n",
        "\n",
        "# Load the Iris dataset\n",
        "data = load_iris()\n",
        "X = data.data  # Features\n",
        "y = data.target  # Labels\n",
        "\n",
        "# For simplicity, we'll use only two classes (binary classification)\n",
        "X = X[y != 2]\n",
        "y = y[y != 2]\n",
        "\n",
        "# Split the dataset into training and testing sets (80% training, 20% testing)\n",
        "X_train, X_test, y_train, y_test = train_test_split(X, y, test_size=0.2, random_state=42)\n",
        "\n",
        "# List of solvers to compare\n",
        "solvers = ['liblinear', 'saga', 'lbfgs']\n",
        "\n",
        "# Dictionary to store accuracy for each solver\n",
        "accuracy_dict = {}\n",
        "\n",
        "# Loop through each solver and train a Logistic Regression model\n",
        "for solver in solvers:\n",
        "    # Initialize the Logistic Regression model with the current solver\n",
        "    model = LogisticRegression(solver=solver, max_iter=200)\n",
        "\n",
        "    # Train the model on the training data\n",
        "    model.fit(X_train, y_train)\n",
        "\n",
        "    # Make predictions on the test data\n",
        "    y_pred = model.predict(X_test)\n",
        "\n",
        "    # Calculate accuracy and store in the dictionary\n",
        "    accuracy = accuracy_score(y_test, y_pred)\n",
        "    accuracy_dict[solver] = accuracy\n",
        "\n",
        "# Print the accuracy for each solver\n",
        "print(\"Accuracy for different solvers:\")\n",
        "for solver, accuracy in accuracy_dict.items():\n",
        "    print(f\"Solver: {solver}, Accuracy: {accuracy * 100:.2f}%\")\n",
        "\n"
      ],
      "metadata": {
        "colab": {
          "base_uri": "https://localhost:8080/"
        },
        "id": "-kPiiK2kQGe3",
        "outputId": "a6fd89dc-ba5e-4ee4-c896-b148d07bfdf4"
      },
      "execution_count": 26,
      "outputs": [
        {
          "output_type": "stream",
          "name": "stdout",
          "text": [
            "Accuracy for different solvers:\n",
            "Solver: liblinear, Accuracy: 100.00%\n",
            "Solver: saga, Accuracy: 100.00%\n",
            "Solver: lbfgs, Accuracy: 100.00%\n"
          ]
        },
        {
          "output_type": "stream",
          "name": "stderr",
          "text": [
            "/usr/local/lib/python3.11/dist-packages/sklearn/linear_model/_sag.py:348: ConvergenceWarning: The max_iter was reached which means the coef_ did not converge\n",
            "  warnings.warn(\n"
          ]
        }
      ]
    },
    {
      "cell_type": "code",
      "source": [
        "#22. Write a Python program to train Logistic Regression and evaluate its performance using Matthews Correlation Coefficient (MCC)M"
      ],
      "metadata": {
        "id": "oAfAjMfcQRsP"
      },
      "execution_count": null,
      "outputs": []
    },
    {
      "cell_type": "code",
      "source": [
        "\n",
        "from sklearn.metrics import matthews_corrcoef\n",
        "\n",
        "# Load the Iris dataset\n",
        "data = load_iris()\n",
        "X = data.data  # Features\n",
        "y = data.target  # Labels\n",
        "\n",
        "# For simplicity, we'll use only two classes (binary classification)\n",
        "X = X[y != 2]\n",
        "y = y[y != 2]\n",
        "\n",
        "# Split the dataset into training and testing sets (80% training, 20% testing)\n",
        "X_train, X_test, y_train, y_test = train_test_split(X, y, test_size=0.2, random_state=42)\n",
        "\n",
        "# Initialize the Logistic Regression model\n",
        "model = LogisticRegression()\n",
        "\n",
        "# Train the model on the training data\n",
        "model.fit(X_train, y_train)\n",
        "\n",
        "# Make predictions on the test data\n",
        "y_pred = model.predict(X_test)\n",
        "\n",
        "# Calculate Matthews Correlation Coefficient (MCC)\n",
        "mcc_score = matthews_corrcoef(y_test, y_pred)\n",
        "\n",
        "# Print the MCC score\n",
        "print(f\"Matthews Correlation Coefficient (MCC): {mcc_score:.4f}\")\n"
      ],
      "metadata": {
        "colab": {
          "base_uri": "https://localhost:8080/"
        },
        "id": "xyfXVmDNQb7J",
        "outputId": "52c754b2-600f-40f9-af58-71dae04f6e26"
      },
      "execution_count": 27,
      "outputs": [
        {
          "output_type": "stream",
          "name": "stdout",
          "text": [
            "Matthews Correlation Coefficient (MCC): 1.0000\n"
          ]
        }
      ]
    },
    {
      "cell_type": "code",
      "source": [
        "#23. Write a Python program to train Logistic Regression on both raw and standardized data. Compare their accuracy to see the impact of feature scalingM"
      ],
      "metadata": {
        "id": "Spm4yID6QdoW"
      },
      "execution_count": null,
      "outputs": []
    },
    {
      "cell_type": "code",
      "source": [
        "\n",
        "# Load the Iris dataset\n",
        "data = load_iris()\n",
        "X = data.data  # Features\n",
        "y = data.target  # Labels\n",
        "\n",
        "# For simplicity, we'll use only two classes (binary classification)\n",
        "X = X[y != 2]\n",
        "y = y[y != 2]\n",
        "\n",
        "# Split the dataset into training and testing sets (80% training, 20% testing)\n",
        "X_train, X_test, y_train, y_test = train_test_split(X, y, test_size=0.2, random_state=42)\n",
        "\n",
        "# Initialize the Logistic Regression model\n",
        "model = LogisticRegression()\n",
        "\n",
        "# Train and evaluate the model on raw data\n",
        "model.fit(X_train, y_train)\n",
        "y_pred_raw = model.predict(X_test)\n",
        "accuracy_raw = accuracy_score(y_test, y_pred_raw)\n",
        "\n",
        "# Standardize the data using StandardScaler\n",
        "scaler = StandardScaler()\n",
        "X_train_scaled = scaler.fit_transform(X_train)\n",
        "X_test_scaled = scaler.transform(X_test)\n",
        "\n",
        "# Train and evaluate the model on standardized data\n",
        "model.fit(X_train_scaled, y_train)\n",
        "y_pred_scaled = model.predict(X_test_scaled)\n",
        "accuracy_scaled = accuracy_score(y_test, y_pred_scaled)\n",
        "\n",
        "# Print the accuracy comparison\n",
        "print(f\"Accuracy on raw data: {accuracy_raw * 100:.2f}%\")\n",
        "print(f\"Accuracy on standardized data: {accuracy_scaled * 100:.2f}%\")\n"
      ],
      "metadata": {
        "colab": {
          "base_uri": "https://localhost:8080/"
        },
        "id": "8KJe-2ABQjvK",
        "outputId": "a7178e1a-875f-4a6e-daae-740d92986132"
      },
      "execution_count": 28,
      "outputs": [
        {
          "output_type": "stream",
          "name": "stdout",
          "text": [
            "Accuracy on raw data: 100.00%\n",
            "Accuracy on standardized data: 100.00%\n"
          ]
        }
      ]
    },
    {
      "cell_type": "code",
      "source": [
        "#24. Write a Python program to train Logistic Regression and find the optimal C (regularization strength) using cross-validationM\n"
      ],
      "metadata": {
        "id": "ZiAWXa1KQn4-"
      },
      "execution_count": null,
      "outputs": []
    },
    {
      "cell_type": "code",
      "source": [
        "\n",
        "from sklearn.model_selection import train_test_split, GridSearchCV\n",
        "\n",
        "# Load the Iris dataset\n",
        "data = load_iris()\n",
        "X = data.data  # Features\n",
        "y = data.target  # Labels\n",
        "\n",
        "# For simplicity, we'll use only two classes (binary classification)\n",
        "X = X[y != 2]\n",
        "y = y[y != 2]\n",
        "\n",
        "# Split the dataset into training and testing sets (80% training, 20% testing)\n",
        "X_train, X_test, y_train, y_test = train_test_split(X, y, test_size=0.2, random_state=42)\n",
        "\n",
        "# Initialize the Logistic Regression model\n",
        "model = LogisticRegression(solver='liblinear')\n",
        "\n",
        "# Define the range of C values to test\n",
        "param_grid = {'C': np.logspace(-4, 4, 20)}\n",
        "\n",
        "# Set up GridSearchCV to perform cross-validation and search for the best C\n",
        "grid_search = GridSearchCV(estimator=model, param_grid=param_grid, cv=5, scoring='accuracy')\n",
        "\n",
        "# Perform the grid search\n",
        "grid_search.fit(X_train, y_train)\n",
        "\n",
        "# Print the best C value and the corresponding accuracy\n",
        "print(f\"Best C value: {grid_search.best_params_['C']}\")\n",
        "print(f\"Best cross-validation accuracy: {grid_search.best_score_:.4f}\")\n",
        "\n",
        "# Evaluate the model on the test set using the best C value\n",
        "best_model = grid_search.best_estimator_\n",
        "y_pred = best_model.predict(X_test)\n",
        "accuracy = accuracy_score(y_test, y_pred)\n",
        "\n",
        "# Print the accuracy on the test set\n",
        "print(f\"Test set accuracy with optimal C: {accuracy * 100:.2f}%\")\n"
      ],
      "metadata": {
        "colab": {
          "base_uri": "https://localhost:8080/"
        },
        "id": "gBDefumGQw_k",
        "outputId": "849ccfab-2005-4c80-9502-89a45ae17b35"
      },
      "execution_count": 29,
      "outputs": [
        {
          "output_type": "stream",
          "name": "stdout",
          "text": [
            "Best C value: 0.012742749857031334\n",
            "Best cross-validation accuracy: 1.0000\n",
            "Test set accuracy with optimal C: 100.00%\n"
          ]
        }
      ]
    },
    {
      "cell_type": "code",
      "source": [
        "#25. Write a Python program to train Logistic Regression, save the trained model using joblib, and load it again to make predictions."
      ],
      "metadata": {
        "id": "jrcTWq9oQ0LR"
      },
      "execution_count": null,
      "outputs": []
    },
    {
      "cell_type": "code",
      "source": [
        "# Import necessary libraries\n",
        "import joblib\n",
        "\n",
        "# Load the Iris dataset\n",
        "data = load_iris()\n",
        "X = data.data  # Features\n",
        "y = data.target  # Labels\n",
        "\n",
        "# For simplicity, we'll use only two classes (binary classification)\n",
        "X = X[y != 2]\n",
        "y = y[y != 2]\n",
        "\n",
        "# Split the dataset into training and testing sets (80% training, 20% testing)\n",
        "X_train, X_test, y_train, y_test = train_test_split(X, y, test_size=0.2, random_state=42)\n",
        "\n",
        "# Initialize the Logistic Regression model\n",
        "model = LogisticRegression(solver='liblinear')\n",
        "\n",
        "# Train the model on the training data\n",
        "model.fit(X_train, y_train)\n",
        "\n",
        "# Save the trained model to a file using joblib\n",
        "joblib.dump(model, 'logistic_regression_model.pkl')\n",
        "print(\"Model saved successfully!\")\n",
        "\n",
        "# Load the model from the file\n",
        "loaded_model = joblib.load('logistic_regression_model.pkl')\n",
        "print(\"Model loaded successfully!\")\n",
        "\n",
        "# Evaluate the model on the test data using the loaded model\n",
        "y_pred = loaded_model.predict(X_test)\n",
        "accuracy = accuracy_score(y_test, y_pred)\n",
        "\n",
        "# Print the accuracy of the loaded model on the test set\n",
        "print(f\"Accuracy of the loaded model: {accuracy * 100:.2f}%\")\n"
      ],
      "metadata": {
        "colab": {
          "base_uri": "https://localhost:8080/"
        },
        "id": "TZeMz7pyQ5Rh",
        "outputId": "31667a9d-796e-4d09-d2ae-47ccbc7eb2fb"
      },
      "execution_count": 30,
      "outputs": [
        {
          "output_type": "stream",
          "name": "stdout",
          "text": [
            "Model saved successfully!\n",
            "Model loaded successfully!\n",
            "Accuracy of the loaded model: 100.00%\n"
          ]
        }
      ]
    },
    {
      "cell_type": "code",
      "source": [],
      "metadata": {
        "id": "ckKkFr8OQ_ow"
      },
      "execution_count": null,
      "outputs": []
    }
  ]
}