{
  "nbformat": 4,
  "nbformat_minor": 0,
  "metadata": {
    "colab": {
      "provenance": []
    },
    "kernelspec": {
      "name": "python3",
      "display_name": "Python 3"
    },
    "language_info": {
      "name": "python"
    }
  },
  "cells": [
    {
      "cell_type": "markdown",
      "source": [
        "1. What is a Decision Tree, and how does it work"
      ],
      "metadata": {
        "id": "X22tHoRwWmDn"
      }
    },
    {
      "cell_type": "markdown",
      "source": [
        "A Decision Tree is a supervised machine learning algorithm used for classification and regression. It resembles a flowchart-like structure where internal nodes represent tests on features, branches represent outcomes of those tests, and leaf nodes represent final predictions or decisions.\n",
        "\n",
        "The process begins at the root node, where the algorithm chooses the best feature to split the dataset. This choice is based on criteria like Gini Impurity, Information Gain, or Variance Reduction—depending on whether it’s a classification or regression problem. The goal is to divide the data into subsets that are as pure as possible (i.e., contain mostly one class or have low variance).\n",
        "\n",
        "Once the best feature is chosen, the dataset is split accordingly, and the process repeats recursively on each subset. This continues until a stopping condition is met—such as reaching a maximum depth, achieving pure nodes, or running out of features to split on.\n",
        "\n",
        "In classification, each leaf node ends with the most common class among the data points in that subset. In regression, it ends with the average of the target values.\n",
        "\n",
        "Decision Trees are easy to interpret and visualize, making them useful for understanding how decisions are made. However, they can overfit the training data, especially when the tree is too deep. Techniques like pruning, setting a maximum depth, or using ensemble methods like Random Forests are often used to improve performance.\n",
        "\n",
        "Overall, Decision Trees provide a powerful and interpretable model, especially when simplicity and transparency are important."
      ],
      "metadata": {
        "id": "VcJaNjqwWqFx"
      }
    },
    {
      "cell_type": "markdown",
      "source": [
        "2.  What are impurity measures in Decision Trees"
      ],
      "metadata": {
        "id": "kugACUo6W6fb"
      }
    },
    {
      "cell_type": "markdown",
      "source": [
        "Impurity measures in Decision Trees are metrics used to evaluate how \"mixed\" or \"impure\" a set of data is at a node. The goal of the tree is to split data in a way that each resulting subset is as pure as possible — meaning most or all data points in a subset belong to the same class.\n",
        "\n",
        "Here are the most common impurity measures:\n",
        "\n",
        "1. Gini Impurity\n",
        "Measures the likelihood of misclassifying a randomly chosen element.\n",
        "\n",
        "Formula:\n",
        "\n",
        "𝐺\n",
        "𝑖\n",
        "𝑛\n",
        "𝑖\n",
        "=\n",
        "1\n",
        "−\n",
        "∑\n",
        "𝑖\n",
        "=\n",
        "1\n",
        "𝐶\n",
        "𝑝\n",
        "𝑖\n",
        "2\n",
        "Gini=1−\n",
        "i=1\n",
        "∑\n",
        "C\n",
        "​\n",
        " p\n",
        "i\n",
        "2\n",
        "​\n",
        "\n",
        "where\n",
        "𝑝\n",
        "𝑖\n",
        "p\n",
        "i\n",
        "​\n",
        "  is the proportion of samples belonging to class\n",
        "𝑖\n",
        "i, and\n",
        "𝐶\n",
        "C is the number of classes.\n",
        "\n",
        "Used in CART (Classification and Regression Trees).\n",
        "\n",
        "2. Entropy (Information Gain)\n",
        "Derived from information theory.\n",
        "\n",
        "Measures the amount of uncertainty or disorder in the data.\n",
        "\n",
        "Formula:\n",
        "\n",
        "𝐸\n",
        "𝑛\n",
        "𝑡\n",
        "𝑟\n",
        "𝑜\n",
        "𝑝\n",
        "𝑦\n",
        "=\n",
        "−\n",
        "∑\n",
        "𝑖\n",
        "=\n",
        "1\n",
        "𝐶\n",
        "𝑝\n",
        "𝑖\n",
        "log\n",
        "⁡\n",
        "2\n",
        "(\n",
        "𝑝\n",
        "𝑖\n",
        ")\n",
        "Entropy=−\n",
        "i=1\n",
        "∑\n",
        "C\n",
        "​\n",
        " p\n",
        "i\n",
        "​\n",
        " log\n",
        "2\n",
        "​\n",
        " (p\n",
        "i\n",
        "​\n",
        " )\n",
        "Information Gain is calculated by subtracting the weighted entropy of child nodes from the entropy of the parent.\n",
        "\n",
        "Common in ID3 and C4.5 algorithms.\n",
        "\n",
        "3. Variance Reduction (for Regression Trees)\n",
        "Measures the reduction in variance after a split.\n",
        "\n",
        "A split that minimizes the variance of the target values in each subset is considered better."
      ],
      "metadata": {
        "id": "RDwVJBYQW82m"
      }
    },
    {
      "cell_type": "markdown",
      "source": [
        "3. What is the mathematical formula for Gini Impurity"
      ],
      "metadata": {
        "id": "qhOieUQUXEeG"
      }
    },
    {
      "cell_type": "markdown",
      "source": [
        "The mathematical formula for Gini Impurity is:\n",
        "\n",
        "Gini\n",
        "=\n",
        "1\n",
        "−\n",
        "∑\n",
        "𝑖\n",
        "=\n",
        "1\n",
        "𝐶\n",
        "𝑝\n",
        "𝑖\n",
        "2\n",
        "Gini=1−\n",
        "i=1\n",
        "∑\n",
        "C\n",
        "​\n",
        " p\n",
        "i\n",
        "2\n",
        "​\n",
        "\n",
        "Where:\n",
        "𝐶\n",
        "C = number of classes\n",
        "\n",
        "𝑝\n",
        "𝑖\n",
        "p\n",
        "i\n",
        "​\n",
        "  = the proportion of samples belonging to class\n",
        "𝑖\n",
        "i at a given node\n",
        "\n",
        "Example:\n",
        "Suppose a node has 3 classes with the following proportions:\n",
        "\n",
        "Class A: 0.5\n",
        "\n",
        "Class B: 0.3\n",
        "\n",
        "Class C: 0.2\n",
        "\n",
        "Then:\n",
        "\n",
        "Gini\n",
        "=\n",
        "1\n",
        "−\n",
        "(\n",
        "0.5\n",
        "2\n",
        "+\n",
        "0.3\n",
        "2\n",
        "+\n",
        "0.2\n",
        "2\n",
        ")\n",
        "=\n",
        "1\n",
        "−\n",
        "(\n",
        "0.25\n",
        "+\n",
        "0.09\n",
        "+\n",
        "0.04\n",
        ")\n",
        "=\n",
        "1\n",
        "−\n",
        "0.38\n",
        "=\n",
        "0.62\n",
        "Gini=1−(0.5\n",
        "2\n",
        " +0.3\n",
        "2\n",
        " +0.2\n",
        "2\n",
        " )=1−(0.25+0.09+0.04)=1−0.38=0.62\n",
        "Interpretation:\n",
        "Gini = 0 means the node is pure (all samples belong to one class).\n",
        "\n",
        "Higher Gini values indicate more impurity or class mixture.\n",
        "\n",
        "The Decision Tree aims to split data to minimize Gini impurity at each node."
      ],
      "metadata": {
        "id": "ATqcl11vXHtZ"
      }
    },
    {
      "cell_type": "markdown",
      "source": [
        "4. What is the mathematical formula for Entropy"
      ],
      "metadata": {
        "id": "AXPMHHPrXOGv"
      }
    },
    {
      "cell_type": "markdown",
      "source": [
        "The mathematical formula for Entropy in the context of Decision Trees is:\n",
        "\n",
        "Entropy\n",
        "=\n",
        "−\n",
        "∑\n",
        "𝑖\n",
        "=\n",
        "1\n",
        "𝐶\n",
        "𝑝\n",
        "𝑖\n",
        "log\n",
        "⁡\n",
        "2\n",
        "(\n",
        "𝑝\n",
        "𝑖\n",
        ")\n",
        "Entropy=−\n",
        "i=1\n",
        "∑\n",
        "C\n",
        "​\n",
        " p\n",
        "i\n",
        "​\n",
        " log\n",
        "2\n",
        "​\n",
        " (p\n",
        "i\n",
        "​\n",
        " )\n",
        "Where:\n",
        "𝐶\n",
        "C = number of classes\n",
        "\n",
        "𝑝\n",
        "𝑖\n",
        "p\n",
        "i\n",
        "​\n",
        "  = proportion of samples belonging to class\n",
        "𝑖\n",
        "i at a given node\n",
        "\n",
        "The logarithm is base 2 because entropy measures information in bits\n",
        "\n",
        "Example:\n",
        "Suppose a node has two classes:\n",
        "\n",
        "Class A: 0.6\n",
        "\n",
        "Class B: 0.4\n",
        "\n",
        "Then:\n",
        "\n",
        "Entropy\n",
        "=\n",
        "−\n",
        "(\n",
        "0.6\n",
        "log\n",
        "⁡\n",
        "2\n",
        "0.6\n",
        "+\n",
        "0.4\n",
        "log\n",
        "⁡\n",
        "2\n",
        "0.4\n",
        ")\n",
        "≈\n",
        "−\n",
        "(\n",
        "0.6\n",
        "⋅\n",
        "(\n",
        "−\n",
        "0.737\n",
        ")\n",
        "+\n",
        "0.4\n",
        "⋅\n",
        "(\n",
        "−\n",
        "1.322\n",
        ")\n",
        ")\n",
        "≈\n",
        "−\n",
        "(\n",
        "−\n",
        "0.442\n",
        "+\n",
        "−\n",
        "0.529\n",
        ")\n",
        "=\n",
        "0.971\n",
        "Entropy=−(0.6log\n",
        "2\n",
        "​\n",
        " 0.6+0.4log\n",
        "2\n",
        "​\n",
        " 0.4)≈−(0.6⋅(−0.737)+0.4⋅(−1.322))≈−(−0.442+−0.529)=0.971\n",
        "Interpretation:\n",
        "Entropy = 0 means the node is pure (all samples belong to one class).\n",
        "\n",
        "Maximum entropy occurs when all classes are equally likely (e.g., 0.5/0.5 in binary classification), indicating maximum disorder.\n",
        "\n",
        "Decision Trees aim to minimize entropy through splits that increase information gain."
      ],
      "metadata": {
        "id": "J3_20UdOXRBy"
      }
    },
    {
      "cell_type": "markdown",
      "source": [
        "5. What is Information Gain, and how is it used in Decision Trees"
      ],
      "metadata": {
        "id": "2_bleSqtXX74"
      }
    },
    {
      "cell_type": "markdown",
      "source": [
        "Information Gain is a key concept in building Decision Trees, particularly in algorithms like ID3 and C4.5. It measures the reduction in entropy (or uncertainty) about the target variable after a dataset is split based on a feature. In essence, Information Gain tells us how much “information” a feature provides in classifying the data. The Decision Tree uses this measure to decide which feature to split on at each step, with the goal of creating the purest child nodes.\n",
        "\n",
        "Mathematically, Information Gain is calculated as the difference between the entropy of the parent node and the weighted sum of the entropies of the child nodes. The formula is:\n",
        "\n",
        "Information Gain\n",
        "=\n",
        "Entropy(Parent)\n",
        "−\n",
        "∑\n",
        "𝑘\n",
        "=\n",
        "1\n",
        "𝑛\n",
        "𝑁\n",
        "𝑘\n",
        "𝑁\n",
        "⋅\n",
        "Entropy(Child\n",
        "𝑘\n",
        ")\n",
        "Information Gain=Entropy(Parent)−\n",
        "k=1\n",
        "∑\n",
        "n\n",
        "​\n",
        "  \n",
        "N\n",
        "N\n",
        "k\n",
        "​\n",
        "\n",
        "​\n",
        " ⋅Entropy(Child\n",
        "k\n",
        "​\n",
        " )\n",
        "Here,\n",
        "𝑁\n",
        "N is the total number of samples in the parent node, and\n",
        "𝑁\n",
        "𝑘\n",
        "N\n",
        "k\n",
        "​\n",
        "  is the number in each child node. Entropy is a measure of impurity—higher entropy means more disorder or mixed classes, while lower entropy indicates purer groups.\n",
        "\n",
        "When building the tree, the algorithm calculates the Information Gain for each available feature and selects the one with the highest gain to split the data. This process continues recursively for each branch, creating a tree structure where each node represents a decision point based on the most informative features.\n",
        "\n",
        "By maximizing Information Gain at each step, the Decision Tree efficiently reduces uncertainty, leading to more accurate predictions. This makes Information Gain a fundamental guiding principle in Decision Tree learning."
      ],
      "metadata": {
        "id": "Z78IeoKvXavK"
      }
    },
    {
      "cell_type": "markdown",
      "source": [
        "6.  What is the difference between Gini Impurity and Entropy"
      ],
      "metadata": {
        "id": "1QkNhM_sXpQ6"
      }
    },
    {
      "cell_type": "markdown",
      "source": [
        "Gini Impurity and Entropy are two commonly used impurity measures in Decision Tree algorithms, helping to determine the best feature for splitting the dataset at each node. Although they aim to achieve the same goal—measuring how impure or mixed the data is—they differ slightly in their mathematical formulations and interpretations.\n",
        "\n",
        "Gini Impurity measures the probability of incorrectly classifying a randomly chosen element if it were randomly labeled according to the distribution of class labels in the node. It is calculated using the formula:\n",
        "\n",
        "𝐺\n",
        "𝑖\n",
        "𝑛\n",
        "𝑖\n",
        "=\n",
        "1\n",
        "−\n",
        "∑\n",
        "𝑝\n",
        "𝑖\n",
        "2\n",
        "Gini=1−∑p\n",
        "i\n",
        "2\n",
        "​\n",
        "\n",
        "where\n",
        "𝑝\n",
        "𝑖\n",
        "p\n",
        "i\n",
        "​\n",
        "  is the probability of an instance belonging to class\n",
        "𝑖\n",
        "i. Gini tends to perform well and is computationally simpler and faster since it doesn’t involve logarithmic calculations.\n",
        "\n",
        "Entropy, on the other hand, is derived from information theory and measures the amount of disorder or uncertainty in the dataset. It is given by the formula:\n",
        "\n",
        "𝐸\n",
        "𝑛\n",
        "𝑡\n",
        "𝑟\n",
        "𝑜\n",
        "𝑝\n",
        "𝑦\n",
        "=\n",
        "−\n",
        "∑\n",
        "𝑝\n",
        "𝑖\n",
        "log\n",
        "⁡\n",
        "2\n",
        "(\n",
        "𝑝\n",
        "𝑖\n",
        ")\n",
        "Entropy=−∑p\n",
        "i\n",
        "​\n",
        " log\n",
        "2\n",
        "​\n",
        " (p\n",
        "i\n",
        "​\n",
        " )\n",
        "This measure is used to calculate Information Gain, a key component of the ID3 and C4.5 algorithms. Entropy generally provides a more precise evaluation of impurity, especially when class distributions are uneven.\n",
        "\n",
        "In practice, both measures often lead to similar splits and comparable performance, though Gini Impurity is more commonly used in modern implementations like the CART algorithm due to its simplicity. Entropy, however, offers a more theoretically sound approach when dealing with information-based models. The choice between the two often comes down to the specific algorithm being used or preferences related to computation and interpretability."
      ],
      "metadata": {
        "id": "AawBcB_zXrnW"
      }
    },
    {
      "cell_type": "markdown",
      "source": [
        "7. What is the mathematical explanation behind Decision Trees"
      ],
      "metadata": {
        "id": "JzXDpi1WX3_W"
      }
    },
    {
      "cell_type": "markdown",
      "source": [
        "The mathematical foundation of Decision Trees lies in recursively partitioning the feature space based on a criterion that maximizes the separation of classes (in classification) or minimizes prediction error (in regression). The goal is to build a tree structure where each internal node corresponds to a decision based on a feature, and each leaf node represents a prediction.\n",
        "\n",
        "🔷 For Classification Trees:\n",
        "Select the Best Split: At each node, the algorithm evaluates all possible splits across all features. For each split:\n",
        "\n",
        "Compute the impurity of the parent node (e.g., Gini or Entropy).\n",
        "\n",
        "Compute the impurity of each child node.\n",
        "\n",
        "Calculate the weighted average impurity of the child nodes.\n",
        "\n",
        "Compute the gain:\n",
        "\n",
        "Gain\n",
        "=\n",
        "Impurity\n",
        "parent\n",
        "−\n",
        "∑\n",
        "𝑘\n",
        "=\n",
        "1\n",
        "𝑛\n",
        "𝑁\n",
        "𝑘\n",
        "𝑁\n",
        "⋅\n",
        "Impurity\n",
        "child\n",
        "𝑘\n",
        "Gain=Impurity\n",
        "parent\n",
        "​\n",
        " −\n",
        "k=1\n",
        "∑\n",
        "n\n",
        "​\n",
        "  \n",
        "N\n",
        "N\n",
        "k\n",
        "​\n",
        "\n",
        "​\n",
        " ⋅Impurity\n",
        "child\n",
        "k\n",
        "​\n",
        "\n",
        "​\n",
        "\n",
        "The split with the highest gain (or lowest weighted impurity) is chosen.\n",
        "\n",
        "Recursive Partitioning:\n",
        "\n",
        "This process repeats for each resulting child node until a stopping condition is met (pure node, max depth, min samples, etc.).\n",
        "\n",
        "🔷 For Regression Trees:\n",
        "The algorithm uses metrics like Mean Squared Error (MSE) or Mean Absolute Error (MAE).\n",
        "\n",
        "For each potential split:\n",
        "\n",
        "MSE\n",
        "=\n",
        "1\n",
        "𝑁\n",
        "∑\n",
        "𝑖\n",
        "=\n",
        "1\n",
        "𝑁\n",
        "(\n",
        "𝑦\n",
        "𝑖\n",
        "−\n",
        "𝑦\n",
        "^\n",
        ")\n",
        "2\n",
        "MSE=\n",
        "N\n",
        "1\n",
        "​\n",
        "  \n",
        "i=1\n",
        "∑\n",
        "N\n",
        "​\n",
        " (y\n",
        "i\n",
        "​\n",
        " −\n",
        "y\n",
        "^\n",
        "​\n",
        " )\n",
        "2\n",
        "\n",
        "The goal is to minimize the total MSE across child nodes after a split.\n",
        "\n"
      ],
      "metadata": {
        "id": "iQZLsuZnX6sx"
      }
    },
    {
      "cell_type": "markdown",
      "source": [
        "8. What is Pre-Pruning in Decision Trees"
      ],
      "metadata": {
        "id": "0p9L1rSeYEmA"
      }
    },
    {
      "cell_type": "markdown",
      "source": [
        "Pre-pruning in Decision Trees is a technique used to prevent overfitting by stopping the tree from growing too complex or deep. It involves placing restrictions on the tree’s growth during training, ensuring that it does not create overly specific splits that could lead to poor generalization to new data.\n",
        "\n",
        "Pre-pruning is typically achieved by setting certain criteria that limit the tree’s growth, such as:\n",
        "\n",
        "Maximum Depth: This restricts how deep the tree can grow. Limiting the depth prevents the tree from capturing too many fine-grained details, which could lead to overfitting.\n",
        "\n",
        "Minimum Samples per Leaf: This requires that a node must have a minimum number of samples before it can be split. If a node has fewer samples than this threshold, it becomes a leaf, reducing the chances of the tree learning from noise.\n",
        "\n",
        "Minimum Samples per Split: This condition ensures that a node has enough samples to split further. If the number of samples is too small, no further split occurs, helping to avoid creating overly specific branches.\n",
        "\n",
        "Maximum Features: This restricts the number of features to consider when choosing the best split, which can help prevent the model from focusing too heavily on irrelevant features.\n",
        "\n",
        "While pre-pruning reduces the risk of overfitting by limiting the complexity of the tree, it also carries the risk of underfitting. If pruning is too aggressive, the tree might not capture enough of the underlying patterns in the data, leading to poor model performance. Therefore, careful tuning of the pre-pruning parameters is essential for achieving the right balance between bias and variance."
      ],
      "metadata": {
        "id": "jblGklCdYGvY"
      }
    },
    {
      "cell_type": "markdown",
      "source": [
        "9. What is Post-Pruning in Decision Trees"
      ],
      "metadata": {
        "id": "9K-133PsYRAR"
      }
    },
    {
      "cell_type": "markdown",
      "source": [
        "Post-pruning in Decision Trees is a technique used to reduce overfitting by simplifying a fully grown tree after it has been trained. Unlike pre-pruning, which limits the tree's growth early, post-pruning allows the tree to develop fully and then removes parts of the tree that do not improve the model's performance on unseen data.\n",
        "\n",
        "The process begins by growing the tree to its maximum depth, capturing as much information from the training data as possible. Once the tree is fully grown, post-pruning evaluates subtrees (branches or leaf nodes) to see if pruning them improves generalization. The idea is to remove branches that capture noise or irrelevant patterns without contributing significantly to predictive power.\n",
        "\n",
        "One common method of post-pruning is cost-complexity pruning (CCP), which balances the tree's complexity and its error. It involves finding a subtree that minimizes the cost function:\n",
        "\n",
        "Cost\n",
        "=\n",
        "Error\n",
        "+\n",
        "𝛼\n",
        "×\n",
        "Tree Size\n",
        "Cost=Error+α×Tree Size\n",
        "where\n",
        "𝛼\n",
        "α controls the trade-off between tree size and error. A larger\n",
        "𝛼\n",
        "α results in more pruning, leading to a simpler tree.\n",
        "\n",
        "Post-pruning helps improve a model's performance on new, unseen data by removing unnecessary complexity. However, it can be computationally expensive since the tree must first be fully grown. There's also a risk of underfitting if too much pruning is applied, causing the tree to become too simplistic. Therefore, balancing pruning is key for optimal model performance."
      ],
      "metadata": {
        "id": "aZevILbsYTgh"
      }
    },
    {
      "cell_type": "markdown",
      "source": [
        "10. What is the difference between Pre-Pruning and Post-Pruning"
      ],
      "metadata": {
        "id": "TtjPLcV3YcI4"
      }
    },
    {
      "cell_type": "markdown",
      "source": [
        "Pre-pruning and Post-pruning are two techniques used in Decision Trees to prevent overfitting by controlling the tree's complexity, but they differ in when pruning occurs and how the tree’s growth is managed.\n",
        "\n",
        "Pre-pruning (early stopping) involves setting restrictions during the tree construction process, before the tree reaches its full depth. It stops the tree from growing further based on certain criteria, such as limiting the maximum depth, requiring a minimum number of samples per leaf or split, or limiting the number of leaf nodes. This method aims to prevent the tree from becoming too complex and overfitting the training data. However, pre-pruning can risk underfitting if the tree is stopped too early and misses important patterns in the data.\n",
        "\n",
        "Post-pruning, on the other hand, allows the tree to grow fully and fit the training data as well as possible. After the tree is fully grown, unnecessary branches or subtrees are removed based on their contribution to the tree’s performance. Cost-complexity pruning (CCP) is a common post-pruning method, which balances tree error and complexity by pruning subtrees that don’t significantly improve prediction accuracy. Post-pruning is typically more computationally expensive than pre-pruning because the tree must first be fully built, but it can help reduce overfitting by simplifying an overly complex tree.\n",
        "\n",
        "In summary, pre-pruning controls tree complexity during growth, while post-pruning removes unnecessary parts after the tree is built, with both methods aiming to balance bias and variance in the model."
      ],
      "metadata": {
        "id": "-aw8C35QYeg6"
      }
    },
    {
      "cell_type": "markdown",
      "source": [
        "11. What is a Decision Tree Regressor\n"
      ],
      "metadata": {
        "id": "t8w0lO9qYnid"
      }
    },
    {
      "cell_type": "markdown",
      "source": [
        "A Decision Tree Regressor is a type of Decision Tree algorithm specifically designed for regression tasks, where the goal is to predict continuous numerical values rather than categorical labels. It works by splitting the data into subsets based on feature values, and each leaf node of the tree represents a predicted numerical value.\n",
        "\n",
        "How It Works:\n",
        "The process starts by selecting the feature and threshold that best reduce the variance of the target variable. At each internal node, the data is split in such a way that the variance within the resulting child nodes is minimized. The tree continues splitting until a stopping condition is met (e.g., a maximum depth or minimum number of samples per leaf). Once the tree reaches its leaf nodes, the predicted value for each leaf is the mean of the target values of the training data in that node.\n",
        "\n",
        "Key Metrics:\n",
        "The algorithm typically uses Mean Squared Error (MSE) or Mean Absolute Error (MAE) to evaluate the quality of splits. These metrics help determine how well the split reduces the variance in the target variable.\n",
        "\n",
        "Advantages:\n",
        "Interpretability: The structure of the tree is easy to understand and visualize, making it an interpretable model.\n",
        "\n",
        "Non-Linearity: Decision Trees are capable of modeling complex, non-linear relationships between the features and the target variable.\n",
        "\n",
        "Disadvantages:\n",
        "Overfitting: If the tree is too deep, it may fit the noise in the data, leading to poor generalization.\n",
        "\n",
        "Instability: Small changes in the dataset can lead to drastically different tree structures.\n",
        "\n",
        "Overall, Decision Tree Regressors are a powerful, flexible tool for regression tasks but require careful tuning to prevent overfitting."
      ],
      "metadata": {
        "id": "YuyAymDHYt8s"
      }
    },
    {
      "cell_type": "markdown",
      "source": [
        "12. What are the advantages and disadvantages of Decision Trees"
      ],
      "metadata": {
        "id": "ENM-L5QmY2Rr"
      }
    },
    {
      "cell_type": "markdown",
      "source": [
        "Advantages of Decision Trees:\n",
        "\n",
        "Easy to Understand and Interpret:\n",
        "\n",
        "Decision Trees are highly interpretable, as they provide a clear flowchart-like structure where each decision or split can be followed logically from root to leaf. This makes them suitable for situations where transparency is important.\n",
        "\n",
        "Non-Linear Relationships:\n",
        "\n",
        "Decision Trees can capture complex, non-linear relationships between features and target variables. Unlike linear models, they do not require a linear relationship assumption.\n",
        "\n",
        "No Need for Feature Scaling:\n",
        "\n",
        "Decision Trees do not require normalization or standardization of features. They are not sensitive to the scale of the data, which can be advantageous compared to models like Logistic Regression or SVMs.\n",
        "\n",
        "Handles Both Numerical and Categorical Data:\n",
        "\n",
        "Decision Trees can handle both numerical and categorical data, making them versatile for a wide range of applications.\n",
        "\n",
        "Works Well with Missing Values:\n",
        "\n",
        "Decision Trees can be adapted to handle missing values, making them more robust in real-world scenarios where data may be incomplete.\n",
        "\n",
        "Disadvantages of Decision Trees:\n",
        "\n",
        "Overfitting:\n",
        "\n",
        "One of the biggest drawbacks of Decision Trees is their tendency to overfit the training data, especially when the tree is too deep. A tree that is too complex may model noise in the data, leading to poor generalization on new, unseen data.\n",
        "\n",
        "Instability:\n",
        "\n",
        "Decision Trees can be highly unstable. A small change in the data can result in a completely different tree structure, making them sensitive to variations in the training data.\n",
        "\n",
        "Bias Toward Features with More Levels:\n",
        "\n",
        "Decision Trees may favor features with more levels (categories) when making splits, potentially leading to bias in situations where features have different numbers of categories.\n",
        "\n",
        "Poor Performance with Unstructured Data:\n",
        "\n",
        "Decision Trees may not perform well with unstructured data (like images, text, or time series) unless used in combination with other methods, such as feature engineering.\n",
        "\n",
        "Greedy Algorithm:\n",
        "\n",
        "The process of building a Decision Tree is greedy; it makes the best split at each step without considering future splits. This can lead to suboptimal trees that do not necessarily result in the best global solution.\n",
        "\n"
      ],
      "metadata": {
        "id": "u30EP-p2Y5vr"
      }
    },
    {
      "cell_type": "markdown",
      "source": [
        "13. How does a Decision Tree handle missing values"
      ],
      "metadata": {
        "id": "ZfSvPKOUZAIW"
      }
    },
    {
      "cell_type": "markdown",
      "source": [
        "A Decision Tree can handle missing values in various ways, depending on the implementation and the specific algorithm used. The general approach is to make decisions that minimize the impact of missing data while building the tree. Here are the common strategies used to handle missing values in Decision Trees:\n",
        "\n",
        "1. Surrogate Splits:\n",
        "Surrogate splits are alternative splits that the Decision Tree can use when the primary feature value is missing for a given data point. When the algorithm encounters a missing value in the feature selected for splitting, it checks if there are other features that could serve as a good alternative for the split. These are called surrogate splits and are chosen based on how well they match the primary feature’s splits on the training data.\n",
        "\n",
        "For example, if a split was made based on \"Age\" but a data point is missing this value, the tree might look for another feature, such as \"Income\" or \"Education\", to create a surrogate split that best approximates the decision made by \"Age\".\n",
        "\n",
        "2. Assigning the Most Common Value (for Categorical Data):\n",
        "If a missing value occurs for a categorical feature, the Decision Tree may choose to assign the most frequent or most common category from the non-missing values as the default value when splitting.\n",
        "\n",
        "For instance, if a feature \"Color\" is missing for some data points and the most common value is \"Red\", the tree may treat missing \"Color\" as \"Red\" when making decisions.\n",
        "\n",
        "3. Imputation (Filling Missing Values):\n",
        "Imputation is a technique used before building the tree where missing values are replaced with substituted values, often the mean, median, or mode (for numerical or categorical data, respectively) of that feature. After imputation, the Decision Tree algorithm proceeds as usual without needing special handling for missing values.\n",
        "\n",
        "Imputation is common in data preprocessing and can help ensure the model is trained on complete data.\n",
        "\n",
        "4. Use of Indicator Variables:\n",
        "Another technique is to create a new binary feature (indicator variable) to represent whether the original value was missing. This new feature can help the model account for the fact that the value is missing by adding an extra layer of information.\n",
        "\n",
        "For example, for a feature \"Age\", an additional binary variable \"Age_missing\" might be created, where 1 indicates the original value was missing, and 0 indicates it was present. This allows the tree to consider the absence of a value as a meaningful feature in the split process.\n",
        "\n",
        "5. Handling Missing Values During Training (via Splitting):\n",
        "In some cases, Decision Tree algorithms may handle missing values directly during the splitting process. When encountering a missing value in a feature, the algorithm can assign the sample to the branch (left or right) based on the majority decision from the training set for that split.\n",
        "\n",
        "The algorithm may also treat missing values as a separate category during splitting, allowing the tree to make a decision based on the distribution of missing values."
      ],
      "metadata": {
        "id": "Fkqil26CZCqU"
      }
    },
    {
      "cell_type": "markdown",
      "source": [
        "14. How does a Decision Tree handle categorical features"
      ],
      "metadata": {
        "id": "FeADAQUjZLFz"
      }
    },
    {
      "cell_type": "markdown",
      "source": [
        "A Decision Tree handles categorical features by making splits based on the values of those features. Unlike continuous features (where splits are made based on thresholds), categorical features are split by dividing the data into groups corresponding to each distinct category or combination of categories. Here’s how a Decision Tree handles categorical features:\n",
        "\n",
        "1. Handling Single Categorical Features:\n",
        "Splitting by Category: For a single categorical feature, the tree looks for the best split by separating the data into subsets based on the categories of that feature. The tree evaluates how well each possible split (i.e., grouping of categories) reduces the impurity (e.g., Gini impurity or entropy) at that node.\n",
        "\n",
        "For example, if a feature \"Color\" has categories \"Red\", \"Blue\", and \"Green\", the tree might try to split the data into \"Red\" vs. \"Blue or Green\" or \"Red or Blue\" vs. \"Green\", depending on which split results in the most significant reduction in impurity.\n",
        "\n",
        "2. Handling Multi-Class Categorical Features:\n",
        "In the case of multi-class categorical variables, Decision Trees evaluate all possible splits. If a feature has multiple categories (e.g., \"Red\", \"Blue\", \"Green\", \"Yellow\"), the algorithm tests different groupings of these categories to determine which one minimizes the impurity the most.\n",
        "\n",
        "For example, the tree might decide to split the categories into:\n",
        "\n",
        "Group 1: \"Red\" and \"Blue\"\n",
        "\n",
        "Group 2: \"Green\" and \"Yellow\" Or, it might make a different decision based on the distribution of the target variable within those categories.\n",
        "\n",
        "3. One-Hot Encoding:\n",
        "In some implementations, categorical features might be converted into one-hot encoded features before being used in a Decision Tree. One-hot encoding creates new binary features for each category. For example, if \"Color\" has three categories: \"Red\", \"Blue\", and \"Green\", it would be converted into three binary features:\n",
        "\n",
        "Color_Red: 1 if \"Red\", 0 otherwise\n",
        "\n",
        "Color_Blue: 1 if \"Blue\", 0 otherwise\n",
        "\n",
        "Color_Green: 1 if \"Green\", 0 otherwise\n",
        "\n",
        "This allows the tree to treat each category independently and find the best split accordingly.\n",
        "\n",
        "4. Handling High-Cardinality Categorical Features:\n",
        "When a categorical feature has many unique categories (e.g., zip codes or product IDs), the tree can encounter difficulties, such as overfitting or computational inefficiency. In such cases, Decision Trees may resort to grouping similar categories together or applying pruning to reduce the complexity of the tree.\n",
        "\n",
        "5. Binary Categorical Features:\n",
        "If a categorical feature is binary (i.e., it has only two categories, such as \"Yes\" or \"No\"), the Decision Tree treats it similarly to a continuous feature but without the need for thresholding. The tree simply chooses the best way to divide the data into the two categories at each split.\n",
        "\n",
        "6. Pruning and Overfitting:\n",
        "Categorical features with many unique values can lead to overfitting because the Decision Tree may create overly specific splits that do not generalize well to unseen data. Pruning techniques (either pre-pruning or post-pruning) are often employed to prevent this problem and ensure that the tree remains simple and generalizable."
      ],
      "metadata": {
        "id": "KsEfmemvZOD0"
      }
    },
    {
      "cell_type": "markdown",
      "source": [
        "15.  What are some real-world applications of Decision Trees?\n"
      ],
      "metadata": {
        "id": "TZlxFJ2XZWlj"
      }
    },
    {
      "cell_type": "markdown",
      "source": [
        "Decision Trees are widely used across various industries and real-world applications due to their simplicity, interpretability, and effectiveness in solving both regression and classification problems. Some common real-world applications include:\n",
        "\n",
        "1. Healthcare:\n",
        "Disease Diagnosis: Decision Trees are used to diagnose diseases by analyzing patient symptoms and medical history. For example, they can predict whether a patient has diabetes, heart disease, or cancer based on various health indicators like blood pressure, cholesterol levels, age, and family history.\n",
        "\n",
        "Medical Treatment Decision Support: They help in providing treatment recommendations based on patient conditions. For example, a tree could decide which type of chemotherapy treatment would be most effective based on a patient's specific medical profile.\n",
        "\n",
        "2. Finance and Banking:\n",
        "Credit Scoring: Financial institutions use Decision Trees to predict whether an individual will default on a loan based on features like credit score, income level, employment status, and debt-to-income ratio.\n",
        "\n",
        "Fraud Detection: Banks and payment systems use Decision Trees to detect fraudulent transactions by analyzing transaction patterns, user behavior, and past fraud cases.\n",
        "\n",
        "Risk Assessment: Decision Trees help in determining the risk level of investments and in making decisions regarding loan approval or insurance claims by analyzing various customer-related attributes.\n",
        "\n",
        "3. Retail and E-commerce:\n",
        "Customer Segmentation: Retailers use Decision Trees to segment customers based on purchasing behavior, demographics, and browsing history to target specific marketing campaigns or personalize recommendations.\n",
        "\n",
        "Churn Prediction: Decision Trees can predict which customers are likely to leave a service or stop purchasing from an e-commerce platform, helping businesses take preventive measures to retain customers.\n",
        "\n",
        "4. Marketing and Advertising:\n",
        "Customer Lifetime Value Prediction: Decision Trees can be used to predict the potential value of a customer over time, helping businesses allocate resources effectively and target high-value customers.\n",
        "\n",
        "Campaign Effectiveness: Marketers use Decision Trees to evaluate the effectiveness of advertising campaigns by analyzing customer responses based on various factors such as demographics, product interest, and engagement levels.\n",
        "\n",
        "5. Manufacturing and Quality Control:\n",
        "Predictive Maintenance: Decision Trees are used in manufacturing to predict equipment failures or the need for maintenance based on historical data like machine usage, temperature, and operational conditions, thus reducing downtime and maintenance costs.\n",
        "\n",
        "Quality Control: They help in detecting defects in products by analyzing production parameters, materials used, and environmental factors that may affect product quality.\n",
        "\n",
        "6. Energy and Utilities:\n",
        "Energy Consumption Prediction: Decision Trees can forecast energy consumption patterns based on historical usage data, weather conditions, and other factors, helping utilities optimize energy distribution.\n",
        "\n",
        "Smart Grid Management: They assist in predicting electricity demand in smart grids, enabling utilities to balance supply and demand efficiently.\n",
        "\n",
        "7. Government and Public Sector:\n",
        "Crime Prediction and Prevention: Law enforcement agencies use Decision Trees to predict crime hotspots based on factors such as historical crime data, time of day, location, and demographics, helping in resource allocation and crime prevention.\n",
        "\n",
        "Policy Evaluation: Decision Trees are used to assess the impact of public policies or social programs by analyzing outcomes based on various demographic and economic factors.\n",
        "\n",
        "8. Sports:\n",
        "Player Performance Prediction: Sports teams use Decision Trees to analyze player statistics and predict future performance or injury risks based on historical data, improving team management and strategy.\n",
        "\n",
        "Game Strategy Optimization: Decision Trees help in optimizing strategies during games by predicting the likelihood of various outcomes based on past performance and current game conditions.\n",
        "\n",
        "9. Natural Language Processing (NLP):\n",
        "Text Classification: Decision Trees are used in NLP tasks, such as spam email detection, sentiment analysis, and topic classification. They help categorize text data based on features like word frequency and sentence structure.\n",
        "\n",
        "Named Entity Recognition: Decision Trees can be used to identify and classify named entities in text (such as people, locations, and organizations) by analyzing the context and relationships between words.\n",
        "\n",
        "10. Environmental Monitoring:\n",
        "Pollution Level Prediction: Decision Trees can predict pollution levels based on factors such as weather conditions, traffic patterns, and industrial activity. This helps in managing air quality and taking preventive measures.\n",
        "\n",
        "Disaster Response Planning: They are used to predict and plan responses to natural disasters (e.g., floods, hurricanes) based on environmental factors like rainfall, wind speed, and historical disaster data."
      ],
      "metadata": {
        "id": "qif3WIe_ZZK8"
      }
    },
    {
      "cell_type": "markdown",
      "source": [
        "Practical"
      ],
      "metadata": {
        "id": "gBJzw7kkZi3z"
      }
    },
    {
      "cell_type": "markdown",
      "source": [
        "16.  Write a Python program to train a Decision Tree Classifier on the Iris dataset and print the model accuracy"
      ],
      "metadata": {
        "id": "3heplh1HZlla"
      }
    },
    {
      "cell_type": "code",
      "source": [
        "# Import necessary libraries\n",
        "from sklearn.datasets import load_iris\n",
        "from sklearn.model_selection import train_test_split\n",
        "from sklearn.tree import DecisionTreeClassifier\n",
        "from sklearn.metrics import accuracy_score\n",
        "\n",
        "# Load the Iris dataset\n",
        "iris = load_iris()\n",
        "X = iris.data  # Features\n",
        "y = iris.target  # Target labels\n",
        "\n",
        "# Split the data into training and testing sets (80% train, 20% test)\n",
        "X_train, X_test, y_train, y_test = train_test_split(X, y, test_size=0.2, random_state=42)\n",
        "\n",
        "# Initialize the Decision Tree Classifier\n",
        "clf = DecisionTreeClassifier(random_state=42)\n",
        "\n",
        "# Train the model on the training data\n",
        "clf.fit(X_train, y_train)\n",
        "\n",
        "# Make predictions on the test data\n",
        "y_pred = clf.predict(X_test)\n",
        "\n",
        "# Calculate and print the accuracy of the model\n",
        "accuracy = accuracy_score(y_test, y_pred)\n",
        "print(f\"Model Accuracy: {accuracy * 100:.2f}%\")\n"
      ],
      "metadata": {
        "colab": {
          "base_uri": "https://localhost:8080/"
        },
        "id": "__Nyu4rqZpe2",
        "outputId": "710e074d-c6f1-4506-f0a6-e70c304fb32a"
      },
      "execution_count": 1,
      "outputs": [
        {
          "output_type": "stream",
          "name": "stdout",
          "text": [
            "Model Accuracy: 100.00%\n"
          ]
        }
      ]
    },
    {
      "cell_type": "markdown",
      "source": [
        "17. Write a Python program to train a Decision Tree Classifier using Gini Impurity as the criterion and print the\n",
        "feature importances"
      ],
      "metadata": {
        "id": "GgBcOiIqZ11-"
      }
    },
    {
      "cell_type": "code",
      "source": [
        "\n",
        "# Load the Iris dataset\n",
        "iris = load_iris()\n",
        "X = iris.data  # Features\n",
        "y = iris.target  # Target labels\n",
        "\n",
        "# Split the data into training and testing sets (80% train, 20% test)\n",
        "X_train, X_test, y_train, y_test = train_test_split(X, y, test_size=0.2, random_state=42)\n",
        "\n",
        "# Initialize the Decision Tree Classifier with Gini Impurity as the criterion\n",
        "clf = DecisionTreeClassifier(criterion='gini', random_state=42)\n",
        "\n",
        "# Train the model on the training data\n",
        "clf.fit(X_train, y_train)\n",
        "\n",
        "# Get and print the feature importances\n",
        "feature_importances = clf.feature_importances_\n",
        "\n",
        "# Display feature importances for each feature in the Iris dataset\n",
        "print(\"Feature Importances:\")\n",
        "for feature, importance in zip(iris.feature_names, feature_importances):\n",
        "    print(f\"{feature}: {importance:.4f}\")\n"
      ],
      "metadata": {
        "colab": {
          "base_uri": "https://localhost:8080/"
        },
        "id": "PrqO6O_KZ3nj",
        "outputId": "b505f798-e738-4d23-d171-39d0cccd03d0"
      },
      "execution_count": 2,
      "outputs": [
        {
          "output_type": "stream",
          "name": "stdout",
          "text": [
            "Feature Importances:\n",
            "sepal length (cm): 0.0000\n",
            "sepal width (cm): 0.0167\n",
            "petal length (cm): 0.9061\n",
            "petal width (cm): 0.0772\n"
          ]
        }
      ]
    },
    {
      "cell_type": "markdown",
      "source": [
        "18. * Write a Python program to train a Decision Tree Classifier using Entropy as the splitting criterion and print the\n",
        "model accuracy"
      ],
      "metadata": {
        "id": "HmdffW5IZ_Sz"
      }
    },
    {
      "cell_type": "code",
      "source": [
        "\n",
        "\n",
        "# Load the Iris dataset\n",
        "iris = load_iris()\n",
        "X = iris.data  # Features\n",
        "y = iris.target  # Target labels\n",
        "\n",
        "# Split the data into training and testing sets (80% train, 20% test)\n",
        "X_train, X_test, y_train, y_test = train_test_split(X, y, test_size=0.2, random_state=42)\n",
        "\n",
        "# Initialize the Decision Tree Classifier with Entropy as the criterion\n",
        "clf = DecisionTreeClassifier(criterion='entropy', random_state=42)\n",
        "\n",
        "# Train the model on the training data\n",
        "clf.fit(X_train, y_train)\n",
        "\n",
        "# Make predictions on the test data\n",
        "y_pred = clf.predict(X_test)\n",
        "\n",
        "# Calculate and print the accuracy of the model\n",
        "accuracy = accuracy_score(y_test, y_pred)\n",
        "print(f\"Model Accuracy: {accuracy * 100:.2f}%\")\n"
      ],
      "metadata": {
        "colab": {
          "base_uri": "https://localhost:8080/"
        },
        "id": "c5wVrowDaB2q",
        "outputId": "08af98e8-21ff-4c54-cd25-cd633ecc2fac"
      },
      "execution_count": 3,
      "outputs": [
        {
          "output_type": "stream",
          "name": "stdout",
          "text": [
            "Model Accuracy: 100.00%\n"
          ]
        }
      ]
    },
    {
      "cell_type": "markdown",
      "source": [
        "19. Write a Python program to train a Decision Tree Regressor on a housing dataset and evaluate using Mean\n",
        "Squared Error (MSE)*"
      ],
      "metadata": {
        "id": "VUa6dJkvaHJB"
      }
    },
    {
      "cell_type": "code",
      "source": [
        "# Import necessary libraries\n",
        "from sklearn.datasets import fetch_california_housing\n",
        "from sklearn.model_selection import train_test_split\n",
        "from sklearn.tree import DecisionTreeRegressor\n",
        "from sklearn.metrics import mean_squared_error\n",
        "\n",
        "# Load the California housing dataset\n",
        "california_housing = fetch_california_housing()\n",
        "X = california_housing.data  # Features\n",
        "y = california_housing.target  # Target labels (house values)\n",
        "\n",
        "# Split the data into training and testing sets (80% train, 20% test)\n",
        "X_train, X_test, y_train, y_test = train_test_split(X, y, test_size=0.2, random_state=42)\n",
        "\n",
        "# Initialize the Decision Tree Regressor\n",
        "regressor = DecisionTreeRegressor(random_state=42)\n",
        "\n",
        "# Train the model on the training data\n",
        "regressor.fit(X_train, y_train)\n",
        "\n",
        "# Make predictions on the test data\n",
        "y_pred = regressor.predict(X_test)\n",
        "\n",
        "# Calculate Mean Squared Error (MSE)\n",
        "mse = mean_squared_error(y_test, y_pred)\n",
        "\n",
        "# Print the Mean Squared Error\n",
        "print(f\"Mean Squared Error: {mse:.2f}\")\n"
      ],
      "metadata": {
        "colab": {
          "base_uri": "https://localhost:8080/"
        },
        "id": "q44RwHS0aJ1k",
        "outputId": "775b5286-0c6b-498d-df3b-cbf2925c104c"
      },
      "execution_count": 4,
      "outputs": [
        {
          "output_type": "stream",
          "name": "stdout",
          "text": [
            "Mean Squared Error: 0.50\n"
          ]
        }
      ]
    },
    {
      "cell_type": "markdown",
      "source": [
        "20. * Write a Python program to train a Decision Tree Classifier and visualize the tree using graphviz*"
      ],
      "metadata": {
        "id": "_FfycHI-a0Jc"
      }
    },
    {
      "cell_type": "code",
      "source": [
        "# Import necessary libraries\n",
        "from sklearn.datasets import load_iris\n",
        "from sklearn.model_selection import train_test_split\n",
        "from sklearn.tree import DecisionTreeClassifier, export_graphviz\n",
        "from graphviz import Source\n",
        "\n",
        "# Load the Iris dataset\n",
        "iris = load_iris()\n",
        "X = iris.data  # Features\n",
        "y = iris.target  # Target labels\n",
        "\n",
        "# Split the data into training and testing sets (80% train, 20% test)\n",
        "X_train, X_test, y_train, y_test = train_test_split(X, y, test_size=0.2, random_state=42)\n",
        "\n",
        "# Initialize the Decision Tree Classifier\n",
        "clf = DecisionTreeClassifier(random_state=42)\n",
        "\n",
        "# Train the model on the training data\n",
        "clf.fit(X_train, y_train)\n",
        "\n",
        "# Visualize the Decision Tree\n",
        "dot_data = export_graphviz(clf, out_file=None,\n",
        "                           feature_names=iris.feature_names,\n",
        "                           class_names=iris.target_names,\n",
        "                           filled=True, rounded=True,\n",
        "                           special_characters=True)\n",
        "\n",
        "# Use Graphviz to render the tree\n",
        "graph = Source(dot_data)\n",
        "graph.render(\"decision_tree\")  # This will save the tree visualization as a file named 'decision_tree.pdf'\n",
        "\n",
        "# Display the tree in the notebook\n",
        "graph.view()\n"
      ],
      "metadata": {
        "colab": {
          "base_uri": "https://localhost:8080/",
          "height": 35
        },
        "id": "l_wdACcMa2Pf",
        "outputId": "93a8063c-8d95-4790-a2f9-eb97369171d6"
      },
      "execution_count": 5,
      "outputs": [
        {
          "output_type": "execute_result",
          "data": {
            "text/plain": [
              "'decision_tree.pdf'"
            ],
            "application/vnd.google.colaboratory.intrinsic+json": {
              "type": "string"
            }
          },
          "metadata": {},
          "execution_count": 5
        }
      ]
    },
    {
      "cell_type": "markdown",
      "source": [
        "21. Write a Python program to train a Decision Tree Classifier with a maximum depth of 3 and compare its\n",
        "accuracy with a fully grown tree*"
      ],
      "metadata": {
        "id": "AyJNCQawa8-Y"
      }
    },
    {
      "cell_type": "code",
      "source": [
        "\n",
        "\n",
        "# Load the Iris dataset\n",
        "iris = load_iris()\n",
        "X = iris.data  # Features\n",
        "y = iris.target  # Target labels\n",
        "\n",
        "# Split the data into training and testing sets (80% train, 20% test)\n",
        "X_train, X_test, y_train, y_test = train_test_split(X, y, test_size=0.2, random_state=42)\n",
        "\n",
        "# Initialize and train a Decision Tree Classifier with maximum depth of 3\n",
        "clf_max_depth_3 = DecisionTreeClassifier(max_depth=3, random_state=42)\n",
        "clf_max_depth_3.fit(X_train, y_train)\n",
        "\n",
        "# Initialize and train a fully grown Decision Tree Classifier (no max depth)\n",
        "clf_full_tree = DecisionTreeClassifier(random_state=42)\n",
        "clf_full_tree.fit(X_train, y_train)\n",
        "\n",
        "# Make predictions using both models\n",
        "y_pred_max_depth_3 = clf_max_depth_3.predict(X_test)\n",
        "y_pred_full_tree = clf_full_tree.predict(X_test)\n",
        "\n",
        "# Calculate the accuracy of both models\n",
        "accuracy_max_depth_3 = accuracy_score(y_test, y_pred_max_depth_3)\n",
        "accuracy_full_tree = accuracy_score(y_test, y_pred_full_tree)\n",
        "\n",
        "# Print the accuracies\n",
        "print(f\"Accuracy of Decision Tree (max depth 3): {accuracy_max_depth_3 * 100:.2f}%\")\n",
        "print(f\"Accuracy of Fully Grown Decision Tree: {accuracy_full_tree * 100:.2f}%\")\n"
      ],
      "metadata": {
        "colab": {
          "base_uri": "https://localhost:8080/"
        },
        "id": "CEky0LKRbJRj",
        "outputId": "d2a30f1f-eac9-4b58-e53d-b04e6c9398b8"
      },
      "execution_count": 6,
      "outputs": [
        {
          "output_type": "stream",
          "name": "stdout",
          "text": [
            "Accuracy of Decision Tree (max depth 3): 100.00%\n",
            "Accuracy of Fully Grown Decision Tree: 100.00%\n"
          ]
        }
      ]
    },
    {
      "cell_type": "markdown",
      "source": [
        "22. Write a Python program to train a Decision Tree Classifier using min_samples_split=5 and compare its\n",
        "accuracy with a default tree*"
      ],
      "metadata": {
        "id": "gDPlUMRZbQxm"
      }
    },
    {
      "cell_type": "code",
      "source": [
        "\n",
        "\n",
        "# Load the Iris dataset\n",
        "iris = load_iris()\n",
        "X = iris.data  # Features\n",
        "y = iris.target  # Target labels\n",
        "\n",
        "# Split the data into training and testing sets (80% train, 20% test)\n",
        "X_train, X_test, y_train, y_test = train_test_split(X, y, test_size=0.2, random_state=42)\n",
        "\n",
        "# Initialize and train a Decision Tree Classifier with min_samples_split=5\n",
        "clf_min_samples_split_5 = DecisionTreeClassifier(min_samples_split=5, random_state=42)\n",
        "clf_min_samples_split_5.fit(X_train, y_train)\n",
        "\n",
        "# Initialize and train a default Decision Tree Classifier\n",
        "clf_default_tree = DecisionTreeClassifier(random_state=42)\n",
        "clf_default_tree.fit(X_train, y_train)\n",
        "\n",
        "# Make predictions using both models\n",
        "y_pred_min_samples_split_5 = clf_min_samples_split_5.predict(X_test)\n",
        "y_pred_default_tree = clf_default_tree.predict(X_test)\n",
        "\n",
        "# Calculate the accuracy of both models\n",
        "accuracy_min_samples_split_5 = accuracy_score(y_test, y_pred_min_samples_split_5)\n",
        "accuracy_default_tree = accuracy_score(y_test, y_pred_default_tree)\n",
        "\n",
        "# Print the accuracies\n",
        "print(f\"Accuracy of Decision Tree (min_samples_split=5): {accuracy_min_samples_split_5 * 100:.2f}%\")\n",
        "print(f\"Accuracy of Default Decision Tree: {accuracy_default_tree * 100:.2f}%\")\n"
      ],
      "metadata": {
        "colab": {
          "base_uri": "https://localhost:8080/"
        },
        "id": "uWOtA3-MbXhv",
        "outputId": "22a9a259-a404-409c-d4be-efcd7bfc71db"
      },
      "execution_count": 7,
      "outputs": [
        {
          "output_type": "stream",
          "name": "stdout",
          "text": [
            "Accuracy of Decision Tree (min_samples_split=5): 100.00%\n",
            "Accuracy of Default Decision Tree: 100.00%\n"
          ]
        }
      ]
    },
    {
      "cell_type": "markdown",
      "source": [
        "23. Write a Python program to apply feature scaling before training a Decision Tree Classifier and compare its\n",
        "accuracy with unscaled data*"
      ],
      "metadata": {
        "id": "nLNUy9_Hbama"
      }
    },
    {
      "cell_type": "code",
      "source": [
        "# Import necessary libraries\n",
        "\n",
        "from sklearn.tree import DecisionTreeClassifier\n",
        "from sklearn.preprocessing import StandardScaler\n",
        "from sklearn.metrics import accuracy_score\n",
        "\n",
        "# Load the Iris dataset\n",
        "iris = load_iris()\n",
        "X = iris.data  # Features\n",
        "y = iris.target  # Target labels\n",
        "\n",
        "# Split the data into training and testing sets (80% train, 20% test)\n",
        "X_train, X_test, y_train, y_test = train_test_split(X, y, test_size=0.2, random_state=42)\n",
        "\n",
        "# Initialize the StandardScaler for feature scaling\n",
        "scaler = StandardScaler()\n",
        "\n",
        "# Apply feature scaling to the training and testing data\n",
        "X_train_scaled = scaler.fit_transform(X_train)\n",
        "X_test_scaled = scaler.transform(X_test)\n",
        "\n",
        "# Initialize and train a Decision Tree Classifier on the unscaled data\n",
        "clf_unscaled = DecisionTreeClassifier(random_state=42)\n",
        "clf_unscaled.fit(X_train, y_train)\n",
        "\n",
        "# Initialize and train a Decision Tree Classifier on the scaled data\n",
        "clf_scaled = DecisionTreeClassifier(random_state=42)\n",
        "clf_scaled.fit(X_train_scaled, y_train)\n",
        "\n",
        "# Make predictions using both models\n",
        "y_pred_unscaled = clf_unscaled.predict(X_test)\n",
        "y_pred_scaled = clf_scaled.predict(X_test_scaled)\n",
        "\n",
        "# Calculate the accuracy of both models\n",
        "accuracy_unscaled = accuracy_score(y_test, y_pred_unscaled)\n",
        "accuracy_scaled = accuracy_score(y_test, y_pred_scaled)\n",
        "\n",
        "# Print the accuracies\n",
        "print(f\"Accuracy of Decision Tree (Unscaled data): {accuracy_unscaled * 100:.2f}%\")\n",
        "print(f\"Accuracy of Decision Tree (Scaled data): {accuracy_scaled * 100:.2f}%\")\n"
      ],
      "metadata": {
        "colab": {
          "base_uri": "https://localhost:8080/"
        },
        "id": "QO9hSRfPbdZS",
        "outputId": "39066a93-5395-477b-8344-a84c5241fd32"
      },
      "execution_count": 8,
      "outputs": [
        {
          "output_type": "stream",
          "name": "stdout",
          "text": [
            "Accuracy of Decision Tree (Unscaled data): 100.00%\n",
            "Accuracy of Decision Tree (Scaled data): 100.00%\n"
          ]
        }
      ]
    },
    {
      "cell_type": "markdown",
      "source": [
        "24. Write a Python program to train a Decision Tree Classifier using One-vs-Rest (OvR) strategy for multiclass\n",
        "classification*\n"
      ],
      "metadata": {
        "id": "5seufYRVbl4u"
      }
    },
    {
      "cell_type": "code",
      "source": [
        "# Import necessary libraries\n",
        "\n",
        "from sklearn.multiclass import OneVsRestClassifier\n",
        "from sklearn.metrics import accuracy_score\n",
        "\n",
        "# Load the Iris dataset\n",
        "iris = load_iris()\n",
        "X = iris.data  # Features\n",
        "y = iris.target  # Target labels\n",
        "\n",
        "# Split the data into training and testing sets (80% train, 20% test)\n",
        "X_train, X_test, y_train, y_test = train_test_split(X, y, test_size=0.2, random_state=42)\n",
        "\n",
        "# Initialize the Decision Tree Classifier\n",
        "clf = DecisionTreeClassifier(random_state=42)\n",
        "\n",
        "# Wrap the classifier with the OneVsRestClassifier strategy\n",
        "ovr_clf = OneVsRestClassifier(clf)\n",
        "\n",
        "# Train the model on the training data\n",
        "ovr_clf.fit(X_train, y_train)\n",
        "\n",
        "# Make predictions on the test data\n",
        "y_pred = ovr_clf.predict(X_test)\n",
        "\n",
        "# Calculate the accuracy of the model\n",
        "accuracy = accuracy_score(y_test, y_pred)\n",
        "\n",
        "# Print the accuracy\n",
        "print(f\"Accuracy of One-vs-Rest Decision Tree Classifier: {accuracy * 100:.2f}%\")\n"
      ],
      "metadata": {
        "colab": {
          "base_uri": "https://localhost:8080/"
        },
        "id": "gT_5OR6Ebpfz",
        "outputId": "2455c513-5359-460c-a82d-10a858ad22cc"
      },
      "execution_count": 9,
      "outputs": [
        {
          "output_type": "stream",
          "name": "stdout",
          "text": [
            "Accuracy of One-vs-Rest Decision Tree Classifier: 100.00%\n"
          ]
        }
      ]
    },
    {
      "cell_type": "markdown",
      "source": [
        "25. Write a Python program to train a Decision Tree Classifier and display the feature importance scores"
      ],
      "metadata": {
        "id": "0-ix6MKbbyZr"
      }
    },
    {
      "cell_type": "code",
      "source": [
        "#\n",
        "import pandas as pd\n",
        "\n",
        "# Load the Iris dataset\n",
        "iris = load_iris()\n",
        "X = iris.data  # Features\n",
        "y = iris.target  # Target labels\n",
        "\n",
        "# Split the data into training and testing sets (80% train, 20% test)\n",
        "X_train, X_test, y_train, y_test = train_test_split(X, y, test_size=0.2, random_state=42)\n",
        "\n",
        "# Initialize the Decision Tree Classifier\n",
        "clf = DecisionTreeClassifier(random_state=42)\n",
        "\n",
        "# Train the model on the training data\n",
        "clf.fit(X_train, y_train)\n",
        "\n",
        "# Get the feature importance scores\n",
        "feature_importances = clf.feature_importances_\n",
        "\n",
        "# Create a DataFrame to display the feature importance scores\n",
        "feature_names = iris.feature_names\n",
        "importance_df = pd.DataFrame({\n",
        "    'Feature': feature_names,\n",
        "    'Importance': feature_importances\n",
        "})\n",
        "\n",
        "# Sort the feature importance scores in descending order\n",
        "importance_df = importance_df.sort_values(by='Importance', ascending=False)\n",
        "\n",
        "# Display the feature importance scores\n",
        "print(\"Feature Importance Scores:\")\n",
        "print(importance_df)\n"
      ],
      "metadata": {
        "colab": {
          "base_uri": "https://localhost:8080/"
        },
        "id": "VaHJdEVPb1r1",
        "outputId": "39f3c0a3-4b1e-4e81-a565-a3ed07fb2875"
      },
      "execution_count": 10,
      "outputs": [
        {
          "output_type": "stream",
          "name": "stdout",
          "text": [
            "Feature Importance Scores:\n",
            "             Feature  Importance\n",
            "2  petal length (cm)    0.906143\n",
            "3   petal width (cm)    0.077186\n",
            "1   sepal width (cm)    0.016670\n",
            "0  sepal length (cm)    0.000000\n"
          ]
        }
      ]
    },
    {
      "cell_type": "markdown",
      "source": [
        "26. Write a Python program to train a Decision Tree Regressor with max_depth=5 and compare its performance\n",
        "with an unrestricted tree"
      ],
      "metadata": {
        "id": "zqAwxi1rb8fT"
      }
    },
    {
      "cell_type": "code",
      "source": [
        "# Import necessary libraries\n",
        "from sklearn.datasets import fetch_california_housing\n",
        "from sklearn.model_selection import train_test_split\n",
        "from sklearn.tree import DecisionTreeRegressor\n",
        "from sklearn.metrics import mean_squared_error\n",
        "\n",
        "# Load the California Housing dataset\n",
        "data = fetch_california_housing()\n",
        "X = data.data  # Features\n",
        "y = data.target  # Target labels (house prices)\n",
        "\n",
        "# Split the data into training and testing sets (80% train, 20% test)\n",
        "X_train, X_test, y_train, y_test = train_test_split(X, y, test_size=0.2, random_state=42)\n",
        "\n",
        "# Initialize and train a Decision Tree Regressor with max_depth=5\n",
        "regressor_max_depth_5 = DecisionTreeRegressor(max_depth=5, random_state=42)\n",
        "regressor_max_depth_5.fit(X_train, y_train)\n",
        "\n",
        "# Initialize and train a fully grown Decision Tree Regressor (no max depth)\n",
        "regressor_full_tree = DecisionTreeRegressor(random_state=42)\n",
        "regressor_full_tree.fit(X_train, y_train)\n",
        "\n",
        "# Make predictions using both models\n",
        "y_pred_max_depth_5 = regressor_max_depth_5.predict(X_test)\n",
        "y_pred_full_tree = regressor_full_tree.predict(X_test)\n",
        "\n",
        "# Calculate the Mean Squared Error (MSE) for both models\n",
        "mse_max_depth_5 = mean_squared_error(y_test, y_pred_max_depth_5)\n",
        "mse_full_tree = mean_squared_error(y_test, y_pred_full_tree)\n",
        "\n",
        "# Print the MSE for both models\n",
        "print(f\"Mean Squared Error of Decision Tree (max_depth=5): {mse_max_depth_5:.2f}\")\n",
        "print(f\"Mean Squared Error of Fully Grown Decision Tree: {mse_full_tree:.2f}\")\n"
      ],
      "metadata": {
        "colab": {
          "base_uri": "https://localhost:8080/"
        },
        "id": "SfynXo_-b7ad",
        "outputId": "270a1a79-e338-4a79-eaca-56f1b662c3c4"
      },
      "execution_count": 11,
      "outputs": [
        {
          "output_type": "stream",
          "name": "stdout",
          "text": [
            "Mean Squared Error of Decision Tree (max_depth=5): 0.52\n",
            "Mean Squared Error of Fully Grown Decision Tree: 0.50\n"
          ]
        }
      ]
    },
    {
      "cell_type": "markdown",
      "source": [
        "27. Write a Python program to train a Decision Tree Classifier, apply Cost Complexity Pruning (CCP), and\n",
        "visualize its effect on accuracy*"
      ],
      "metadata": {
        "id": "K6pPdrO4cIS_"
      }
    },
    {
      "cell_type": "code",
      "source": [
        "# Import necessary libraries\n",
        "import matplotlib.pyplot as plt\n",
        "from sklearn.datasets import load_iris\n",
        "from sklearn.model_selection import train_test_split\n",
        "from sklearn.tree import DecisionTreeClassifier\n",
        "from sklearn.metrics import accuracy_score\n",
        "from sklearn.tree import plot_tree\n",
        "\n",
        "# Load the Iris dataset\n",
        "iris = load_iris()\n",
        "X = iris.data  # Features\n",
        "y = iris.target  # Target labels\n",
        "\n",
        "# Split the data into training and testing sets (80% train, 20% test)\n",
        "X_train, X_test, y_train, y_test = train_test_split(X, y, test_size=0.2, random_state=42)\n",
        "\n",
        "# Initialize the Decision Tree Classifier\n",
        "clf = DecisionTreeClassifier(random_state=42)\n",
        "\n",
        "# Train the classifier on the training data (without pruning)\n",
        "clf.fit(X_train, y_train)\n",
        "\n",
        "# Make predictions and evaluate accuracy\n",
        "y_pred = clf.predict(X_test)\n",
        "accuracy_no_pruning = accuracy_score(y_test, y_pred)\n",
        "\n",
        "# Print accuracy of the model without pruning\n",
        "print(f\"Accuracy of Decision Tree without pruning: {accuracy_no_pruning * 100:.2f}%\")\n",
        "\n",
        "# Get the effective alphas (ccp_alpha) for pruning and prune the tree\n",
        "path = clf.cost_complexity_pruning_path(X_train, y_train)\n",
        "\n",
        "# Get alphas and corresponding impurities\n",
        "alphas, impurities = path.ccp_alphas, path.impurities\n",
        "\n",
        "# Initialize lists to store accuracies for each value of alpha\n",
        "accuracies = []\n",
        "\n",
        "# Loop over different values of alpha (ccp_alpha) and prune the tree accordingly\n",
        "for alpha in alphas:\n",
        "    # Create a new classifier with the current alpha\n",
        "    clf_pruned = DecisionTreeClassifier(random_state=42, ccp_alpha=alpha)\n",
        "    clf_pruned.fit(X_train, y_train)\n",
        "\n",
        "    # Make predictions and calculate accuracy\n",
        "    y_pred_pruned = clf_pruned.predict(X_test)\n",
        "    accuracy_pruned = accuracy_score(y_test, y_pred_pruned)\n",
        "    accuracies.append(accuracy_pruned)\n",
        "\n",
        "# Plot the accuracy vs. alpha (ccp_alpha)\n",
        "plt.figure(figsize=(10, 6))\n",
        "plt.plot(alphas, accuracies, marker='o', label='Accuracy vs. alpha')\n",
        "plt.xlabel('Alpha (ccp_alpha)')\n",
        "plt.ylabel('Accuracy')\n",
        "plt.title('Effect of Cost Complexity Pruning on Accuracy')\n",
        "plt.grid(True)\n",
        "plt.show()\n",
        "\n",
        "# Find the optimal alpha for the highest accuracy\n",
        "best_alpha = alphas[accuracies.index(max(accuracies))]\n",
        "print(f\"Optimal alpha (ccp_alpha) for highest accuracy: {best_alpha}\")\n",
        "\n",
        "# Train the pruned model with the optimal alpha\n",
        "clf_pruned_optimal = DecisionTreeClassifier(random_state=42, ccp_alpha=best_alpha)\n",
        "clf_pruned_optimal.fit(X_train, y_train)\n",
        "\n",
        "# Final accuracy with optimal pruning\n",
        "y_pred_pruned_optimal = clf_pruned_optimal.predict(X_test)\n",
        "accuracy_pruned_optimal = accuracy_score(y_test, y_pred_pruned_optimal)\n",
        "\n",
        "# Print the accuracy after pruning\n",
        "print(f\"Accuracy of Decision Tree with optimal pruning: {accuracy_pruned_optimal * 100:.2f}%\")\n"
      ],
      "metadata": {
        "colab": {
          "base_uri": "https://localhost:8080/",
          "height": 616
        },
        "id": "XYhhq9TscTZe",
        "outputId": "563c8348-89ed-41e3-a7b2-c5a870933c8f"
      },
      "execution_count": 12,
      "outputs": [
        {
          "output_type": "stream",
          "name": "stdout",
          "text": [
            "Accuracy of Decision Tree without pruning: 100.00%\n"
          ]
        },
        {
          "output_type": "display_data",
          "data": {
            "text/plain": [
              "<Figure size 1000x600 with 1 Axes>"
            ],
            "image/png": "[encoded data removed]"
          },
          "metadata": {}
        },
        {
          "output_type": "stream",
          "name": "stdout",
          "text": [
            "Optimal alpha (ccp_alpha) for highest accuracy: 0.0\n",
            "Accuracy of Decision Tree with optimal pruning: 100.00%\n"
          ]
        }
      ]
    },
    {
      "cell_type": "markdown",
      "source": [
        "28. Write a Python program to train a Decision Tree Classifier and evaluate its performance using Precision,\n",
        "Recall, and F1-Score*"
      ],
      "metadata": {
        "id": "gfU3UZf7cVVg"
      }
    },
    {
      "cell_type": "code",
      "source": [
        "# Import necessary libraries\n",
        "from sklearn.datasets import load_iris\n",
        "from sklearn.model_selection import train_test_split\n",
        "from sklearn.tree import DecisionTreeClassifier\n",
        "from sklearn.metrics import precision_score, recall_score, f1_score, classification_report\n",
        "\n",
        "# Load the Iris dataset\n",
        "iris = load_iris()\n",
        "X = iris.data  # Features\n",
        "y = iris.target  # Target labels\n",
        "\n",
        "# Split the data into training and testing sets (80% train, 20% test)\n",
        "X_train, X_test, y_train, y_test = train_test_split(X, y, test_size=0.2, random_state=42)\n",
        "\n",
        "# Initialize the Decision Tree Classifier\n",
        "clf = DecisionTreeClassifier(random_state=42)\n",
        "\n",
        "# Train the model on the training data\n",
        "clf.fit(X_train, y_train)\n",
        "\n",
        "# Make predictions on the test data\n",
        "y_pred = clf.predict(X_test)\n",
        "\n",
        "# Calculate Precision, Recall, and F1-Score for each class\n",
        "precision = precision_score(y_test, y_pred, average='weighted')\n",
        "recall = recall_score(y_test, y_pred, average='weighted')\n",
        "f1 = f1_score(y_test, y_pred, average='weighted')\n",
        "\n",
        "# Print Precision, Recall, and F1-Score\n",
        "print(f\"Precision: {precision:.2f}\")\n",
        "print(f\"Recall: {recall:.2f}\")\n",
        "print(f\"F1-Score: {f1:.2f}\")\n",
        "\n",
        "# You can also get a classification report that includes Precision, Recall, F1-Score for each class\n",
        "print(\"\\nClassification Report:\")\n",
        "print(classification_report(y_test, y_pred))\n"
      ],
      "metadata": {
        "colab": {
          "base_uri": "https://localhost:8080/"
        },
        "id": "MoIOrLY4cZKE",
        "outputId": "b5073bea-6f4c-4d2e-8192-4603163c1f3f"
      },
      "execution_count": 13,
      "outputs": [
        {
          "output_type": "stream",
          "name": "stdout",
          "text": [
            "Precision: 1.00\n",
            "Recall: 1.00\n",
            "F1-Score: 1.00\n",
            "\n",
            "Classification Report:\n",
            "              precision    recall  f1-score   support\n",
            "\n",
            "           0       1.00      1.00      1.00        10\n",
            "           1       1.00      1.00      1.00         9\n",
            "           2       1.00      1.00      1.00        11\n",
            "\n",
            "    accuracy                           1.00        30\n",
            "   macro avg       1.00      1.00      1.00        30\n",
            "weighted avg       1.00      1.00      1.00        30\n",
            "\n"
          ]
        }
      ]
    },
    {
      "cell_type": "markdown",
      "source": [
        "29. Write a Python program to train a Decision Tree Classifier and visualize the confusion matrix using seaborn*"
      ],
      "metadata": {
        "id": "URWUcCU6ceyM"
      }
    },
    {
      "cell_type": "code",
      "source": [
        "# Import necessary libraries\n",
        "import seaborn as sns\n",
        "import matplotlib.pyplot as plt\n",
        "from sklearn.datasets import load_iris\n",
        "from sklearn.model_selection import train_test_split\n",
        "from sklearn.tree import DecisionTreeClassifier\n",
        "from sklearn.metrics import confusion_matrix\n",
        "\n",
        "# Load the Iris dataset\n",
        "iris = load_iris()\n",
        "X = iris.data  # Features\n",
        "y = iris.target  # Target labels\n",
        "\n",
        "# Split the data into training and testing sets (80% train, 20% test)\n",
        "X_train, X_test, y_train, y_test = train_test_split(X, y, test_size=0.2, random_state=42)\n",
        "\n",
        "# Initialize the Decision Tree Classifier\n",
        "clf = DecisionTreeClassifier(random_state=42)\n",
        "\n",
        "# Train the model on the training data\n",
        "clf.fit(X_train, y_train)\n",
        "\n",
        "# Make predictions on the test data\n",
        "y_pred = clf.predict(X_test)\n",
        "\n",
        "# Generate the confusion matrix\n",
        "cm = confusion_matrix(y_test, y_pred)\n",
        "\n",
        "# Visualize the confusion matrix using seaborn heatmap\n",
        "plt.figure(figsize=(6, 5))\n",
        "sns.heatmap(cm, annot=True, fmt=\"d\", cmap=\"Blues\", xticklabels=iris.target_names, yticklabels=iris.target_names)\n",
        "plt.xlabel('Predicted')\n",
        "plt.ylabel('Actual')\n",
        "plt.title('Confusion Matrix for Decision Tree Classifier')\n",
        "plt.show()\n"
      ],
      "metadata": {
        "colab": {
          "base_uri": "https://localhost:8080/",
          "height": 487
        },
        "id": "Iapbm-ZociEW",
        "outputId": "495d1ffb-96ba-4470-cd99-fde1d112c5a6"
      },
      "execution_count": 14,
      "outputs": [
        {
          "output_type": "display_data",
          "data": {
            "text/plain": [
              "<Figure size 600x500 with 2 Axes>"
            ],
            "image/png": "[encoded data removed]"
          },
          "metadata": {}
        }
      ]
    },
    {
      "cell_type": "markdown",
      "source": [
        "30. Write a Python program to train a Decision Tree Classifier and use GridSearchCV to find the optimal values\n",
        "for max_depth and min_samples_split."
      ],
      "metadata": {
        "id": "EiPf8D9Scomz"
      }
    },
    {
      "cell_type": "code",
      "source": [
        "# Import necessary libraries\n",
        "from sklearn.datasets import load_iris\n",
        "from sklearn.model_selection import train_test_split\n",
        "from sklearn.tree import DecisionTreeClassifier\n",
        "from sklearn.model_selection import GridSearchCV\n",
        "from sklearn.metrics import accuracy_score\n",
        "\n",
        "# Load the Iris dataset\n",
        "iris = load_iris()\n",
        "X = iris.data  # Features\n",
        "y = iris.target  # Target labels\n",
        "\n",
        "# Split the data into training and testing sets (80% train, 20% test)\n",
        "X_train, X_test, y_train, y_test = train_test_split(X, y, test_size=0.2, random_state=42)\n",
        "\n",
        "# Initialize the Decision Tree Classifier\n",
        "clf = DecisionTreeClassifier(random_state=42)\n",
        "\n",
        "# Define the parameter grid for max_depth and min_samples_split\n",
        "param_grid = {\n",
        "    'max_depth': [3, 5, 10, None],  # Different values of max_depth\n",
        "    'min_samples_split': [2, 5, 10]  # Different values of min_samples_split\n",
        "}\n",
        "\n",
        "# Initialize GridSearchCV to search for the best hyperparameters\n",
        "grid_search = GridSearchCV(estimator=clf, param_grid=param_grid, cv=5, scoring='accuracy')\n",
        "\n",
        "# Perform the grid search on the training data\n",
        "grid_search.fit(X_train, y_train)\n",
        "\n",
        "# Print the best hyperparameters found by GridSearchCV\n",
        "print(\"Best hyperparameters found by GridSearchCV:\")\n",
        "print(grid_search.best_params_)\n",
        "\n",
        "# Get the best model from GridSearchCV\n",
        "best_model = grid_search.best_estimator_\n",
        "\n",
        "# Make predictions with the best model on the test data\n",
        "y_pred = best_model.predict(X_test)\n",
        "\n",
        "# Evaluate the model's accuracy\n",
        "accuracy = accuracy_score(y_test, y_pred)\n",
        "\n",
        "# Print the accuracy of the model\n",
        "print(f\"Accuracy of the model with optimal hyperparameters: {accuracy * 100:.2f}%\")\n"
      ],
      "metadata": {
        "colab": {
          "base_uri": "https://localhost:8080/"
        },
        "id": "Q3Pxgo2ScrDL",
        "outputId": "2315407a-0702-4a9c-b68d-18f1093d71e1"
      },
      "execution_count": 15,
      "outputs": [
        {
          "output_type": "stream",
          "name": "stdout",
          "text": [
            "Best hyperparameters found by GridSearchCV:\n",
            "{'max_depth': 10, 'min_samples_split': 2}\n",
            "Accuracy of the model with optimal hyperparameters: 100.00%\n"
          ]
        }
      ]
    }
  ]
}